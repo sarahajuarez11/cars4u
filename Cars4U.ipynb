{
 "cells": [
  {
   "cell_type": "markdown",
   "metadata": {},
   "source": [
    "# Problem Statement\n",
    "\n",
    "There is a huge demand for used cars in the Indian Market today. As sales of new cars have slowed down in the recent past, the pre-owned car market has continued to grow over the past years and is larger than the new car market now. Cars4U is a budding tech start-up that aims to find footholes in this market.\n",
    "\n",
    "In 2018-19, while new car sales were recorded at 3.6 million units, around 4 million second-hand cars were bought and sold. There is a slowdown in new car sales and that could mean that the demand is shifting towards the pre-owned market. In fact, some car sellers replace their old cars with pre-owned cars instead of buying new ones. Unlike new cars, where price and supply are fairly deterministic and managed by OEMs (Original Equipment Manufacturer / except for dealership level discounts which come into play only in the last stage of the customer journey), used cars are very different beasts with huge uncertainty in both pricing and supply. Keeping this in mind, the pricing scheme of these used cars becomes important in order to grow in the market.\n",
    "\n",
    "As a senior data scientist at Cars4U, you have to come up with a pricing model that can effectively predict the price of used cars and can help the business in devising profitable strategies using differential pricing. For example, if the business knows the market price, it will never sell anything below it. \n",
    "\n",
    "1. Explore and visualize the dataset.\n",
    "2. Build a linear regression model to predict the prices of used cars.\n",
    "3. Generate a set of insights and recommendations that will help the business."
   ]
  },
  {
   "cell_type": "markdown",
   "metadata": {},
   "source": [
    "# Data Dictionary \n",
    "\n",
    "1. S.No. : Serial Number\n",
    "2. Name : Name of the car which includes Brand name and Model name\n",
    "3. Location : The location in which the car is being sold or is available for purchase Cities\n",
    "4. Year : Manufacturing year of the car\n",
    "5. Kilometers_driven : The total kilometers driven in the car by the previous owner(s) in KM.\n",
    "6. Fuel_Type : The type of fuel used by the car. (Petrol, Diesel, Electric, CNG, LPG)\n",
    "7. Transmission : The type of transmission used by the car. (Automatic / Manual)\n",
    "8. Owner : Type of ownership\n",
    "9. Mileage : The standard mileage offered by the car company in kmpl or km/kg\n",
    "10. Engine : The displacement volume of the engine in CC.\n",
    "11. Power : The maximum power of the engine in bhp.\n",
    "12. Seats : The number of seats in the car.\n",
    "13. New_Price : The price of a new car of the same model in INR Lakhs.(1 Lakh = 100, 000)\n",
    "14. Price : The price of the used car in INR Lakhs (1 Lakh = 100, 000)"
   ]
  },
  {
   "cell_type": "code",
   "execution_count": 1,
   "metadata": {},
   "outputs": [
    {
     "data": {
      "application/javascript": [
       "\n",
       "            setTimeout(function() {\n",
       "                var nbb_cell_id = 1;\n",
       "                var nbb_unformatted_code = \"# helps making the Python code more structured automatically\\n%load_ext nb_black\";\n",
       "                var nbb_formatted_code = \"# helps making the Python code more structured automatically\\n%load_ext nb_black\";\n",
       "                var nbb_cells = Jupyter.notebook.get_cells();\n",
       "                for (var i = 0; i < nbb_cells.length; ++i) {\n",
       "                    if (nbb_cells[i].input_prompt_number == nbb_cell_id) {\n",
       "                        if (nbb_cells[i].get_text() == nbb_unformatted_code) {\n",
       "                             nbb_cells[i].set_text(nbb_formatted_code);\n",
       "                        }\n",
       "                        break;\n",
       "                    }\n",
       "                }\n",
       "            }, 500);\n",
       "            "
      ],
      "text/plain": [
       "<IPython.core.display.Javascript object>"
      ]
     },
     "metadata": {},
     "output_type": "display_data"
    }
   ],
   "source": [
    "# helps making the Python code more structured automatically\n",
    "%load_ext nb_black"
   ]
  },
  {
   "cell_type": "markdown",
   "metadata": {},
   "source": [
    "# Import libraries"
   ]
  },
  {
   "cell_type": "code",
   "execution_count": 2,
   "metadata": {},
   "outputs": [
    {
     "data": {
      "application/javascript": [
       "\n",
       "            setTimeout(function() {\n",
       "                var nbb_cell_id = 2;\n",
       "                var nbb_unformatted_code = \"import numpy as np\\nimport pandas as pd\\nimport matplotlib.pyplot as plt\\nimport seaborn as sns\\nimport pylab\\nimport scipy.stats as stats\\n\\n\\nimport warnings\\n\\nwarnings.filterwarnings(\\\"ignore\\\")\\n\\n# To enable plotting graphs in Jupyter notebook\\n%matplotlib inline\\n\\n# To build linear regression_model\\nfrom sklearn.linear_model import LinearRegression\\n\\n# To check model performance\\nfrom sklearn.metrics import mean_absolute_error, mean_squared_error, r2_score\\n\\n# For z-score for treating outliers\\n# from scipy import stats\\n\\n# To do split data for linear regression model\\nfrom sklearn.model_selection import train_test_split\\n\\n# To build linear regression model with statsmodels\\nimport statsmodels.api as sm\\n\\n# To test multicollinearity\\nfrom statsmodels.stats.outliers_influence import variance_inflation_factor\\n\\n# To test homoscedasticity\\nimport statsmodels.stats.api as sms\\nfrom statsmodels.compat import lzip\";\n",
       "                var nbb_formatted_code = \"import numpy as np\\nimport pandas as pd\\nimport matplotlib.pyplot as plt\\nimport seaborn as sns\\nimport pylab\\nimport scipy.stats as stats\\n\\n\\nimport warnings\\n\\nwarnings.filterwarnings(\\\"ignore\\\")\\n\\n# To enable plotting graphs in Jupyter notebook\\n%matplotlib inline\\n\\n# To build linear regression_model\\nfrom sklearn.linear_model import LinearRegression\\n\\n# To check model performance\\nfrom sklearn.metrics import mean_absolute_error, mean_squared_error, r2_score\\n\\n# For z-score for treating outliers\\n# from scipy import stats\\n\\n# To do split data for linear regression model\\nfrom sklearn.model_selection import train_test_split\\n\\n# To build linear regression model with statsmodels\\nimport statsmodels.api as sm\\n\\n# To test multicollinearity\\nfrom statsmodels.stats.outliers_influence import variance_inflation_factor\\n\\n# To test homoscedasticity\\nimport statsmodels.stats.api as sms\\nfrom statsmodels.compat import lzip\";\n",
       "                var nbb_cells = Jupyter.notebook.get_cells();\n",
       "                for (var i = 0; i < nbb_cells.length; ++i) {\n",
       "                    if (nbb_cells[i].input_prompt_number == nbb_cell_id) {\n",
       "                        if (nbb_cells[i].get_text() == nbb_unformatted_code) {\n",
       "                             nbb_cells[i].set_text(nbb_formatted_code);\n",
       "                        }\n",
       "                        break;\n",
       "                    }\n",
       "                }\n",
       "            }, 500);\n",
       "            "
      ],
      "text/plain": [
       "<IPython.core.display.Javascript object>"
      ]
     },
     "metadata": {},
     "output_type": "display_data"
    }
   ],
   "source": [
    "import numpy as np\n",
    "import pandas as pd\n",
    "import matplotlib.pyplot as plt\n",
    "import seaborn as sns\n",
    "import pylab\n",
    "import scipy.stats as stats\n",
    "\n",
    "\n",
    "import warnings\n",
    "\n",
    "warnings.filterwarnings(\"ignore\")\n",
    "\n",
    "# To enable plotting graphs in Jupyter notebook\n",
    "%matplotlib inline\n",
    "\n",
    "# To build linear regression_model\n",
    "from sklearn.linear_model import LinearRegression\n",
    "\n",
    "# To check model performance\n",
    "from sklearn.metrics import mean_absolute_error, mean_squared_error, r2_score\n",
    "\n",
    "# For z-score for treating outliers\n",
    "# from scipy import stats\n",
    "\n",
    "# To do split data for linear regression model\n",
    "from sklearn.model_selection import train_test_split\n",
    "\n",
    "# To build linear regression model with statsmodels\n",
    "import statsmodels.api as sm\n",
    "\n",
    "# To test multicollinearity\n",
    "from statsmodels.stats.outliers_influence import variance_inflation_factor\n",
    "\n",
    "# To test homoscedasticity\n",
    "import statsmodels.stats.api as sms\n",
    "from statsmodels.compat import lzip"
   ]
  },
  {
   "cell_type": "markdown",
   "metadata": {},
   "source": [
    "# Overview of the Data"
   ]
  },
  {
   "cell_type": "code",
   "execution_count": 3,
   "metadata": {
    "scrolled": true
   },
   "outputs": [
    {
     "data": {
      "text/html": [
       "<div>\n",
       "<style scoped>\n",
       "    .dataframe tbody tr th:only-of-type {\n",
       "        vertical-align: middle;\n",
       "    }\n",
       "\n",
       "    .dataframe tbody tr th {\n",
       "        vertical-align: top;\n",
       "    }\n",
       "\n",
       "    .dataframe thead th {\n",
       "        text-align: right;\n",
       "    }\n",
       "</style>\n",
       "<table border=\"1\" class=\"dataframe\">\n",
       "  <thead>\n",
       "    <tr style=\"text-align: right;\">\n",
       "      <th></th>\n",
       "      <th>S.No.</th>\n",
       "      <th>Name</th>\n",
       "      <th>Location</th>\n",
       "      <th>Year</th>\n",
       "      <th>Kilometers_Driven</th>\n",
       "      <th>Fuel_Type</th>\n",
       "      <th>Transmission</th>\n",
       "      <th>Owner_Type</th>\n",
       "      <th>Mileage</th>\n",
       "      <th>Engine</th>\n",
       "      <th>Power</th>\n",
       "      <th>Seats</th>\n",
       "      <th>New_Price</th>\n",
       "      <th>Price</th>\n",
       "    </tr>\n",
       "  </thead>\n",
       "  <tbody>\n",
       "    <tr>\n",
       "      <th>0</th>\n",
       "      <td>0</td>\n",
       "      <td>Maruti Wagon R LXI CNG</td>\n",
       "      <td>Mumbai</td>\n",
       "      <td>2010</td>\n",
       "      <td>72000</td>\n",
       "      <td>CNG</td>\n",
       "      <td>Manual</td>\n",
       "      <td>First</td>\n",
       "      <td>26.6 km/kg</td>\n",
       "      <td>998 CC</td>\n",
       "      <td>58.16 bhp</td>\n",
       "      <td>5.0</td>\n",
       "      <td>NaN</td>\n",
       "      <td>1.75</td>\n",
       "    </tr>\n",
       "    <tr>\n",
       "      <th>1</th>\n",
       "      <td>1</td>\n",
       "      <td>Hyundai Creta 1.6 CRDi SX Option</td>\n",
       "      <td>Pune</td>\n",
       "      <td>2015</td>\n",
       "      <td>41000</td>\n",
       "      <td>Diesel</td>\n",
       "      <td>Manual</td>\n",
       "      <td>First</td>\n",
       "      <td>19.67 kmpl</td>\n",
       "      <td>1582 CC</td>\n",
       "      <td>126.2 bhp</td>\n",
       "      <td>5.0</td>\n",
       "      <td>NaN</td>\n",
       "      <td>12.50</td>\n",
       "    </tr>\n",
       "    <tr>\n",
       "      <th>2</th>\n",
       "      <td>2</td>\n",
       "      <td>Honda Jazz V</td>\n",
       "      <td>Chennai</td>\n",
       "      <td>2011</td>\n",
       "      <td>46000</td>\n",
       "      <td>Petrol</td>\n",
       "      <td>Manual</td>\n",
       "      <td>First</td>\n",
       "      <td>18.2 kmpl</td>\n",
       "      <td>1199 CC</td>\n",
       "      <td>88.7 bhp</td>\n",
       "      <td>5.0</td>\n",
       "      <td>8.61 Lakh</td>\n",
       "      <td>4.50</td>\n",
       "    </tr>\n",
       "    <tr>\n",
       "      <th>3</th>\n",
       "      <td>3</td>\n",
       "      <td>Maruti Ertiga VDI</td>\n",
       "      <td>Chennai</td>\n",
       "      <td>2012</td>\n",
       "      <td>87000</td>\n",
       "      <td>Diesel</td>\n",
       "      <td>Manual</td>\n",
       "      <td>First</td>\n",
       "      <td>20.77 kmpl</td>\n",
       "      <td>1248 CC</td>\n",
       "      <td>88.76 bhp</td>\n",
       "      <td>7.0</td>\n",
       "      <td>NaN</td>\n",
       "      <td>6.00</td>\n",
       "    </tr>\n",
       "    <tr>\n",
       "      <th>4</th>\n",
       "      <td>4</td>\n",
       "      <td>Audi A4 New 2.0 TDI Multitronic</td>\n",
       "      <td>Coimbatore</td>\n",
       "      <td>2013</td>\n",
       "      <td>40670</td>\n",
       "      <td>Diesel</td>\n",
       "      <td>Automatic</td>\n",
       "      <td>Second</td>\n",
       "      <td>15.2 kmpl</td>\n",
       "      <td>1968 CC</td>\n",
       "      <td>140.8 bhp</td>\n",
       "      <td>5.0</td>\n",
       "      <td>NaN</td>\n",
       "      <td>17.74</td>\n",
       "    </tr>\n",
       "  </tbody>\n",
       "</table>\n",
       "</div>"
      ],
      "text/plain": [
       "   S.No.                              Name    Location  Year  \\\n",
       "0      0            Maruti Wagon R LXI CNG      Mumbai  2010   \n",
       "1      1  Hyundai Creta 1.6 CRDi SX Option        Pune  2015   \n",
       "2      2                      Honda Jazz V     Chennai  2011   \n",
       "3      3                 Maruti Ertiga VDI     Chennai  2012   \n",
       "4      4   Audi A4 New 2.0 TDI Multitronic  Coimbatore  2013   \n",
       "\n",
       "   Kilometers_Driven Fuel_Type Transmission Owner_Type     Mileage   Engine  \\\n",
       "0              72000       CNG       Manual      First  26.6 km/kg   998 CC   \n",
       "1              41000    Diesel       Manual      First  19.67 kmpl  1582 CC   \n",
       "2              46000    Petrol       Manual      First   18.2 kmpl  1199 CC   \n",
       "3              87000    Diesel       Manual      First  20.77 kmpl  1248 CC   \n",
       "4              40670    Diesel    Automatic     Second   15.2 kmpl  1968 CC   \n",
       "\n",
       "       Power  Seats  New_Price  Price  \n",
       "0  58.16 bhp    5.0        NaN   1.75  \n",
       "1  126.2 bhp    5.0        NaN  12.50  \n",
       "2   88.7 bhp    5.0  8.61 Lakh   4.50  \n",
       "3  88.76 bhp    7.0        NaN   6.00  \n",
       "4  140.8 bhp    5.0        NaN  17.74  "
      ]
     },
     "execution_count": 3,
     "metadata": {},
     "output_type": "execute_result"
    },
    {
     "data": {
      "application/javascript": [
       "\n",
       "            setTimeout(function() {\n",
       "                var nbb_cell_id = 3;\n",
       "                var nbb_unformatted_code = \"# Load the data into pandas dataframe\\ndata = pd.read_csv(\\\"used_cars_data.csv\\\")\\n\\n# make copy of data to work on\\ndf = data.copy()\\ndf.head()\";\n",
       "                var nbb_formatted_code = \"# Load the data into pandas dataframe\\ndata = pd.read_csv(\\\"used_cars_data.csv\\\")\\n\\n# make copy of data to work on\\ndf = data.copy()\\ndf.head()\";\n",
       "                var nbb_cells = Jupyter.notebook.get_cells();\n",
       "                for (var i = 0; i < nbb_cells.length; ++i) {\n",
       "                    if (nbb_cells[i].input_prompt_number == nbb_cell_id) {\n",
       "                        if (nbb_cells[i].get_text() == nbb_unformatted_code) {\n",
       "                             nbb_cells[i].set_text(nbb_formatted_code);\n",
       "                        }\n",
       "                        break;\n",
       "                    }\n",
       "                }\n",
       "            }, 500);\n",
       "            "
      ],
      "text/plain": [
       "<IPython.core.display.Javascript object>"
      ]
     },
     "metadata": {},
     "output_type": "display_data"
    }
   ],
   "source": [
    "# Load the data into pandas dataframe\n",
    "data = pd.read_csv(\"used_cars_data.csv\")\n",
    "\n",
    "# make copy of data to work on\n",
    "df = data.copy()\n",
    "df.head()"
   ]
  },
  {
   "cell_type": "code",
   "execution_count": 4,
   "metadata": {},
   "outputs": [
    {
     "data": {
      "text/plain": [
       "(7253, 14)"
      ]
     },
     "execution_count": 4,
     "metadata": {},
     "output_type": "execute_result"
    },
    {
     "data": {
      "application/javascript": [
       "\n",
       "            setTimeout(function() {\n",
       "                var nbb_cell_id = 4;\n",
       "                var nbb_unformatted_code = \"# check # of rows and columns\\ndf.shape\";\n",
       "                var nbb_formatted_code = \"# check # of rows and columns\\ndf.shape\";\n",
       "                var nbb_cells = Jupyter.notebook.get_cells();\n",
       "                for (var i = 0; i < nbb_cells.length; ++i) {\n",
       "                    if (nbb_cells[i].input_prompt_number == nbb_cell_id) {\n",
       "                        if (nbb_cells[i].get_text() == nbb_unformatted_code) {\n",
       "                             nbb_cells[i].set_text(nbb_formatted_code);\n",
       "                        }\n",
       "                        break;\n",
       "                    }\n",
       "                }\n",
       "            }, 500);\n",
       "            "
      ],
      "text/plain": [
       "<IPython.core.display.Javascript object>"
      ]
     },
     "metadata": {},
     "output_type": "display_data"
    }
   ],
   "source": [
    "# check # of rows and columns\n",
    "df.shape"
   ]
  },
  {
   "cell_type": "code",
   "execution_count": 5,
   "metadata": {},
   "outputs": [
    {
     "name": "stdout",
     "output_type": "stream",
     "text": [
      "<class 'pandas.core.frame.DataFrame'>\n",
      "RangeIndex: 7253 entries, 0 to 7252\n",
      "Data columns (total 14 columns):\n",
      " #   Column             Non-Null Count  Dtype  \n",
      "---  ------             --------------  -----  \n",
      " 0   S.No.              7253 non-null   int64  \n",
      " 1   Name               7253 non-null   object \n",
      " 2   Location           7253 non-null   object \n",
      " 3   Year               7253 non-null   int64  \n",
      " 4   Kilometers_Driven  7253 non-null   int64  \n",
      " 5   Fuel_Type          7253 non-null   object \n",
      " 6   Transmission       7253 non-null   object \n",
      " 7   Owner_Type         7253 non-null   object \n",
      " 8   Mileage            7251 non-null   object \n",
      " 9   Engine             7207 non-null   object \n",
      " 10  Power              7207 non-null   object \n",
      " 11  Seats              7200 non-null   float64\n",
      " 12  New_Price          1006 non-null   object \n",
      " 13  Price              6019 non-null   float64\n",
      "dtypes: float64(2), int64(3), object(9)\n",
      "memory usage: 793.4+ KB\n"
     ]
    },
    {
     "data": {
      "application/javascript": [
       "\n",
       "            setTimeout(function() {\n",
       "                var nbb_cell_id = 5;\n",
       "                var nbb_unformatted_code = \"# check column types and number of values\\ndf.info()\";\n",
       "                var nbb_formatted_code = \"# check column types and number of values\\ndf.info()\";\n",
       "                var nbb_cells = Jupyter.notebook.get_cells();\n",
       "                for (var i = 0; i < nbb_cells.length; ++i) {\n",
       "                    if (nbb_cells[i].input_prompt_number == nbb_cell_id) {\n",
       "                        if (nbb_cells[i].get_text() == nbb_unformatted_code) {\n",
       "                             nbb_cells[i].set_text(nbb_formatted_code);\n",
       "                        }\n",
       "                        break;\n",
       "                    }\n",
       "                }\n",
       "            }, 500);\n",
       "            "
      ],
      "text/plain": [
       "<IPython.core.display.Javascript object>"
      ]
     },
     "metadata": {},
     "output_type": "display_data"
    }
   ],
   "source": [
    "# check column types and number of values\n",
    "df.info()"
   ]
  },
  {
   "cell_type": "code",
   "execution_count": 6,
   "metadata": {},
   "outputs": [
    {
     "data": {
      "text/plain": [
       "S.No.                   0\n",
       "Name                    0\n",
       "Location                0\n",
       "Year                    0\n",
       "Kilometers_Driven       0\n",
       "Fuel_Type               0\n",
       "Transmission            0\n",
       "Owner_Type              0\n",
       "Mileage                 2\n",
       "Engine                 46\n",
       "Power                  46\n",
       "Seats                  53\n",
       "New_Price            6247\n",
       "Price                1234\n",
       "dtype: int64"
      ]
     },
     "execution_count": 6,
     "metadata": {},
     "output_type": "execute_result"
    },
    {
     "data": {
      "application/javascript": [
       "\n",
       "            setTimeout(function() {\n",
       "                var nbb_cell_id = 6;\n",
       "                var nbb_unformatted_code = \"df.isna().sum()\";\n",
       "                var nbb_formatted_code = \"df.isna().sum()\";\n",
       "                var nbb_cells = Jupyter.notebook.get_cells();\n",
       "                for (var i = 0; i < nbb_cells.length; ++i) {\n",
       "                    if (nbb_cells[i].input_prompt_number == nbb_cell_id) {\n",
       "                        if (nbb_cells[i].get_text() == nbb_unformatted_code) {\n",
       "                             nbb_cells[i].set_text(nbb_formatted_code);\n",
       "                        }\n",
       "                        break;\n",
       "                    }\n",
       "                }\n",
       "            }, 500);\n",
       "            "
      ],
      "text/plain": [
       "<IPython.core.display.Javascript object>"
      ]
     },
     "metadata": {},
     "output_type": "display_data"
    }
   ],
   "source": [
    "df.isna().sum()"
   ]
  },
  {
   "cell_type": "markdown",
   "metadata": {},
   "source": [
    "**Insights:**\n",
    "* There are 7253 rows and 14 columns.\n",
    "* Dependent variable is 'Price'.\n",
    "* The columns 'Location', 'Fuel_Type', 'Transmission' and 'Owner_Type' are all of object type and should be converted to categorical values.\n",
    "* The column \"Seats\" and \"Year\" could also benefit from being treated as a categorical value instead of numerical.\n",
    "* The columns 'Mileage', 'Engine' and 'Power' are all of object type and should be coverted to numeric values.\n",
    "* The 'New_Price' column has the most null values (>50%), therefore it would be best to drop this column completely.\n",
    "* The columns 'Mileage', 'Engine', 'Power', 'Seats', and 'Price' have null values, we will need to figure out how we want to treat those null values.\n",
    "* The column 'Mileage' has a min of 0 which cannot be possible, so I will treat this as a missing value as well."
   ]
  },
  {
   "cell_type": "markdown",
   "metadata": {},
   "source": [
    "**Converting variable types**"
   ]
  },
  {
   "cell_type": "code",
   "execution_count": 7,
   "metadata": {},
   "outputs": [
    {
     "data": {
      "application/javascript": [
       "\n",
       "            setTimeout(function() {\n",
       "                var nbb_cell_id = 7;\n",
       "                var nbb_unformatted_code = \"# converting 'object' types better suited as numerical variables\\ndef mileage_to_num(mileage):\\n    \\\"\\\"\\\"In the mileage column I'm replacing the terminals 'km/kg'\\n    and 'kmpl' with the empty string and converting to a float.\\n    Non-strings are np.nans and are kept as np.nans.\\n    No conversion needed since 'Fuel_type. column enables us to\\n    identify this information.\\\"\\\"\\\"\\n    if isinstance(mileage, str):\\n        return float(mileage.replace(\\\"km/kg\\\", \\\"\\\").replace(\\\"kmpl\\\", \\\"\\\"))\\n    else:\\n        return np.nan\\n\\n\\ndef engine_to_num(engine):\\n    \\\"\\\"\\\"In the engine column I'm replacing the terminal 'CC' with\\n    the empty string and converting to a float. Non-strings are\\n    np.nans and are kept as np.nans.\\\"\\\"\\\"\\n    if isinstance(engine, str):\\n        return float(engine.replace(\\\"CC\\\", \\\"\\\"))\\n    else:\\n        return np.nan\\n\\n\\ndef power_to_num(power):\\n    \\\"\\\"\\\"In the power column I'm replacing the terminal 'bhp' with\\n    the empty string and converting to a float. Non-strings are\\n    np.nans and are kept as np.nans.\\\"\\\"\\\"\\n    if isinstance(power, str):\\n        if \\\"null\\\" in power:\\n            return np.nan\\n        return float(power.replace(\\\"bhp\\\", \\\"\\\"))\\n    else:\\n        return np.nan\\n\\n\\n# actual conversion of columns\\ncol_transforms = {\\n    \\\"Mileage\\\": mileage_to_num,\\n    \\\"Engine\\\": engine_to_num,\\n    \\\"Power\\\": power_to_num,\\n}\\n\\nfor k, v in col_transforms.items():\\n    df[k] = df[k].map(v)\";\n",
       "                var nbb_formatted_code = \"# converting 'object' types better suited as numerical variables\\ndef mileage_to_num(mileage):\\n    \\\"\\\"\\\"In the mileage column I'm replacing the terminals 'km/kg'\\n    and 'kmpl' with the empty string and converting to a float.\\n    Non-strings are np.nans and are kept as np.nans.\\n    No conversion needed since 'Fuel_type. column enables us to\\n    identify this information.\\\"\\\"\\\"\\n    if isinstance(mileage, str):\\n        return float(mileage.replace(\\\"km/kg\\\", \\\"\\\").replace(\\\"kmpl\\\", \\\"\\\"))\\n    else:\\n        return np.nan\\n\\n\\ndef engine_to_num(engine):\\n    \\\"\\\"\\\"In the engine column I'm replacing the terminal 'CC' with\\n    the empty string and converting to a float. Non-strings are\\n    np.nans and are kept as np.nans.\\\"\\\"\\\"\\n    if isinstance(engine, str):\\n        return float(engine.replace(\\\"CC\\\", \\\"\\\"))\\n    else:\\n        return np.nan\\n\\n\\ndef power_to_num(power):\\n    \\\"\\\"\\\"In the power column I'm replacing the terminal 'bhp' with\\n    the empty string and converting to a float. Non-strings are\\n    np.nans and are kept as np.nans.\\\"\\\"\\\"\\n    if isinstance(power, str):\\n        if \\\"null\\\" in power:\\n            return np.nan\\n        return float(power.replace(\\\"bhp\\\", \\\"\\\"))\\n    else:\\n        return np.nan\\n\\n\\n# actual conversion of columns\\ncol_transforms = {\\n    \\\"Mileage\\\": mileage_to_num,\\n    \\\"Engine\\\": engine_to_num,\\n    \\\"Power\\\": power_to_num,\\n}\\n\\nfor k, v in col_transforms.items():\\n    df[k] = df[k].map(v)\";\n",
       "                var nbb_cells = Jupyter.notebook.get_cells();\n",
       "                for (var i = 0; i < nbb_cells.length; ++i) {\n",
       "                    if (nbb_cells[i].input_prompt_number == nbb_cell_id) {\n",
       "                        if (nbb_cells[i].get_text() == nbb_unformatted_code) {\n",
       "                             nbb_cells[i].set_text(nbb_formatted_code);\n",
       "                        }\n",
       "                        break;\n",
       "                    }\n",
       "                }\n",
       "            }, 500);\n",
       "            "
      ],
      "text/plain": [
       "<IPython.core.display.Javascript object>"
      ]
     },
     "metadata": {},
     "output_type": "display_data"
    }
   ],
   "source": [
    "# converting 'object' types better suited as numerical variables\n",
    "def mileage_to_num(mileage):\n",
    "    \"\"\"In the mileage column I'm replacing the terminals 'km/kg'\n",
    "    and 'kmpl' with the empty string and converting to a float.\n",
    "    Non-strings are np.nans and are kept as np.nans.\n",
    "    No conversion needed since 'Fuel_type. column enables us to\n",
    "    identify this information.\"\"\"\n",
    "    if isinstance(mileage, str):\n",
    "        return float(mileage.replace(\"km/kg\", \"\").replace(\"kmpl\", \"\"))\n",
    "    else:\n",
    "        return np.nan\n",
    "\n",
    "\n",
    "def engine_to_num(engine):\n",
    "    \"\"\"In the engine column I'm replacing the terminal 'CC' with\n",
    "    the empty string and converting to a float. Non-strings are\n",
    "    np.nans and are kept as np.nans.\"\"\"\n",
    "    if isinstance(engine, str):\n",
    "        return float(engine.replace(\"CC\", \"\"))\n",
    "    else:\n",
    "        return np.nan\n",
    "\n",
    "\n",
    "def power_to_num(power):\n",
    "    \"\"\"In the power column I'm replacing the terminal 'bhp' with\n",
    "    the empty string and converting to a float. Non-strings are\n",
    "    np.nans and are kept as np.nans.\"\"\"\n",
    "    if isinstance(power, str):\n",
    "        if \"null\" in power:\n",
    "            return np.nan\n",
    "        return float(power.replace(\"bhp\", \"\"))\n",
    "    else:\n",
    "        return np.nan\n",
    "\n",
    "\n",
    "# actual conversion of columns\n",
    "col_transforms = {\n",
    "    \"Mileage\": mileage_to_num,\n",
    "    \"Engine\": engine_to_num,\n",
    "    \"Power\": power_to_num,\n",
    "}\n",
    "\n",
    "for k, v in col_transforms.items():\n",
    "    df[k] = df[k].map(v)"
   ]
  },
  {
   "cell_type": "code",
   "execution_count": 8,
   "metadata": {},
   "outputs": [
    {
     "data": {
      "application/javascript": [
       "\n",
       "            setTimeout(function() {\n",
       "                var nbb_cell_id = 8;\n",
       "                var nbb_unformatted_code = \"# converting 'object' types better suited as categorical variables\\n# df[\\\"Name\\\"] = df[\\\"Name\\\"].astype(\\\"category\\\")\\ndf[\\\"Location\\\"] = df[\\\"Location\\\"].astype(\\\"category\\\")\\ndf[\\\"Year\\\"] = df[\\\"Year\\\"].astype(\\\"category\\\")\\ndf[\\\"Fuel_Type\\\"] = df[\\\"Fuel_Type\\\"].astype(\\\"category\\\")\\ndf[\\\"Transmission\\\"] = df[\\\"Transmission\\\"].astype(\\\"category\\\")\\ndf[\\\"Owner_Type\\\"] = df[\\\"Owner_Type\\\"].astype(\\\"category\\\")\\n# df[\\\"Seats\\\"] = df[\\\"Seats\\\"].astype(\\\"category\\\")\";\n",
       "                var nbb_formatted_code = \"# converting 'object' types better suited as categorical variables\\n# df[\\\"Name\\\"] = df[\\\"Name\\\"].astype(\\\"category\\\")\\ndf[\\\"Location\\\"] = df[\\\"Location\\\"].astype(\\\"category\\\")\\ndf[\\\"Year\\\"] = df[\\\"Year\\\"].astype(\\\"category\\\")\\ndf[\\\"Fuel_Type\\\"] = df[\\\"Fuel_Type\\\"].astype(\\\"category\\\")\\ndf[\\\"Transmission\\\"] = df[\\\"Transmission\\\"].astype(\\\"category\\\")\\ndf[\\\"Owner_Type\\\"] = df[\\\"Owner_Type\\\"].astype(\\\"category\\\")\\n# df[\\\"Seats\\\"] = df[\\\"Seats\\\"].astype(\\\"category\\\")\";\n",
       "                var nbb_cells = Jupyter.notebook.get_cells();\n",
       "                for (var i = 0; i < nbb_cells.length; ++i) {\n",
       "                    if (nbb_cells[i].input_prompt_number == nbb_cell_id) {\n",
       "                        if (nbb_cells[i].get_text() == nbb_unformatted_code) {\n",
       "                             nbb_cells[i].set_text(nbb_formatted_code);\n",
       "                        }\n",
       "                        break;\n",
       "                    }\n",
       "                }\n",
       "            }, 500);\n",
       "            "
      ],
      "text/plain": [
       "<IPython.core.display.Javascript object>"
      ]
     },
     "metadata": {},
     "output_type": "display_data"
    }
   ],
   "source": [
    "# converting 'object' types better suited as categorical variables\n",
    "# df[\"Name\"] = df[\"Name\"].astype(\"category\")\n",
    "df[\"Location\"] = df[\"Location\"].astype(\"category\")\n",
    "df[\"Year\"] = df[\"Year\"].astype(\"category\")\n",
    "df[\"Fuel_Type\"] = df[\"Fuel_Type\"].astype(\"category\")\n",
    "df[\"Transmission\"] = df[\"Transmission\"].astype(\"category\")\n",
    "df[\"Owner_Type\"] = df[\"Owner_Type\"].astype(\"category\")\n",
    "# df[\"Seats\"] = df[\"Seats\"].astype(\"category\")"
   ]
  },
  {
   "cell_type": "markdown",
   "metadata": {},
   "source": [
    "**Missing Value Treatment**"
   ]
  },
  {
   "cell_type": "code",
   "execution_count": 9,
   "metadata": {},
   "outputs": [
    {
     "data": {
      "application/javascript": [
       "\n",
       "            setTimeout(function() {\n",
       "                var nbb_cell_id = 9;\n",
       "                var nbb_unformatted_code = \"# replace 0 mileage with nan\\ndf[\\\"Mileage\\\"].replace(0, np.nan, inplace=True)\";\n",
       "                var nbb_formatted_code = \"# replace 0 mileage with nan\\ndf[\\\"Mileage\\\"].replace(0, np.nan, inplace=True)\";\n",
       "                var nbb_cells = Jupyter.notebook.get_cells();\n",
       "                for (var i = 0; i < nbb_cells.length; ++i) {\n",
       "                    if (nbb_cells[i].input_prompt_number == nbb_cell_id) {\n",
       "                        if (nbb_cells[i].get_text() == nbb_unformatted_code) {\n",
       "                             nbb_cells[i].set_text(nbb_formatted_code);\n",
       "                        }\n",
       "                        break;\n",
       "                    }\n",
       "                }\n",
       "            }, 500);\n",
       "            "
      ],
      "text/plain": [
       "<IPython.core.display.Javascript object>"
      ]
     },
     "metadata": {},
     "output_type": "display_data"
    }
   ],
   "source": [
    "# replace 0 mileage with nan\n",
    "df[\"Mileage\"].replace(0, np.nan, inplace=True)"
   ]
  },
  {
   "cell_type": "code",
   "execution_count": 10,
   "metadata": {},
   "outputs": [
    {
     "data": {
      "application/javascript": [
       "\n",
       "            setTimeout(function() {\n",
       "                var nbb_cell_id = 10;\n",
       "                var nbb_unformatted_code = \"# since 'Price' is the dependent variable, instead of imputing data for the missing\\n# values, I will drop the data instead\\ndf = df.dropna(subset=[\\\"Price\\\"])\\n\\n# I will also drop the 'S.No.' column since it is just an ID number and tells us no useful information\\ndf.drop([\\\"S.No.\\\"], axis=1, inplace=True)\";\n",
       "                var nbb_formatted_code = \"# since 'Price' is the dependent variable, instead of imputing data for the missing\\n# values, I will drop the data instead\\ndf = df.dropna(subset=[\\\"Price\\\"])\\n\\n# I will also drop the 'S.No.' column since it is just an ID number and tells us no useful information\\ndf.drop([\\\"S.No.\\\"], axis=1, inplace=True)\";\n",
       "                var nbb_cells = Jupyter.notebook.get_cells();\n",
       "                for (var i = 0; i < nbb_cells.length; ++i) {\n",
       "                    if (nbb_cells[i].input_prompt_number == nbb_cell_id) {\n",
       "                        if (nbb_cells[i].get_text() == nbb_unformatted_code) {\n",
       "                             nbb_cells[i].set_text(nbb_formatted_code);\n",
       "                        }\n",
       "                        break;\n",
       "                    }\n",
       "                }\n",
       "            }, 500);\n",
       "            "
      ],
      "text/plain": [
       "<IPython.core.display.Javascript object>"
      ]
     },
     "metadata": {},
     "output_type": "display_data"
    }
   ],
   "source": [
    "# since 'Price' is the dependent variable, instead of imputing data for the missing\n",
    "# values, I will drop the data instead\n",
    "df = df.dropna(subset=[\"Price\"])\n",
    "\n",
    "# I will also drop the 'S.No.' column since it is just an ID number and tells us no useful information\n",
    "df.drop([\"S.No.\"], axis=1, inplace=True)"
   ]
  },
  {
   "cell_type": "code",
   "execution_count": 11,
   "metadata": {},
   "outputs": [
    {
     "data": {
      "application/javascript": [
       "\n",
       "            setTimeout(function() {\n",
       "                var nbb_cell_id = 11;\n",
       "                var nbb_unformatted_code = \"# we will replace missing values in every column with its median\\nmedianFiller = lambda x: x.fillna(x.median())\\nnumeric_columns = df.select_dtypes(include=np.number).columns.tolist()\\ndf[numeric_columns] = df[numeric_columns].apply(medianFiller, axis=0)\";\n",
       "                var nbb_formatted_code = \"# we will replace missing values in every column with its median\\nmedianFiller = lambda x: x.fillna(x.median())\\nnumeric_columns = df.select_dtypes(include=np.number).columns.tolist()\\ndf[numeric_columns] = df[numeric_columns].apply(medianFiller, axis=0)\";\n",
       "                var nbb_cells = Jupyter.notebook.get_cells();\n",
       "                for (var i = 0; i < nbb_cells.length; ++i) {\n",
       "                    if (nbb_cells[i].input_prompt_number == nbb_cell_id) {\n",
       "                        if (nbb_cells[i].get_text() == nbb_unformatted_code) {\n",
       "                             nbb_cells[i].set_text(nbb_formatted_code);\n",
       "                        }\n",
       "                        break;\n",
       "                    }\n",
       "                }\n",
       "            }, 500);\n",
       "            "
      ],
      "text/plain": [
       "<IPython.core.display.Javascript object>"
      ]
     },
     "metadata": {},
     "output_type": "display_data"
    }
   ],
   "source": [
    "# we will replace missing values in every column with its median\n",
    "medianFiller = lambda x: x.fillna(x.median())\n",
    "numeric_columns = df.select_dtypes(include=np.number).columns.tolist()\n",
    "df[numeric_columns] = df[numeric_columns].apply(medianFiller, axis=0)"
   ]
  },
  {
   "cell_type": "code",
   "execution_count": 12,
   "metadata": {},
   "outputs": [
    {
     "data": {
      "application/javascript": [
       "\n",
       "            setTimeout(function() {\n",
       "                var nbb_cell_id = 12;\n",
       "                var nbb_unformatted_code = \"# 'New_Price' missing over 50% of data, therefore it would be best to drop this column completely\\ndf.drop([\\\"New_Price\\\"], axis=1, inplace=True)\";\n",
       "                var nbb_formatted_code = \"# 'New_Price' missing over 50% of data, therefore it would be best to drop this column completely\\ndf.drop([\\\"New_Price\\\"], axis=1, inplace=True)\";\n",
       "                var nbb_cells = Jupyter.notebook.get_cells();\n",
       "                for (var i = 0; i < nbb_cells.length; ++i) {\n",
       "                    if (nbb_cells[i].input_prompt_number == nbb_cell_id) {\n",
       "                        if (nbb_cells[i].get_text() == nbb_unformatted_code) {\n",
       "                             nbb_cells[i].set_text(nbb_formatted_code);\n",
       "                        }\n",
       "                        break;\n",
       "                    }\n",
       "                }\n",
       "            }, 500);\n",
       "            "
      ],
      "text/plain": [
       "<IPython.core.display.Javascript object>"
      ]
     },
     "metadata": {},
     "output_type": "display_data"
    }
   ],
   "source": [
    "# 'New_Price' missing over 50% of data, therefore it would be best to drop this column completely\n",
    "df.drop([\"New_Price\"], axis=1, inplace=True)"
   ]
  },
  {
   "cell_type": "code",
   "execution_count": 13,
   "metadata": {},
   "outputs": [
    {
     "data": {
      "text/plain": [
       "Name                 0\n",
       "Location             0\n",
       "Year                 0\n",
       "Kilometers_Driven    0\n",
       "Fuel_Type            0\n",
       "Transmission         0\n",
       "Owner_Type           0\n",
       "Mileage              0\n",
       "Engine               0\n",
       "Power                0\n",
       "Seats                0\n",
       "Price                0\n",
       "dtype: int64"
      ]
     },
     "execution_count": 13,
     "metadata": {},
     "output_type": "execute_result"
    },
    {
     "data": {
      "application/javascript": [
       "\n",
       "            setTimeout(function() {\n",
       "                var nbb_cell_id = 13;\n",
       "                var nbb_unformatted_code = \"df.isna().sum()\";\n",
       "                var nbb_formatted_code = \"df.isna().sum()\";\n",
       "                var nbb_cells = Jupyter.notebook.get_cells();\n",
       "                for (var i = 0; i < nbb_cells.length; ++i) {\n",
       "                    if (nbb_cells[i].input_prompt_number == nbb_cell_id) {\n",
       "                        if (nbb_cells[i].get_text() == nbb_unformatted_code) {\n",
       "                             nbb_cells[i].set_text(nbb_formatted_code);\n",
       "                        }\n",
       "                        break;\n",
       "                    }\n",
       "                }\n",
       "            }, 500);\n",
       "            "
      ],
      "text/plain": [
       "<IPython.core.display.Javascript object>"
      ]
     },
     "metadata": {},
     "output_type": "display_data"
    }
   ],
   "source": [
    "df.isna().sum()"
   ]
  },
  {
   "cell_type": "markdown",
   "metadata": {},
   "source": [
    "**Check new data**"
   ]
  },
  {
   "cell_type": "code",
   "execution_count": 14,
   "metadata": {
    "scrolled": true
   },
   "outputs": [
    {
     "data": {
      "text/html": [
       "<div>\n",
       "<style scoped>\n",
       "    .dataframe tbody tr th:only-of-type {\n",
       "        vertical-align: middle;\n",
       "    }\n",
       "\n",
       "    .dataframe tbody tr th {\n",
       "        vertical-align: top;\n",
       "    }\n",
       "\n",
       "    .dataframe thead th {\n",
       "        text-align: right;\n",
       "    }\n",
       "</style>\n",
       "<table border=\"1\" class=\"dataframe\">\n",
       "  <thead>\n",
       "    <tr style=\"text-align: right;\">\n",
       "      <th></th>\n",
       "      <th>Name</th>\n",
       "      <th>Location</th>\n",
       "      <th>Year</th>\n",
       "      <th>Kilometers_Driven</th>\n",
       "      <th>Fuel_Type</th>\n",
       "      <th>Transmission</th>\n",
       "      <th>Owner_Type</th>\n",
       "      <th>Mileage</th>\n",
       "      <th>Engine</th>\n",
       "      <th>Power</th>\n",
       "      <th>Seats</th>\n",
       "      <th>Price</th>\n",
       "    </tr>\n",
       "  </thead>\n",
       "  <tbody>\n",
       "    <tr>\n",
       "      <th>0</th>\n",
       "      <td>Maruti Wagon R LXI CNG</td>\n",
       "      <td>Mumbai</td>\n",
       "      <td>2010</td>\n",
       "      <td>72000</td>\n",
       "      <td>CNG</td>\n",
       "      <td>Manual</td>\n",
       "      <td>First</td>\n",
       "      <td>26.60</td>\n",
       "      <td>998.0</td>\n",
       "      <td>58.16</td>\n",
       "      <td>5.0</td>\n",
       "      <td>1.75</td>\n",
       "    </tr>\n",
       "    <tr>\n",
       "      <th>1</th>\n",
       "      <td>Hyundai Creta 1.6 CRDi SX Option</td>\n",
       "      <td>Pune</td>\n",
       "      <td>2015</td>\n",
       "      <td>41000</td>\n",
       "      <td>Diesel</td>\n",
       "      <td>Manual</td>\n",
       "      <td>First</td>\n",
       "      <td>19.67</td>\n",
       "      <td>1582.0</td>\n",
       "      <td>126.20</td>\n",
       "      <td>5.0</td>\n",
       "      <td>12.50</td>\n",
       "    </tr>\n",
       "    <tr>\n",
       "      <th>2</th>\n",
       "      <td>Honda Jazz V</td>\n",
       "      <td>Chennai</td>\n",
       "      <td>2011</td>\n",
       "      <td>46000</td>\n",
       "      <td>Petrol</td>\n",
       "      <td>Manual</td>\n",
       "      <td>First</td>\n",
       "      <td>18.20</td>\n",
       "      <td>1199.0</td>\n",
       "      <td>88.70</td>\n",
       "      <td>5.0</td>\n",
       "      <td>4.50</td>\n",
       "    </tr>\n",
       "    <tr>\n",
       "      <th>3</th>\n",
       "      <td>Maruti Ertiga VDI</td>\n",
       "      <td>Chennai</td>\n",
       "      <td>2012</td>\n",
       "      <td>87000</td>\n",
       "      <td>Diesel</td>\n",
       "      <td>Manual</td>\n",
       "      <td>First</td>\n",
       "      <td>20.77</td>\n",
       "      <td>1248.0</td>\n",
       "      <td>88.76</td>\n",
       "      <td>7.0</td>\n",
       "      <td>6.00</td>\n",
       "    </tr>\n",
       "    <tr>\n",
       "      <th>4</th>\n",
       "      <td>Audi A4 New 2.0 TDI Multitronic</td>\n",
       "      <td>Coimbatore</td>\n",
       "      <td>2013</td>\n",
       "      <td>40670</td>\n",
       "      <td>Diesel</td>\n",
       "      <td>Automatic</td>\n",
       "      <td>Second</td>\n",
       "      <td>15.20</td>\n",
       "      <td>1968.0</td>\n",
       "      <td>140.80</td>\n",
       "      <td>5.0</td>\n",
       "      <td>17.74</td>\n",
       "    </tr>\n",
       "  </tbody>\n",
       "</table>\n",
       "</div>"
      ],
      "text/plain": [
       "                               Name    Location  Year  Kilometers_Driven  \\\n",
       "0            Maruti Wagon R LXI CNG      Mumbai  2010              72000   \n",
       "1  Hyundai Creta 1.6 CRDi SX Option        Pune  2015              41000   \n",
       "2                      Honda Jazz V     Chennai  2011              46000   \n",
       "3                 Maruti Ertiga VDI     Chennai  2012              87000   \n",
       "4   Audi A4 New 2.0 TDI Multitronic  Coimbatore  2013              40670   \n",
       "\n",
       "  Fuel_Type Transmission Owner_Type  Mileage  Engine   Power  Seats  Price  \n",
       "0       CNG       Manual      First    26.60   998.0   58.16    5.0   1.75  \n",
       "1    Diesel       Manual      First    19.67  1582.0  126.20    5.0  12.50  \n",
       "2    Petrol       Manual      First    18.20  1199.0   88.70    5.0   4.50  \n",
       "3    Diesel       Manual      First    20.77  1248.0   88.76    7.0   6.00  \n",
       "4    Diesel    Automatic     Second    15.20  1968.0  140.80    5.0  17.74  "
      ]
     },
     "execution_count": 14,
     "metadata": {},
     "output_type": "execute_result"
    },
    {
     "data": {
      "application/javascript": [
       "\n",
       "            setTimeout(function() {\n",
       "                var nbb_cell_id = 14;\n",
       "                var nbb_unformatted_code = \"df.head()\";\n",
       "                var nbb_formatted_code = \"df.head()\";\n",
       "                var nbb_cells = Jupyter.notebook.get_cells();\n",
       "                for (var i = 0; i < nbb_cells.length; ++i) {\n",
       "                    if (nbb_cells[i].input_prompt_number == nbb_cell_id) {\n",
       "                        if (nbb_cells[i].get_text() == nbb_unformatted_code) {\n",
       "                             nbb_cells[i].set_text(nbb_formatted_code);\n",
       "                        }\n",
       "                        break;\n",
       "                    }\n",
       "                }\n",
       "            }, 500);\n",
       "            "
      ],
      "text/plain": [
       "<IPython.core.display.Javascript object>"
      ]
     },
     "metadata": {},
     "output_type": "display_data"
    }
   ],
   "source": [
    "df.head()"
   ]
  },
  {
   "cell_type": "code",
   "execution_count": 15,
   "metadata": {},
   "outputs": [
    {
     "name": "stdout",
     "output_type": "stream",
     "text": [
      "<class 'pandas.core.frame.DataFrame'>\n",
      "Int64Index: 6019 entries, 0 to 6018\n",
      "Data columns (total 12 columns):\n",
      " #   Column             Non-Null Count  Dtype   \n",
      "---  ------             --------------  -----   \n",
      " 0   Name               6019 non-null   object  \n",
      " 1   Location           6019 non-null   category\n",
      " 2   Year               6019 non-null   category\n",
      " 3   Kilometers_Driven  6019 non-null   int64   \n",
      " 4   Fuel_Type          6019 non-null   category\n",
      " 5   Transmission       6019 non-null   category\n",
      " 6   Owner_Type         6019 non-null   category\n",
      " 7   Mileage            6019 non-null   float64 \n",
      " 8   Engine             6019 non-null   float64 \n",
      " 9   Power              6019 non-null   float64 \n",
      " 10  Seats              6019 non-null   float64 \n",
      " 11  Price              6019 non-null   float64 \n",
      "dtypes: category(5), float64(5), int64(1), object(1)\n",
      "memory usage: 407.3+ KB\n"
     ]
    },
    {
     "data": {
      "application/javascript": [
       "\n",
       "            setTimeout(function() {\n",
       "                var nbb_cell_id = 15;\n",
       "                var nbb_unformatted_code = \"# check column types and number of values\\ndf.info()\";\n",
       "                var nbb_formatted_code = \"# check column types and number of values\\ndf.info()\";\n",
       "                var nbb_cells = Jupyter.notebook.get_cells();\n",
       "                for (var i = 0; i < nbb_cells.length; ++i) {\n",
       "                    if (nbb_cells[i].input_prompt_number == nbb_cell_id) {\n",
       "                        if (nbb_cells[i].get_text() == nbb_unformatted_code) {\n",
       "                             nbb_cells[i].set_text(nbb_formatted_code);\n",
       "                        }\n",
       "                        break;\n",
       "                    }\n",
       "                }\n",
       "            }, 500);\n",
       "            "
      ],
      "text/plain": [
       "<IPython.core.display.Javascript object>"
      ]
     },
     "metadata": {},
     "output_type": "display_data"
    }
   ],
   "source": [
    "# check column types and number of values\n",
    "df.info()"
   ]
  },
  {
   "cell_type": "code",
   "execution_count": 16,
   "metadata": {},
   "outputs": [
    {
     "data": {
      "text/html": [
       "<div>\n",
       "<style scoped>\n",
       "    .dataframe tbody tr th:only-of-type {\n",
       "        vertical-align: middle;\n",
       "    }\n",
       "\n",
       "    .dataframe tbody tr th {\n",
       "        vertical-align: top;\n",
       "    }\n",
       "\n",
       "    .dataframe thead th {\n",
       "        text-align: right;\n",
       "    }\n",
       "</style>\n",
       "<table border=\"1\" class=\"dataframe\">\n",
       "  <thead>\n",
       "    <tr style=\"text-align: right;\">\n",
       "      <th></th>\n",
       "      <th>count</th>\n",
       "      <th>mean</th>\n",
       "      <th>std</th>\n",
       "      <th>min</th>\n",
       "      <th>25%</th>\n",
       "      <th>50%</th>\n",
       "      <th>75%</th>\n",
       "      <th>max</th>\n",
       "    </tr>\n",
       "  </thead>\n",
       "  <tbody>\n",
       "    <tr>\n",
       "      <th>Kilometers_Driven</th>\n",
       "      <td>6019.0</td>\n",
       "      <td>58738.380296</td>\n",
       "      <td>91268.843206</td>\n",
       "      <td>171.00</td>\n",
       "      <td>34000.0</td>\n",
       "      <td>53000.00</td>\n",
       "      <td>73000.00</td>\n",
       "      <td>6500000.00</td>\n",
       "    </tr>\n",
       "    <tr>\n",
       "      <th>Mileage</th>\n",
       "      <td>6019.0</td>\n",
       "      <td>18.340598</td>\n",
       "      <td>4.151148</td>\n",
       "      <td>6.40</td>\n",
       "      <td>15.4</td>\n",
       "      <td>18.20</td>\n",
       "      <td>21.10</td>\n",
       "      <td>33.54</td>\n",
       "    </tr>\n",
       "    <tr>\n",
       "      <th>Engine</th>\n",
       "      <td>6019.0</td>\n",
       "      <td>1620.509221</td>\n",
       "      <td>599.635458</td>\n",
       "      <td>72.00</td>\n",
       "      <td>1198.0</td>\n",
       "      <td>1493.00</td>\n",
       "      <td>1969.00</td>\n",
       "      <td>5998.00</td>\n",
       "    </tr>\n",
       "    <tr>\n",
       "      <th>Power</th>\n",
       "      <td>6019.0</td>\n",
       "      <td>112.883539</td>\n",
       "      <td>53.283701</td>\n",
       "      <td>34.20</td>\n",
       "      <td>78.0</td>\n",
       "      <td>97.70</td>\n",
       "      <td>138.03</td>\n",
       "      <td>560.00</td>\n",
       "    </tr>\n",
       "    <tr>\n",
       "      <th>Seats</th>\n",
       "      <td>6019.0</td>\n",
       "      <td>5.276790</td>\n",
       "      <td>0.806346</td>\n",
       "      <td>0.00</td>\n",
       "      <td>5.0</td>\n",
       "      <td>5.00</td>\n",
       "      <td>5.00</td>\n",
       "      <td>10.00</td>\n",
       "    </tr>\n",
       "    <tr>\n",
       "      <th>Price</th>\n",
       "      <td>6019.0</td>\n",
       "      <td>9.479468</td>\n",
       "      <td>11.187917</td>\n",
       "      <td>0.44</td>\n",
       "      <td>3.5</td>\n",
       "      <td>5.64</td>\n",
       "      <td>9.95</td>\n",
       "      <td>160.00</td>\n",
       "    </tr>\n",
       "  </tbody>\n",
       "</table>\n",
       "</div>"
      ],
      "text/plain": [
       "                    count          mean           std     min      25%  \\\n",
       "Kilometers_Driven  6019.0  58738.380296  91268.843206  171.00  34000.0   \n",
       "Mileage            6019.0     18.340598      4.151148    6.40     15.4   \n",
       "Engine             6019.0   1620.509221    599.635458   72.00   1198.0   \n",
       "Power              6019.0    112.883539     53.283701   34.20     78.0   \n",
       "Seats              6019.0      5.276790      0.806346    0.00      5.0   \n",
       "Price              6019.0      9.479468     11.187917    0.44      3.5   \n",
       "\n",
       "                        50%       75%         max  \n",
       "Kilometers_Driven  53000.00  73000.00  6500000.00  \n",
       "Mileage               18.20     21.10       33.54  \n",
       "Engine              1493.00   1969.00     5998.00  \n",
       "Power                 97.70    138.03      560.00  \n",
       "Seats                  5.00      5.00       10.00  \n",
       "Price                  5.64      9.95      160.00  "
      ]
     },
     "execution_count": 16,
     "metadata": {},
     "output_type": "execute_result"
    },
    {
     "data": {
      "application/javascript": [
       "\n",
       "            setTimeout(function() {\n",
       "                var nbb_cell_id = 16;\n",
       "                var nbb_unformatted_code = \"df.describe(include=[\\\"float64\\\", \\\"int64\\\"]).T\";\n",
       "                var nbb_formatted_code = \"df.describe(include=[\\\"float64\\\", \\\"int64\\\"]).T\";\n",
       "                var nbb_cells = Jupyter.notebook.get_cells();\n",
       "                for (var i = 0; i < nbb_cells.length; ++i) {\n",
       "                    if (nbb_cells[i].input_prompt_number == nbb_cell_id) {\n",
       "                        if (nbb_cells[i].get_text() == nbb_unformatted_code) {\n",
       "                             nbb_cells[i].set_text(nbb_formatted_code);\n",
       "                        }\n",
       "                        break;\n",
       "                    }\n",
       "                }\n",
       "            }, 500);\n",
       "            "
      ],
      "text/plain": [
       "<IPython.core.display.Javascript object>"
      ]
     },
     "metadata": {},
     "output_type": "display_data"
    }
   ],
   "source": [
    "df.describe(include=[\"float64\", \"int64\"]).T"
   ]
  },
  {
   "cell_type": "code",
   "execution_count": 17,
   "metadata": {},
   "outputs": [
    {
     "data": {
      "text/html": [
       "<div>\n",
       "<style scoped>\n",
       "    .dataframe tbody tr th:only-of-type {\n",
       "        vertical-align: middle;\n",
       "    }\n",
       "\n",
       "    .dataframe tbody tr th {\n",
       "        vertical-align: top;\n",
       "    }\n",
       "\n",
       "    .dataframe thead th {\n",
       "        text-align: right;\n",
       "    }\n",
       "</style>\n",
       "<table border=\"1\" class=\"dataframe\">\n",
       "  <thead>\n",
       "    <tr style=\"text-align: right;\">\n",
       "      <th></th>\n",
       "      <th>count</th>\n",
       "      <th>unique</th>\n",
       "      <th>top</th>\n",
       "      <th>freq</th>\n",
       "    </tr>\n",
       "  </thead>\n",
       "  <tbody>\n",
       "    <tr>\n",
       "      <th>Location</th>\n",
       "      <td>6019</td>\n",
       "      <td>11</td>\n",
       "      <td>Mumbai</td>\n",
       "      <td>790</td>\n",
       "    </tr>\n",
       "    <tr>\n",
       "      <th>Year</th>\n",
       "      <td>6019</td>\n",
       "      <td>22</td>\n",
       "      <td>2014</td>\n",
       "      <td>797</td>\n",
       "    </tr>\n",
       "    <tr>\n",
       "      <th>Fuel_Type</th>\n",
       "      <td>6019</td>\n",
       "      <td>5</td>\n",
       "      <td>Diesel</td>\n",
       "      <td>3205</td>\n",
       "    </tr>\n",
       "    <tr>\n",
       "      <th>Transmission</th>\n",
       "      <td>6019</td>\n",
       "      <td>2</td>\n",
       "      <td>Manual</td>\n",
       "      <td>4299</td>\n",
       "    </tr>\n",
       "    <tr>\n",
       "      <th>Owner_Type</th>\n",
       "      <td>6019</td>\n",
       "      <td>4</td>\n",
       "      <td>First</td>\n",
       "      <td>4929</td>\n",
       "    </tr>\n",
       "  </tbody>\n",
       "</table>\n",
       "</div>"
      ],
      "text/plain": [
       "             count unique     top  freq\n",
       "Location      6019     11  Mumbai   790\n",
       "Year          6019     22    2014   797\n",
       "Fuel_Type     6019      5  Diesel  3205\n",
       "Transmission  6019      2  Manual  4299\n",
       "Owner_Type    6019      4   First  4929"
      ]
     },
     "execution_count": 17,
     "metadata": {},
     "output_type": "execute_result"
    },
    {
     "data": {
      "application/javascript": [
       "\n",
       "            setTimeout(function() {\n",
       "                var nbb_cell_id = 17;\n",
       "                var nbb_unformatted_code = \"df.describe(include=[\\\"category\\\"]).T\";\n",
       "                var nbb_formatted_code = \"df.describe(include=[\\\"category\\\"]).T\";\n",
       "                var nbb_cells = Jupyter.notebook.get_cells();\n",
       "                for (var i = 0; i < nbb_cells.length; ++i) {\n",
       "                    if (nbb_cells[i].input_prompt_number == nbb_cell_id) {\n",
       "                        if (nbb_cells[i].get_text() == nbb_unformatted_code) {\n",
       "                             nbb_cells[i].set_text(nbb_formatted_code);\n",
       "                        }\n",
       "                        break;\n",
       "                    }\n",
       "                }\n",
       "            }, 500);\n",
       "            "
      ],
      "text/plain": [
       "<IPython.core.display.Javascript object>"
      ]
     },
     "metadata": {},
     "output_type": "display_data"
    }
   ],
   "source": [
    "df.describe(include=[\"category\"]).T"
   ]
  },
  {
   "cell_type": "markdown",
   "metadata": {},
   "source": [
    "**Insights**\n",
    "* The 'Location' column has 11 unique values, meaning the data is collected from 11 cities.\n",
    "* The 'Transmission' column has 2 unique values, 'Manual' and 'Automatic'.\n",
    "* The 'Year' ranges from 1996 to 2019.\n",
    "* The average price for a used car is ~9.4 Lakh."
   ]
  },
  {
   "cell_type": "markdown",
   "metadata": {},
   "source": [
    "**Before processing the data further, I'll look at the graphical visualization first to understand it better**"
   ]
  },
  {
   "cell_type": "markdown",
   "metadata": {},
   "source": [
    "# Exploratory Data Analysis"
   ]
  },
  {
   "cell_type": "markdown",
   "metadata": {},
   "source": [
    "## Univariate analysis"
   ]
  },
  {
   "cell_type": "code",
   "execution_count": 18,
   "metadata": {
    "scrolled": false
   },
   "outputs": [
    {
     "data": {
      "application/javascript": [
       "\n",
       "            setTimeout(function() {\n",
       "                var nbb_cell_id = 18;\n",
       "                var nbb_unformatted_code = \"# While doing univariate analysis of numerical variables we want to study their central tendency and dispersion.\\n# I will be using the same function from previous projects to accomplish this.\\n# This function takes the numerical column as the input and returns the boxplots and histograms for the variable.\\n\\n\\ndef histogram_boxplot(feature, figsize=(15, 10), bins=None):\\n    \\\"\\\"\\\"Boxplot and histogram combined\\n    feature: 1-d feature array\\n    figsize: size of fig\\n    bins: number of bins\\n    \\\"\\\"\\\"\\n    sns.set(font_scale=2)\\n    f2, (ax_box2, ax_hist2) = plt.subplots(\\n        nrows=2,  # Number of rows of the subplot grid= 2\\n        sharex=True,  # x-axis will be shared among all subplots\\n        gridspec_kw={\\\"height_ratios\\\": (0.25, 0.75)},\\n        figsize=figsize,\\n    )  # creating the 2 subplots\\n    sns.boxplot(\\n        feature, ax=ax_box2, showmeans=True\\n    )  # boxplot will be created and a star will indicate the mean value of the column\\n    sns.distplot(feature, kde=F, ax=ax_hist2, bins=bins) if bins else sns.distplot(\\n        feature, kde=False, ax=ax_hist2\\n    )  # For histogram\\n    ax_hist2.axvline(\\n        feature.mean(), color=\\\"green\\\", linestyle=\\\"--\\\"\\n    )  # Add mean to the histogram\\n    ax_hist2.axvline(\\n        feature.median(), color=\\\"black\\\", linestyle=\\\"-\\\"\\n    )  # Add median to the histogram\";\n",
       "                var nbb_formatted_code = \"# While doing univariate analysis of numerical variables we want to study their central tendency and dispersion.\\n# I will be using the same function from previous projects to accomplish this.\\n# This function takes the numerical column as the input and returns the boxplots and histograms for the variable.\\n\\n\\ndef histogram_boxplot(feature, figsize=(15, 10), bins=None):\\n    \\\"\\\"\\\"Boxplot and histogram combined\\n    feature: 1-d feature array\\n    figsize: size of fig\\n    bins: number of bins\\n    \\\"\\\"\\\"\\n    sns.set(font_scale=2)\\n    f2, (ax_box2, ax_hist2) = plt.subplots(\\n        nrows=2,  # Number of rows of the subplot grid= 2\\n        sharex=True,  # x-axis will be shared among all subplots\\n        gridspec_kw={\\\"height_ratios\\\": (0.25, 0.75)},\\n        figsize=figsize,\\n    )  # creating the 2 subplots\\n    sns.boxplot(\\n        feature, ax=ax_box2, showmeans=True\\n    )  # boxplot will be created and a star will indicate the mean value of the column\\n    sns.distplot(feature, kde=F, ax=ax_hist2, bins=bins) if bins else sns.distplot(\\n        feature, kde=False, ax=ax_hist2\\n    )  # For histogram\\n    ax_hist2.axvline(\\n        feature.mean(), color=\\\"green\\\", linestyle=\\\"--\\\"\\n    )  # Add mean to the histogram\\n    ax_hist2.axvline(\\n        feature.median(), color=\\\"black\\\", linestyle=\\\"-\\\"\\n    )  # Add median to the histogram\";\n",
       "                var nbb_cells = Jupyter.notebook.get_cells();\n",
       "                for (var i = 0; i < nbb_cells.length; ++i) {\n",
       "                    if (nbb_cells[i].input_prompt_number == nbb_cell_id) {\n",
       "                        if (nbb_cells[i].get_text() == nbb_unformatted_code) {\n",
       "                             nbb_cells[i].set_text(nbb_formatted_code);\n",
       "                        }\n",
       "                        break;\n",
       "                    }\n",
       "                }\n",
       "            }, 500);\n",
       "            "
      ],
      "text/plain": [
       "<IPython.core.display.Javascript object>"
      ]
     },
     "metadata": {},
     "output_type": "display_data"
    }
   ],
   "source": [
    "# While doing univariate analysis of numerical variables we want to study their central tendency and dispersion.\n",
    "# I will be using the same function from previous projects to accomplish this.\n",
    "# This function takes the numerical column as the input and returns the boxplots and histograms for the variable.\n",
    "\n",
    "\n",
    "def histogram_boxplot(feature, figsize=(15, 10), bins=None):\n",
    "    \"\"\"Boxplot and histogram combined\n",
    "    feature: 1-d feature array\n",
    "    figsize: size of fig\n",
    "    bins: number of bins\n",
    "    \"\"\"\n",
    "    sns.set(font_scale=2)\n",
    "    f2, (ax_box2, ax_hist2) = plt.subplots(\n",
    "        nrows=2,  # Number of rows of the subplot grid= 2\n",
    "        sharex=True,  # x-axis will be shared among all subplots\n",
    "        gridspec_kw={\"height_ratios\": (0.25, 0.75)},\n",
    "        figsize=figsize,\n",
    "    )  # creating the 2 subplots\n",
    "    sns.boxplot(\n",
    "        feature, ax=ax_box2, showmeans=True\n",
    "    )  # boxplot will be created and a star will indicate the mean value of the column\n",
    "    sns.distplot(feature, kde=F, ax=ax_hist2, bins=bins) if bins else sns.distplot(\n",
    "        feature, kde=False, ax=ax_hist2\n",
    "    )  # For histogram\n",
    "    ax_hist2.axvline(\n",
    "        feature.mean(), color=\"green\", linestyle=\"--\"\n",
    "    )  # Add mean to the histogram\n",
    "    ax_hist2.axvline(\n",
    "        feature.median(), color=\"black\", linestyle=\"-\"\n",
    "    )  # Add median to the histogram"
   ]
  },
  {
   "cell_type": "code",
   "execution_count": 19,
   "metadata": {
    "scrolled": false
   },
   "outputs": [
    {
     "data": {
      "image/png": "[encoded data removed]",
      "text/plain": [
       "<Figure size 1080x720 with 2 Axes>"
      ]
     },
     "metadata": {},
     "output_type": "display_data"
    },
    {
     "data": {
      "application/javascript": [
       "\n",
       "            setTimeout(function() {\n",
       "                var nbb_cell_id = 19;\n",
       "                var nbb_unformatted_code = \"histogram_boxplot(df.Kilometers_Driven)\";\n",
       "                var nbb_formatted_code = \"histogram_boxplot(df.Kilometers_Driven)\";\n",
       "                var nbb_cells = Jupyter.notebook.get_cells();\n",
       "                for (var i = 0; i < nbb_cells.length; ++i) {\n",
       "                    if (nbb_cells[i].input_prompt_number == nbb_cell_id) {\n",
       "                        if (nbb_cells[i].get_text() == nbb_unformatted_code) {\n",
       "                             nbb_cells[i].set_text(nbb_formatted_code);\n",
       "                        }\n",
       "                        break;\n",
       "                    }\n",
       "                }\n",
       "            }, 500);\n",
       "            "
      ],
      "text/plain": [
       "<IPython.core.display.Javascript object>"
      ]
     },
     "metadata": {},
     "output_type": "display_data"
    }
   ],
   "source": [
    "histogram_boxplot(df.Kilometers_Driven)"
   ]
  },
  {
   "cell_type": "markdown",
   "metadata": {},
   "source": [
    "**Insights**\n",
    "* 'Kilometers_Driven' is right skewed heavily due to outliers.\n",
    "* Mean is around 59000 KM.\n",
    "* We might have to transform this later to a log-scale so it behaves better."
   ]
  },
  {
   "cell_type": "code",
   "execution_count": 1,
   "metadata": {},
   "outputs": [
    {
     "ename": "NameError",
     "evalue": "name 'histogram_boxplot' is not defined",
     "output_type": "error",
     "traceback": [
      "\u001b[1;31m---------------------------------------------------------------------------\u001b[0m",
      "\u001b[1;31mNameError\u001b[0m                                 Traceback (most recent call last)",
      "\u001b[1;32m<ipython-input-1-3a1db0f6e263>\u001b[0m in \u001b[0;36m<module>\u001b[1;34m\u001b[0m\n\u001b[1;32m----> 1\u001b[1;33m \u001b[0mhistogram_boxplot\u001b[0m\u001b[1;33m(\u001b[0m\u001b[0mdf\u001b[0m\u001b[1;33m.\u001b[0m\u001b[0mMileage\u001b[0m\u001b[1;33m)\u001b[0m\u001b[1;33m\u001b[0m\u001b[1;33m\u001b[0m\u001b[0m\n\u001b[0m",
      "\u001b[1;31mNameError\u001b[0m: name 'histogram_boxplot' is not defined"
     ]
    }
   ],
   "source": [
    "histogram_boxplot(df.Mileage)"
   ]
  },
  {
   "cell_type": "markdown",
   "metadata": {},
   "source": [
    "**Insights**\n",
    "* 'Mileage' is somewhat normally distributed.\n",
    "* There are a few outliers on both the left and right sides.\n",
    "* The average is around 18 kmpl or km/kg."
   ]
  },
  {
   "cell_type": "code",
   "execution_count": 21,
   "metadata": {},
   "outputs": [
    {
     "data": {
      "image/png": "[encoded data removed]",
      "text/plain": [
       "<Figure size 1080x720 with 2 Axes>"
      ]
     },
     "metadata": {},
     "output_type": "display_data"
    },
    {
     "data": {
      "application/javascript": [
       "\n",
       "            setTimeout(function() {\n",
       "                var nbb_cell_id = 21;\n",
       "                var nbb_unformatted_code = \"histogram_boxplot(df.Engine)\";\n",
       "                var nbb_formatted_code = \"histogram_boxplot(df.Engine)\";\n",
       "                var nbb_cells = Jupyter.notebook.get_cells();\n",
       "                for (var i = 0; i < nbb_cells.length; ++i) {\n",
       "                    if (nbb_cells[i].input_prompt_number == nbb_cell_id) {\n",
       "                        if (nbb_cells[i].get_text() == nbb_unformatted_code) {\n",
       "                             nbb_cells[i].set_text(nbb_formatted_code);\n",
       "                        }\n",
       "                        break;\n",
       "                    }\n",
       "                }\n",
       "            }, 500);\n",
       "            "
      ],
      "text/plain": [
       "<IPython.core.display.Javascript object>"
      ]
     },
     "metadata": {},
     "output_type": "display_data"
    }
   ],
   "source": [
    "histogram_boxplot(df.Engine)"
   ]
  },
  {
   "cell_type": "markdown",
   "metadata": {},
   "source": [
    "**Insights**\n",
    "* 'Engine' is right-skewed due to large outliers.\n",
    "* The average is around 1600 CC."
   ]
  },
  {
   "cell_type": "code",
   "execution_count": 22,
   "metadata": {},
   "outputs": [
    {
     "data": {
      "image/png": "[encoded data removed]",
      "text/plain": [
       "<Figure size 1080x720 with 2 Axes>"
      ]
     },
     "metadata": {},
     "output_type": "display_data"
    },
    {
     "data": {
      "application/javascript": [
       "\n",
       "            setTimeout(function() {\n",
       "                var nbb_cell_id = 22;\n",
       "                var nbb_unformatted_code = \"histogram_boxplot(df.Power)\";\n",
       "                var nbb_formatted_code = \"histogram_boxplot(df.Power)\";\n",
       "                var nbb_cells = Jupyter.notebook.get_cells();\n",
       "                for (var i = 0; i < nbb_cells.length; ++i) {\n",
       "                    if (nbb_cells[i].input_prompt_number == nbb_cell_id) {\n",
       "                        if (nbb_cells[i].get_text() == nbb_unformatted_code) {\n",
       "                             nbb_cells[i].set_text(nbb_formatted_code);\n",
       "                        }\n",
       "                        break;\n",
       "                    }\n",
       "                }\n",
       "            }, 500);\n",
       "            "
      ],
      "text/plain": [
       "<IPython.core.display.Javascript object>"
      ]
     },
     "metadata": {},
     "output_type": "display_data"
    }
   ],
   "source": [
    "histogram_boxplot(df.Power)"
   ]
  },
  {
   "cell_type": "markdown",
   "metadata": {},
   "source": [
    "**Insights**\n",
    "* 'Power' is also right-skewed because of many large outliers, this makes sense as there are probably a few cars for sale that are higher end and therefore have more powerful engines than average.\n",
    "* The average is around 112 bhp."
   ]
  },
  {
   "cell_type": "code",
   "execution_count": 23,
   "metadata": {},
   "outputs": [
    {
     "data": {
      "image/png": "[encoded data removed]",
      "text/plain": [
       "<Figure size 1080x720 with 2 Axes>"
      ]
     },
     "metadata": {},
     "output_type": "display_data"
    },
    {
     "data": {
      "application/javascript": [
       "\n",
       "            setTimeout(function() {\n",
       "                var nbb_cell_id = 23;\n",
       "                var nbb_unformatted_code = \"histogram_boxplot(df.Price)\";\n",
       "                var nbb_formatted_code = \"histogram_boxplot(df.Price)\";\n",
       "                var nbb_cells = Jupyter.notebook.get_cells();\n",
       "                for (var i = 0; i < nbb_cells.length; ++i) {\n",
       "                    if (nbb_cells[i].input_prompt_number == nbb_cell_id) {\n",
       "                        if (nbb_cells[i].get_text() == nbb_unformatted_code) {\n",
       "                             nbb_cells[i].set_text(nbb_formatted_code);\n",
       "                        }\n",
       "                        break;\n",
       "                    }\n",
       "                }\n",
       "            }, 500);\n",
       "            "
      ],
      "text/plain": [
       "<IPython.core.display.Javascript object>"
      ]
     },
     "metadata": {},
     "output_type": "display_data"
    }
   ],
   "source": [
    "histogram_boxplot(df.Price)"
   ]
  },
  {
   "cell_type": "markdown",
   "metadata": {},
   "source": [
    "**Insights**\n",
    "* The 'Price' is right-skewed which makes since for the same reason 'Engine; is right-skewed, the outliers are higher end cars which are more poweful and therefore more expensive.\n",
    "* On average the price of a used car is 9.4 Lakhs.\n"
   ]
  },
  {
   "cell_type": "code",
   "execution_count": 24,
   "metadata": {},
   "outputs": [
    {
     "data": {
      "application/javascript": [
       "\n",
       "            setTimeout(function() {\n",
       "                var nbb_cell_id = 24;\n",
       "                var nbb_unformatted_code = \"# Function to create barplots that indicate percentage for each category.\\ndef perc_on_bar(feature, t):\\n    \\\"\\\"\\\"\\n    feature: categorical feature\\n    t: title for plot\\n    \\\"\\\"\\\"\\n    sns.set(font_scale=1)\\n    plt.figure(figsize=(15, 10))\\n    ax = sns.countplot(x=feature, palette=\\\"winter\\\")\\n    ax.set_title(t, fontsize=30)\\n\\n    total = len(feature)  # length of the column\\n    for p in ax.patches:\\n        percentage = \\\"{:.1f}%\\\".format(\\n            100 * p.get_height() / total\\n        )  # percentage of each class of the category\\n        x = p.get_x() + p.get_width() / 2 - 0.05  # width of the plot\\n        y = p.get_y() + p.get_height() + 0.5  # height of the plot\\n        ax.annotate(percentage, (x, y), size=12)  # annotate the percentage\\n    plt.show()  # show the plot\";\n",
       "                var nbb_formatted_code = \"# Function to create barplots that indicate percentage for each category.\\ndef perc_on_bar(feature, t):\\n    \\\"\\\"\\\"\\n    feature: categorical feature\\n    t: title for plot\\n    \\\"\\\"\\\"\\n    sns.set(font_scale=1)\\n    plt.figure(figsize=(15, 10))\\n    ax = sns.countplot(x=feature, palette=\\\"winter\\\")\\n    ax.set_title(t, fontsize=30)\\n\\n    total = len(feature)  # length of the column\\n    for p in ax.patches:\\n        percentage = \\\"{:.1f}%\\\".format(\\n            100 * p.get_height() / total\\n        )  # percentage of each class of the category\\n        x = p.get_x() + p.get_width() / 2 - 0.05  # width of the plot\\n        y = p.get_y() + p.get_height() + 0.5  # height of the plot\\n        ax.annotate(percentage, (x, y), size=12)  # annotate the percentage\\n    plt.show()  # show the plot\";\n",
       "                var nbb_cells = Jupyter.notebook.get_cells();\n",
       "                for (var i = 0; i < nbb_cells.length; ++i) {\n",
       "                    if (nbb_cells[i].input_prompt_number == nbb_cell_id) {\n",
       "                        if (nbb_cells[i].get_text() == nbb_unformatted_code) {\n",
       "                             nbb_cells[i].set_text(nbb_formatted_code);\n",
       "                        }\n",
       "                        break;\n",
       "                    }\n",
       "                }\n",
       "            }, 500);\n",
       "            "
      ],
      "text/plain": [
       "<IPython.core.display.Javascript object>"
      ]
     },
     "metadata": {},
     "output_type": "display_data"
    }
   ],
   "source": [
    "# Function to create barplots that indicate percentage for each category.\n",
    "def perc_on_bar(feature, t):\n",
    "    \"\"\"\n",
    "    feature: categorical feature\n",
    "    t: title for plot\n",
    "    \"\"\"\n",
    "    sns.set(font_scale=1)\n",
    "    plt.figure(figsize=(15, 10))\n",
    "    ax = sns.countplot(x=feature, palette=\"winter\")\n",
    "    ax.set_title(t, fontsize=30)\n",
    "\n",
    "    total = len(feature)  # length of the column\n",
    "    for p in ax.patches:\n",
    "        percentage = \"{:.1f}%\".format(\n",
    "            100 * p.get_height() / total\n",
    "        )  # percentage of each class of the category\n",
    "        x = p.get_x() + p.get_width() / 2 - 0.05  # width of the plot\n",
    "        y = p.get_y() + p.get_height() + 0.5  # height of the plot\n",
    "        ax.annotate(percentage, (x, y), size=12)  # annotate the percentage\n",
    "    plt.show()  # show the plot"
   ]
  },
  {
   "cell_type": "code",
   "execution_count": 25,
   "metadata": {
    "scrolled": false
   },
   "outputs": [
    {
     "data": {
      "image/png": "[encoded data removed]",
      "text/plain": [
       "<Figure size 1080x720 with 1 Axes>"
      ]
     },
     "metadata": {},
     "output_type": "display_data"
    },
    {
     "data": {
      "application/javascript": [
       "\n",
       "            setTimeout(function() {\n",
       "                var nbb_cell_id = 25;\n",
       "                var nbb_unformatted_code = \"perc_on_bar(df.Location, \\\"Location\\\")\";\n",
       "                var nbb_formatted_code = \"perc_on_bar(df.Location, \\\"Location\\\")\";\n",
       "                var nbb_cells = Jupyter.notebook.get_cells();\n",
       "                for (var i = 0; i < nbb_cells.length; ++i) {\n",
       "                    if (nbb_cells[i].input_prompt_number == nbb_cell_id) {\n",
       "                        if (nbb_cells[i].get_text() == nbb_unformatted_code) {\n",
       "                             nbb_cells[i].set_text(nbb_formatted_code);\n",
       "                        }\n",
       "                        break;\n",
       "                    }\n",
       "                }\n",
       "            }, 500);\n",
       "            "
      ],
      "text/plain": [
       "<IPython.core.display.Javascript object>"
      ]
     },
     "metadata": {},
     "output_type": "display_data"
    }
   ],
   "source": [
    "perc_on_bar(df.Location, \"Location\")"
   ]
  },
  {
   "cell_type": "markdown",
   "metadata": {},
   "source": [
    "**Insights**\n",
    "* Most used cars are being sold in Mumbai and Hyderabad, I'm thinking that these are most likely larger cities with higher populations compared to Ahmedabad and Bangalore which have the lowest percentage of used cars for sale."
   ]
  },
  {
   "cell_type": "code",
   "execution_count": 26,
   "metadata": {
    "scrolled": false
   },
   "outputs": [
    {
     "data": {
      "image/png": "[encoded data removed]",
      "text/plain": [
       "<Figure size 1080x720 with 1 Axes>"
      ]
     },
     "metadata": {},
     "output_type": "display_data"
    },
    {
     "data": {
      "application/javascript": [
       "\n",
       "            setTimeout(function() {\n",
       "                var nbb_cell_id = 26;\n",
       "                var nbb_unformatted_code = \"perc_on_bar(df.Year, \\\"Year\\\")\";\n",
       "                var nbb_formatted_code = \"perc_on_bar(df.Year, \\\"Year\\\")\";\n",
       "                var nbb_cells = Jupyter.notebook.get_cells();\n",
       "                for (var i = 0; i < nbb_cells.length; ++i) {\n",
       "                    if (nbb_cells[i].input_prompt_number == nbb_cell_id) {\n",
       "                        if (nbb_cells[i].get_text() == nbb_unformatted_code) {\n",
       "                             nbb_cells[i].set_text(nbb_formatted_code);\n",
       "                        }\n",
       "                        break;\n",
       "                    }\n",
       "                }\n",
       "            }, 500);\n",
       "            "
      ],
      "text/plain": [
       "<IPython.core.display.Javascript object>"
      ]
     },
     "metadata": {},
     "output_type": "display_data"
    }
   ],
   "source": [
    "perc_on_bar(df.Year, \"Year\")"
   ]
  },
  {
   "cell_type": "markdown",
   "metadata": {},
   "source": [
    "**Insights**\n",
    "* The majority of used cars being sold are from the years 2014-2015.\n",
    "* There is a steady drop of the nummber of cars from before 2014 being sold and a pretty steep drop in number from cars after 2015."
   ]
  },
  {
   "cell_type": "code",
   "execution_count": 27,
   "metadata": {},
   "outputs": [
    {
     "data": {
      "image/png": "[encoded data removed]",
      "text/plain": [
       "<Figure size 1080x720 with 1 Axes>"
      ]
     },
     "metadata": {},
     "output_type": "display_data"
    },
    {
     "data": {
      "application/javascript": [
       "\n",
       "            setTimeout(function() {\n",
       "                var nbb_cell_id = 27;\n",
       "                var nbb_unformatted_code = \"perc_on_bar(df.Fuel_Type, \\\"Fuel_Type\\\")\";\n",
       "                var nbb_formatted_code = \"perc_on_bar(df.Fuel_Type, \\\"Fuel_Type\\\")\";\n",
       "                var nbb_cells = Jupyter.notebook.get_cells();\n",
       "                for (var i = 0; i < nbb_cells.length; ++i) {\n",
       "                    if (nbb_cells[i].input_prompt_number == nbb_cell_id) {\n",
       "                        if (nbb_cells[i].get_text() == nbb_unformatted_code) {\n",
       "                             nbb_cells[i].set_text(nbb_formatted_code);\n",
       "                        }\n",
       "                        break;\n",
       "                    }\n",
       "                }\n",
       "            }, 500);\n",
       "            "
      ],
      "text/plain": [
       "<IPython.core.display.Javascript object>"
      ]
     },
     "metadata": {},
     "output_type": "display_data"
    }
   ],
   "source": [
    "perc_on_bar(df.Fuel_Type, \"Fuel_Type\")"
   ]
  },
  {
   "cell_type": "markdown",
   "metadata": {},
   "source": [
    "**Insights** \n",
    "* The used car market is overwhelming Diesel and Petrol cars, almost none being CNG, Electric and LGP fuel type cars. "
   ]
  },
  {
   "cell_type": "code",
   "execution_count": 28,
   "metadata": {},
   "outputs": [
    {
     "data": {
      "image/png": "[encoded data removed]",
      "text/plain": [
       "<Figure size 1080x720 with 1 Axes>"
      ]
     },
     "metadata": {},
     "output_type": "display_data"
    },
    {
     "data": {
      "application/javascript": [
       "\n",
       "            setTimeout(function() {\n",
       "                var nbb_cell_id = 28;\n",
       "                var nbb_unformatted_code = \"perc_on_bar(df.Transmission, \\\"Transmission\\\")\";\n",
       "                var nbb_formatted_code = \"perc_on_bar(df.Transmission, \\\"Transmission\\\")\";\n",
       "                var nbb_cells = Jupyter.notebook.get_cells();\n",
       "                for (var i = 0; i < nbb_cells.length; ++i) {\n",
       "                    if (nbb_cells[i].input_prompt_number == nbb_cell_id) {\n",
       "                        if (nbb_cells[i].get_text() == nbb_unformatted_code) {\n",
       "                             nbb_cells[i].set_text(nbb_formatted_code);\n",
       "                        }\n",
       "                        break;\n",
       "                    }\n",
       "                }\n",
       "            }, 500);\n",
       "            "
      ],
      "text/plain": [
       "<IPython.core.display.Javascript object>"
      ]
     },
     "metadata": {},
     "output_type": "display_data"
    }
   ],
   "source": [
    "perc_on_bar(df.Transmission, \"Transmission\")"
   ]
  },
  {
   "cell_type": "markdown",
   "metadata": {},
   "source": [
    "**Insights**\n",
    "* There's a higher number of manual transmission cars being sold than automatic."
   ]
  },
  {
   "cell_type": "code",
   "execution_count": 29,
   "metadata": {},
   "outputs": [
    {
     "data": {
      "image/png": "[encoded data removed]",
      "text/plain": [
       "<Figure size 1080x720 with 1 Axes>"
      ]
     },
     "metadata": {},
     "output_type": "display_data"
    },
    {
     "data": {
      "application/javascript": [
       "\n",
       "            setTimeout(function() {\n",
       "                var nbb_cell_id = 29;\n",
       "                var nbb_unformatted_code = \"perc_on_bar(df.Owner_Type, \\\"Owner_Type\\\")\";\n",
       "                var nbb_formatted_code = \"perc_on_bar(df.Owner_Type, \\\"Owner_Type\\\")\";\n",
       "                var nbb_cells = Jupyter.notebook.get_cells();\n",
       "                for (var i = 0; i < nbb_cells.length; ++i) {\n",
       "                    if (nbb_cells[i].input_prompt_number == nbb_cell_id) {\n",
       "                        if (nbb_cells[i].get_text() == nbb_unformatted_code) {\n",
       "                             nbb_cells[i].set_text(nbb_formatted_code);\n",
       "                        }\n",
       "                        break;\n",
       "                    }\n",
       "                }\n",
       "            }, 500);\n",
       "            "
      ],
      "text/plain": [
       "<IPython.core.display.Javascript object>"
      ]
     },
     "metadata": {},
     "output_type": "display_data"
    }
   ],
   "source": [
    "perc_on_bar(df.Owner_Type, \"Owner_Type\")"
   ]
  },
  {
   "cell_type": "markdown",
   "metadata": {},
   "source": [
    "**Insights**\n",
    "* 82% of the cars being resold have only had one owner previously and the higher the number of previous owners, the lower the number of cars there are being sold. \n",
    "* This could have to do with the year of the car as well, we saw there weren't a lot of older cars for sale, and the older the car, the more owners it could possibly have. "
   ]
  },
  {
   "cell_type": "code",
   "execution_count": 30,
   "metadata": {},
   "outputs": [
    {
     "data": {
      "image/png": "[encoded data removed]",
      "text/plain": [
       "<Figure size 1080x720 with 1 Axes>"
      ]
     },
     "metadata": {},
     "output_type": "display_data"
    },
    {
     "data": {
      "application/javascript": [
       "\n",
       "            setTimeout(function() {\n",
       "                var nbb_cell_id = 30;\n",
       "                var nbb_unformatted_code = \"perc_on_bar(df.Seats, \\\"Seats\\\")\";\n",
       "                var nbb_formatted_code = \"perc_on_bar(df.Seats, \\\"Seats\\\")\";\n",
       "                var nbb_cells = Jupyter.notebook.get_cells();\n",
       "                for (var i = 0; i < nbb_cells.length; ++i) {\n",
       "                    if (nbb_cells[i].input_prompt_number == nbb_cell_id) {\n",
       "                        if (nbb_cells[i].get_text() == nbb_unformatted_code) {\n",
       "                             nbb_cells[i].set_text(nbb_formatted_code);\n",
       "                        }\n",
       "                        break;\n",
       "                    }\n",
       "                }\n",
       "            }, 500);\n",
       "            "
      ],
      "text/plain": [
       "<IPython.core.display.Javascript object>"
      ]
     },
     "metadata": {},
     "output_type": "display_data"
    }
   ],
   "source": [
    "perc_on_bar(df.Seats, \"Seats\")"
   ]
  },
  {
   "cell_type": "markdown",
   "metadata": {},
   "source": [
    "**Insights**\n",
    "* Most of the cars being sold are 5 seaters."
   ]
  },
  {
   "cell_type": "markdown",
   "metadata": {},
   "source": [
    "## Bivariate Analysis"
   ]
  },
  {
   "cell_type": "markdown",
   "metadata": {},
   "source": [
    "**Check for correlation between numerical values**"
   ]
  },
  {
   "cell_type": "code",
   "execution_count": 31,
   "metadata": {},
   "outputs": [
    {
     "data": {
      "text/plain": [
       "<AxesSubplot:>"
      ]
     },
     "execution_count": 31,
     "metadata": {},
     "output_type": "execute_result"
    },
    {
     "data": {
      "image/png": "[encoded data removed]",
      "text/plain": [
       "<Figure size 1080x720 with 2 Axes>"
      ]
     },
     "metadata": {},
     "output_type": "display_data"
    },
    {
     "data": {
      "application/javascript": [
       "\n",
       "            setTimeout(function() {\n",
       "                var nbb_cell_id = 31;\n",
       "                var nbb_unformatted_code = \"numeric_columns = df.select_dtypes(include=np.number).columns.tolist()\\ncorr = df[numeric_columns].corr()\\n\\n# Set up the matplotlib figure\\nf, ax = plt.subplots(figsize=(15, 10))\\n\\n# Draw the heatmap with the mask and correct aspect ratio\\nsns.heatmap(corr, cmap=\\\"mako\\\", annot=True)\";\n",
       "                var nbb_formatted_code = \"numeric_columns = df.select_dtypes(include=np.number).columns.tolist()\\ncorr = df[numeric_columns].corr()\\n\\n# Set up the matplotlib figure\\nf, ax = plt.subplots(figsize=(15, 10))\\n\\n# Draw the heatmap with the mask and correct aspect ratio\\nsns.heatmap(corr, cmap=\\\"mako\\\", annot=True)\";\n",
       "                var nbb_cells = Jupyter.notebook.get_cells();\n",
       "                for (var i = 0; i < nbb_cells.length; ++i) {\n",
       "                    if (nbb_cells[i].input_prompt_number == nbb_cell_id) {\n",
       "                        if (nbb_cells[i].get_text() == nbb_unformatted_code) {\n",
       "                             nbb_cells[i].set_text(nbb_formatted_code);\n",
       "                        }\n",
       "                        break;\n",
       "                    }\n",
       "                }\n",
       "            }, 500);\n",
       "            "
      ],
      "text/plain": [
       "<IPython.core.display.Javascript object>"
      ]
     },
     "metadata": {},
     "output_type": "display_data"
    }
   ],
   "source": [
    "numeric_columns = df.select_dtypes(include=np.number).columns.tolist()\n",
    "corr = df[numeric_columns].corr()\n",
    "\n",
    "# Set up the matplotlib figure\n",
    "f, ax = plt.subplots(figsize=(15, 10))\n",
    "\n",
    "# Draw the heatmap with the mask and correct aspect ratio\n",
    "sns.heatmap(corr, cmap=\"mako\", annot=True)"
   ]
  },
  {
   "cell_type": "markdown",
   "metadata": {},
   "source": [
    "**Insights**\n",
    "* 'Power' and 'Engine' seem to have the strongest positive relationship with price, as well with each other.\n",
    "* 'Mileage' has a more negative correlation with Price, however it's not as strong."
   ]
  },
  {
   "cell_type": "markdown",
   "metadata": {},
   "source": [
    "**Check for correlation between categorical variables**"
   ]
  },
  {
   "cell_type": "code",
   "execution_count": 32,
   "metadata": {
    "scrolled": false
   },
   "outputs": [
    {
     "data": {
      "image/png": "[encoded data removed]",
      "text/plain": [
       "<Figure size 1080x576 with 1 Axes>"
      ]
     },
     "metadata": {},
     "output_type": "display_data"
    },
    {
     "data": {
      "application/javascript": [
       "\n",
       "            setTimeout(function() {\n",
       "                var nbb_cell_id = 32;\n",
       "                var nbb_unformatted_code = \"# Price vs Location\\nplt.figure(figsize=(15, 8))\\nsns.boxplot(x=\\\"Location\\\", y=\\\"Price\\\", data=df)\\nplt.show()\";\n",
       "                var nbb_formatted_code = \"# Price vs Location\\nplt.figure(figsize=(15, 8))\\nsns.boxplot(x=\\\"Location\\\", y=\\\"Price\\\", data=df)\\nplt.show()\";\n",
       "                var nbb_cells = Jupyter.notebook.get_cells();\n",
       "                for (var i = 0; i < nbb_cells.length; ++i) {\n",
       "                    if (nbb_cells[i].input_prompt_number == nbb_cell_id) {\n",
       "                        if (nbb_cells[i].get_text() == nbb_unformatted_code) {\n",
       "                             nbb_cells[i].set_text(nbb_formatted_code);\n",
       "                        }\n",
       "                        break;\n",
       "                    }\n",
       "                }\n",
       "            }, 500);\n",
       "            "
      ],
      "text/plain": [
       "<IPython.core.display.Javascript object>"
      ]
     },
     "metadata": {},
     "output_type": "display_data"
    }
   ],
   "source": [
    "# Price vs Location\n",
    "plt.figure(figsize=(15, 8))\n",
    "sns.boxplot(x=\"Location\", y=\"Price\", data=df)\n",
    "plt.show()"
   ]
  },
  {
   "cell_type": "markdown",
   "metadata": {},
   "source": [
    "**Insights**\n",
    "* While there are some outliers and some variation between price in cities, the average price is around the same and I wouldn't consider this variable a huge determining factor in the price of the car."
   ]
  },
  {
   "cell_type": "code",
   "execution_count": 33,
   "metadata": {
    "scrolled": false
   },
   "outputs": [
    {
     "data": {
      "text/plain": [
       "<AxesSubplot:xlabel='Year', ylabel='Price'>"
      ]
     },
     "execution_count": 33,
     "metadata": {},
     "output_type": "execute_result"
    },
    {
     "data": {
      "image/png": "[encoded data removed]",
      "text/plain": [
       "<Figure size 1080x504 with 1 Axes>"
      ]
     },
     "metadata": {},
     "output_type": "display_data"
    },
    {
     "data": {
      "application/javascript": [
       "\n",
       "            setTimeout(function() {\n",
       "                var nbb_cell_id = 33;\n",
       "                var nbb_unformatted_code = \"# Price vs Year\\nplt.figure(figsize=(15, 7))\\nsns.lineplot(x=\\\"Year\\\", y=\\\"Price\\\", data=df, ci=None)\";\n",
       "                var nbb_formatted_code = \"# Price vs Year\\nplt.figure(figsize=(15, 7))\\nsns.lineplot(x=\\\"Year\\\", y=\\\"Price\\\", data=df, ci=None)\";\n",
       "                var nbb_cells = Jupyter.notebook.get_cells();\n",
       "                for (var i = 0; i < nbb_cells.length; ++i) {\n",
       "                    if (nbb_cells[i].input_prompt_number == nbb_cell_id) {\n",
       "                        if (nbb_cells[i].get_text() == nbb_unformatted_code) {\n",
       "                             nbb_cells[i].set_text(nbb_formatted_code);\n",
       "                        }\n",
       "                        break;\n",
       "                    }\n",
       "                }\n",
       "            }, 500);\n",
       "            "
      ],
      "text/plain": [
       "<IPython.core.display.Javascript object>"
      ]
     },
     "metadata": {},
     "output_type": "display_data"
    }
   ],
   "source": [
    "# Price vs Year\n",
    "plt.figure(figsize=(15, 7))\n",
    "sns.lineplot(x=\"Year\", y=\"Price\", data=df, ci=None)"
   ]
  },
  {
   "cell_type": "markdown",
   "metadata": {},
   "source": [
    "**Insights** \n",
    "* Newer cars are more significantly more expensive, the year of the car seems to have a strong correlation to the price unsurprisngly.  "
   ]
  },
  {
   "cell_type": "code",
   "execution_count": 34,
   "metadata": {
    "scrolled": false
   },
   "outputs": [
    {
     "data": {
      "image/png": "[encoded data removed]",
      "text/plain": [
       "<Figure size 576x576 with 1 Axes>"
      ]
     },
     "metadata": {},
     "output_type": "display_data"
    },
    {
     "data": {
      "application/javascript": [
       "\n",
       "            setTimeout(function() {\n",
       "                var nbb_cell_id = 34;\n",
       "                var nbb_unformatted_code = \"# Fuel Type vs Price\\nplt.figure(figsize=(8, 8))\\nsns.boxplot(x=\\\"Fuel_Type\\\", y=\\\"Price\\\", data=df)\\nplt.show()\";\n",
       "                var nbb_formatted_code = \"# Fuel Type vs Price\\nplt.figure(figsize=(8, 8))\\nsns.boxplot(x=\\\"Fuel_Type\\\", y=\\\"Price\\\", data=df)\\nplt.show()\";\n",
       "                var nbb_cells = Jupyter.notebook.get_cells();\n",
       "                for (var i = 0; i < nbb_cells.length; ++i) {\n",
       "                    if (nbb_cells[i].input_prompt_number == nbb_cell_id) {\n",
       "                        if (nbb_cells[i].get_text() == nbb_unformatted_code) {\n",
       "                             nbb_cells[i].set_text(nbb_formatted_code);\n",
       "                        }\n",
       "                        break;\n",
       "                    }\n",
       "                }\n",
       "            }, 500);\n",
       "            "
      ],
      "text/plain": [
       "<IPython.core.display.Javascript object>"
      ]
     },
     "metadata": {},
     "output_type": "display_data"
    }
   ],
   "source": [
    "# Fuel Type vs Price\n",
    "plt.figure(figsize=(8, 8))\n",
    "sns.boxplot(x=\"Fuel_Type\", y=\"Price\", data=df)\n",
    "plt.show()"
   ]
  },
  {
   "cell_type": "markdown",
   "metadata": {},
   "source": [
    "**Insights**\n",
    "* Not a huge variance here considering the majority of the cars are diesel or petrol.\n",
    "* Diesel cars appear to be more expensive overall, but not by a staggering amount."
   ]
  },
  {
   "cell_type": "code",
   "execution_count": 35,
   "metadata": {},
   "outputs": [
    {
     "data": {
      "image/png": "[encoded data removed]",
      "text/plain": [
       "<Figure size 648x648 with 1 Axes>"
      ]
     },
     "metadata": {},
     "output_type": "display_data"
    },
    {
     "data": {
      "application/javascript": [
       "\n",
       "            setTimeout(function() {\n",
       "                var nbb_cell_id = 35;\n",
       "                var nbb_unformatted_code = \"# Transmission vs Price\\nplt.figure(figsize=(9, 9))\\nsns.histplot(data=df, x=\\\"Price\\\", hue=\\\"Transmission\\\")\\nplt.show()\";\n",
       "                var nbb_formatted_code = \"# Transmission vs Price\\nplt.figure(figsize=(9, 9))\\nsns.histplot(data=df, x=\\\"Price\\\", hue=\\\"Transmission\\\")\\nplt.show()\";\n",
       "                var nbb_cells = Jupyter.notebook.get_cells();\n",
       "                for (var i = 0; i < nbb_cells.length; ++i) {\n",
       "                    if (nbb_cells[i].input_prompt_number == nbb_cell_id) {\n",
       "                        if (nbb_cells[i].get_text() == nbb_unformatted_code) {\n",
       "                             nbb_cells[i].set_text(nbb_formatted_code);\n",
       "                        }\n",
       "                        break;\n",
       "                    }\n",
       "                }\n",
       "            }, 500);\n",
       "            "
      ],
      "text/plain": [
       "<IPython.core.display.Javascript object>"
      ]
     },
     "metadata": {},
     "output_type": "display_data"
    }
   ],
   "source": [
    "# Transmission vs Price\n",
    "plt.figure(figsize=(9, 9))\n",
    "sns.histplot(data=df, x=\"Price\", hue=\"Transmission\")\n",
    "plt.show()"
   ]
  },
  {
   "cell_type": "markdown",
   "metadata": {},
   "source": [
    "**Insights**\n",
    "* Along with there being more manual transmission cars, the price for those cars is significantly lower than automatic transmission cars.\n",
    "* I would consider this variable to be somewhat correlated with the price."
   ]
  },
  {
   "cell_type": "code",
   "execution_count": 36,
   "metadata": {
    "scrolled": false
   },
   "outputs": [
    {
     "data": {
      "image/png": "[encoded data removed]",
      "text/plain": [
       "<Figure size 576x576 with 1 Axes>"
      ]
     },
     "metadata": {},
     "output_type": "display_data"
    },
    {
     "data": {
      "application/javascript": [
       "\n",
       "            setTimeout(function() {\n",
       "                var nbb_cell_id = 36;\n",
       "                var nbb_unformatted_code = \"plt.figure(figsize=(8, 8))\\nsns.boxplot(x=\\\"Owner_Type\\\", y=\\\"Price\\\", data=df)\\nplt.show()\";\n",
       "                var nbb_formatted_code = \"plt.figure(figsize=(8, 8))\\nsns.boxplot(x=\\\"Owner_Type\\\", y=\\\"Price\\\", data=df)\\nplt.show()\";\n",
       "                var nbb_cells = Jupyter.notebook.get_cells();\n",
       "                for (var i = 0; i < nbb_cells.length; ++i) {\n",
       "                    if (nbb_cells[i].input_prompt_number == nbb_cell_id) {\n",
       "                        if (nbb_cells[i].get_text() == nbb_unformatted_code) {\n",
       "                             nbb_cells[i].set_text(nbb_formatted_code);\n",
       "                        }\n",
       "                        break;\n",
       "                    }\n",
       "                }\n",
       "            }, 500);\n",
       "            "
      ],
      "text/plain": [
       "<IPython.core.display.Javascript object>"
      ]
     },
     "metadata": {},
     "output_type": "display_data"
    }
   ],
   "source": [
    "plt.figure(figsize=(8, 8))\n",
    "sns.boxplot(x=\"Owner_Type\", y=\"Price\", data=df)\n",
    "plt.show()"
   ]
  },
  {
   "cell_type": "markdown",
   "metadata": {},
   "source": [
    "**Insights**\n",
    "* Not a strong correlation here, the number of owners doesn't seem to be an important factor in the car pricing."
   ]
  },
  {
   "cell_type": "code",
   "execution_count": 37,
   "metadata": {},
   "outputs": [
    {
     "data": {
      "image/png": "[encoded data removed]",
      "text/plain": [
       "<Figure size 576x576 with 1 Axes>"
      ]
     },
     "metadata": {},
     "output_type": "display_data"
    },
    {
     "data": {
      "application/javascript": [
       "\n",
       "            setTimeout(function() {\n",
       "                var nbb_cell_id = 37;\n",
       "                var nbb_unformatted_code = \"plt.figure(figsize=(8, 8))\\nsns.boxplot(data=df, y=\\\"Price\\\", x=\\\"Seats\\\")\\nplt.show()\";\n",
       "                var nbb_formatted_code = \"plt.figure(figsize=(8, 8))\\nsns.boxplot(data=df, y=\\\"Price\\\", x=\\\"Seats\\\")\\nplt.show()\";\n",
       "                var nbb_cells = Jupyter.notebook.get_cells();\n",
       "                for (var i = 0; i < nbb_cells.length; ++i) {\n",
       "                    if (nbb_cells[i].input_prompt_number == nbb_cell_id) {\n",
       "                        if (nbb_cells[i].get_text() == nbb_unformatted_code) {\n",
       "                             nbb_cells[i].set_text(nbb_formatted_code);\n",
       "                        }\n",
       "                        break;\n",
       "                    }\n",
       "                }\n",
       "            }, 500);\n",
       "            "
      ],
      "text/plain": [
       "<IPython.core.display.Javascript object>"
      ]
     },
     "metadata": {},
     "output_type": "display_data"
    }
   ],
   "source": [
    "plt.figure(figsize=(8, 8))\n",
    "sns.boxplot(data=df, y=\"Price\", x=\"Seats\")\n",
    "plt.show()"
   ]
  },
  {
   "cell_type": "markdown",
   "metadata": {},
   "source": [
    "**Insights**\n",
    "* Cars with two seats are significantly more expensive than the rest, this is probably because more sports cars and high-end cars with powerful engines are two-seaters and therefore more expensive."
   ]
  },
  {
   "cell_type": "markdown",
   "metadata": {},
   "source": [
    "**Let's look at the graphs of a few variables that are highly correlated with Price**"
   ]
  },
  {
   "cell_type": "code",
   "execution_count": 38,
   "metadata": {
    "scrolled": false
   },
   "outputs": [
    {
     "data": {
      "text/plain": [
       "<AxesSubplot:xlabel='Power', ylabel='Price'>"
      ]
     },
     "execution_count": 38,
     "metadata": {},
     "output_type": "execute_result"
    },
    {
     "data": {
      "image/png": "[encoded data removed]",
      "text/plain": [
       "<Figure size 720x504 with 1 Axes>"
      ]
     },
     "metadata": {},
     "output_type": "display_data"
    },
    {
     "data": {
      "application/javascript": [
       "\n",
       "            setTimeout(function() {\n",
       "                var nbb_cell_id = 38;\n",
       "                var nbb_unformatted_code = \"plt.figure(figsize=(10, 7))\\nsns.scatterplot(y=\\\"Price\\\", x=\\\"Power\\\", hue=\\\"Engine\\\", data=df)\";\n",
       "                var nbb_formatted_code = \"plt.figure(figsize=(10, 7))\\nsns.scatterplot(y=\\\"Price\\\", x=\\\"Power\\\", hue=\\\"Engine\\\", data=df)\";\n",
       "                var nbb_cells = Jupyter.notebook.get_cells();\n",
       "                for (var i = 0; i < nbb_cells.length; ++i) {\n",
       "                    if (nbb_cells[i].input_prompt_number == nbb_cell_id) {\n",
       "                        if (nbb_cells[i].get_text() == nbb_unformatted_code) {\n",
       "                             nbb_cells[i].set_text(nbb_formatted_code);\n",
       "                        }\n",
       "                        break;\n",
       "                    }\n",
       "                }\n",
       "            }, 500);\n",
       "            "
      ],
      "text/plain": [
       "<IPython.core.display.Javascript object>"
      ]
     },
     "metadata": {},
     "output_type": "display_data"
    }
   ],
   "source": [
    "plt.figure(figsize=(10, 7))\n",
    "sns.scatterplot(y=\"Price\", x=\"Power\", hue=\"Engine\", data=df)"
   ]
  },
  {
   "cell_type": "markdown",
   "metadata": {},
   "source": [
    "**Insights**\n",
    "* As we noted earlier, more powerful cars with stronger engines are higher end and therefore cost more than other used cars. "
   ]
  },
  {
   "cell_type": "markdown",
   "metadata": {},
   "source": [
    "## Data Preperation for Modeling"
   ]
  },
  {
   "cell_type": "markdown",
   "metadata": {},
   "source": [
    "**Feature Engineering**\n",
    "\n",
    "\n",
    "To start I'm going to be spliting the 'Name' column in order to extract the Brand and drop everything else. For the \n",
    "purpose of this regression model, I will only be using the Brand as a category and not any specific models for \n",
    "the sake of simplicity. Doing this will greatly reduce the number of columns after hot-encoding."
   ]
  },
  {
   "cell_type": "code",
   "execution_count": 39,
   "metadata": {},
   "outputs": [
    {
     "data": {
      "text/html": [
       "<div>\n",
       "<style scoped>\n",
       "    .dataframe tbody tr th:only-of-type {\n",
       "        vertical-align: middle;\n",
       "    }\n",
       "\n",
       "    .dataframe tbody tr th {\n",
       "        vertical-align: top;\n",
       "    }\n",
       "\n",
       "    .dataframe thead th {\n",
       "        text-align: right;\n",
       "    }\n",
       "</style>\n",
       "<table border=\"1\" class=\"dataframe\">\n",
       "  <thead>\n",
       "    <tr style=\"text-align: right;\">\n",
       "      <th></th>\n",
       "      <th>0</th>\n",
       "      <th>1</th>\n",
       "    </tr>\n",
       "  </thead>\n",
       "  <tbody>\n",
       "    <tr>\n",
       "      <th>0</th>\n",
       "      <td>Maruti</td>\n",
       "      <td>Wagon R LXI CNG</td>\n",
       "    </tr>\n",
       "    <tr>\n",
       "      <th>1</th>\n",
       "      <td>Hyundai</td>\n",
       "      <td>Creta 1.6 CRDi SX Option</td>\n",
       "    </tr>\n",
       "    <tr>\n",
       "      <th>2</th>\n",
       "      <td>Honda</td>\n",
       "      <td>Jazz V</td>\n",
       "    </tr>\n",
       "    <tr>\n",
       "      <th>3</th>\n",
       "      <td>Maruti</td>\n",
       "      <td>Ertiga VDI</td>\n",
       "    </tr>\n",
       "    <tr>\n",
       "      <th>4</th>\n",
       "      <td>Audi</td>\n",
       "      <td>A4 New 2.0 TDI Multitronic</td>\n",
       "    </tr>\n",
       "  </tbody>\n",
       "</table>\n",
       "</div>"
      ],
      "text/plain": [
       "         0                           1\n",
       "0   Maruti             Wagon R LXI CNG\n",
       "1  Hyundai    Creta 1.6 CRDi SX Option\n",
       "2    Honda                      Jazz V\n",
       "3   Maruti                  Ertiga VDI\n",
       "4     Audi  A4 New 2.0 TDI Multitronic"
      ]
     },
     "execution_count": 39,
     "metadata": {},
     "output_type": "execute_result"
    },
    {
     "data": {
      "application/javascript": [
       "\n",
       "            setTimeout(function() {\n",
       "                var nbb_cell_id = 39;\n",
       "                var nbb_unformatted_code = \"# split name variable in two\\nnamesplt = df[\\\"Name\\\"].str.split(\\\" \\\", n=1, expand=True)\\nnamesplt.head()\";\n",
       "                var nbb_formatted_code = \"# split name variable in two\\nnamesplt = df[\\\"Name\\\"].str.split(\\\" \\\", n=1, expand=True)\\nnamesplt.head()\";\n",
       "                var nbb_cells = Jupyter.notebook.get_cells();\n",
       "                for (var i = 0; i < nbb_cells.length; ++i) {\n",
       "                    if (nbb_cells[i].input_prompt_number == nbb_cell_id) {\n",
       "                        if (nbb_cells[i].get_text() == nbb_unformatted_code) {\n",
       "                             nbb_cells[i].set_text(nbb_formatted_code);\n",
       "                        }\n",
       "                        break;\n",
       "                    }\n",
       "                }\n",
       "            }, 500);\n",
       "            "
      ],
      "text/plain": [
       "<IPython.core.display.Javascript object>"
      ]
     },
     "metadata": {},
     "output_type": "display_data"
    }
   ],
   "source": [
    "# split name variable in two\n",
    "namesplt = df[\"Name\"].str.split(\" \", n=1, expand=True)\n",
    "namesplt.head()"
   ]
  },
  {
   "cell_type": "code",
   "execution_count": 40,
   "metadata": {},
   "outputs": [
    {
     "data": {
      "application/javascript": [
       "\n",
       "            setTimeout(function() {\n",
       "                var nbb_cell_id = 40;\n",
       "                var nbb_unformatted_code = \"# drop everything but the Brand name and have append that to dataset\\ndf.drop([\\\"Name\\\"], axis=1, inplace=True)\\ndf[\\\"Brand\\\"] = namesplt[0]\\n\\ndel namesplt\";\n",
       "                var nbb_formatted_code = \"# drop everything but the Brand name and have append that to dataset\\ndf.drop([\\\"Name\\\"], axis=1, inplace=True)\\ndf[\\\"Brand\\\"] = namesplt[0]\\n\\ndel namesplt\";\n",
       "                var nbb_cells = Jupyter.notebook.get_cells();\n",
       "                for (var i = 0; i < nbb_cells.length; ++i) {\n",
       "                    if (nbb_cells[i].input_prompt_number == nbb_cell_id) {\n",
       "                        if (nbb_cells[i].get_text() == nbb_unformatted_code) {\n",
       "                             nbb_cells[i].set_text(nbb_formatted_code);\n",
       "                        }\n",
       "                        break;\n",
       "                    }\n",
       "                }\n",
       "            }, 500);\n",
       "            "
      ],
      "text/plain": [
       "<IPython.core.display.Javascript object>"
      ]
     },
     "metadata": {},
     "output_type": "display_data"
    }
   ],
   "source": [
    "# drop everything but the Brand name and have append that to dataset\n",
    "df.drop([\"Name\"], axis=1, inplace=True)\n",
    "df[\"Brand\"] = namesplt[0]\n",
    "\n",
    "del namesplt"
   ]
  },
  {
   "cell_type": "code",
   "execution_count": 41,
   "metadata": {},
   "outputs": [
    {
     "data": {
      "text/html": [
       "<div>\n",
       "<style scoped>\n",
       "    .dataframe tbody tr th:only-of-type {\n",
       "        vertical-align: middle;\n",
       "    }\n",
       "\n",
       "    .dataframe tbody tr th {\n",
       "        vertical-align: top;\n",
       "    }\n",
       "\n",
       "    .dataframe thead th {\n",
       "        text-align: right;\n",
       "    }\n",
       "</style>\n",
       "<table border=\"1\" class=\"dataframe\">\n",
       "  <thead>\n",
       "    <tr style=\"text-align: right;\">\n",
       "      <th></th>\n",
       "      <th>Location</th>\n",
       "      <th>Year</th>\n",
       "      <th>Kilometers_Driven</th>\n",
       "      <th>Fuel_Type</th>\n",
       "      <th>Transmission</th>\n",
       "      <th>Owner_Type</th>\n",
       "      <th>Mileage</th>\n",
       "      <th>Engine</th>\n",
       "      <th>Power</th>\n",
       "      <th>Seats</th>\n",
       "      <th>Price</th>\n",
       "      <th>Brand</th>\n",
       "    </tr>\n",
       "  </thead>\n",
       "  <tbody>\n",
       "    <tr>\n",
       "      <th>0</th>\n",
       "      <td>Mumbai</td>\n",
       "      <td>2010</td>\n",
       "      <td>72000</td>\n",
       "      <td>CNG</td>\n",
       "      <td>Manual</td>\n",
       "      <td>First</td>\n",
       "      <td>26.60</td>\n",
       "      <td>998.0</td>\n",
       "      <td>58.16</td>\n",
       "      <td>5.0</td>\n",
       "      <td>1.75</td>\n",
       "      <td>Maruti</td>\n",
       "    </tr>\n",
       "    <tr>\n",
       "      <th>1</th>\n",
       "      <td>Pune</td>\n",
       "      <td>2015</td>\n",
       "      <td>41000</td>\n",
       "      <td>Diesel</td>\n",
       "      <td>Manual</td>\n",
       "      <td>First</td>\n",
       "      <td>19.67</td>\n",
       "      <td>1582.0</td>\n",
       "      <td>126.20</td>\n",
       "      <td>5.0</td>\n",
       "      <td>12.50</td>\n",
       "      <td>Hyundai</td>\n",
       "    </tr>\n",
       "    <tr>\n",
       "      <th>2</th>\n",
       "      <td>Chennai</td>\n",
       "      <td>2011</td>\n",
       "      <td>46000</td>\n",
       "      <td>Petrol</td>\n",
       "      <td>Manual</td>\n",
       "      <td>First</td>\n",
       "      <td>18.20</td>\n",
       "      <td>1199.0</td>\n",
       "      <td>88.70</td>\n",
       "      <td>5.0</td>\n",
       "      <td>4.50</td>\n",
       "      <td>Honda</td>\n",
       "    </tr>\n",
       "    <tr>\n",
       "      <th>3</th>\n",
       "      <td>Chennai</td>\n",
       "      <td>2012</td>\n",
       "      <td>87000</td>\n",
       "      <td>Diesel</td>\n",
       "      <td>Manual</td>\n",
       "      <td>First</td>\n",
       "      <td>20.77</td>\n",
       "      <td>1248.0</td>\n",
       "      <td>88.76</td>\n",
       "      <td>7.0</td>\n",
       "      <td>6.00</td>\n",
       "      <td>Maruti</td>\n",
       "    </tr>\n",
       "    <tr>\n",
       "      <th>4</th>\n",
       "      <td>Coimbatore</td>\n",
       "      <td>2013</td>\n",
       "      <td>40670</td>\n",
       "      <td>Diesel</td>\n",
       "      <td>Automatic</td>\n",
       "      <td>Second</td>\n",
       "      <td>15.20</td>\n",
       "      <td>1968.0</td>\n",
       "      <td>140.80</td>\n",
       "      <td>5.0</td>\n",
       "      <td>17.74</td>\n",
       "      <td>Audi</td>\n",
       "    </tr>\n",
       "  </tbody>\n",
       "</table>\n",
       "</div>"
      ],
      "text/plain": [
       "     Location  Year  Kilometers_Driven Fuel_Type Transmission Owner_Type  \\\n",
       "0      Mumbai  2010              72000       CNG       Manual      First   \n",
       "1        Pune  2015              41000    Diesel       Manual      First   \n",
       "2     Chennai  2011              46000    Petrol       Manual      First   \n",
       "3     Chennai  2012              87000    Diesel       Manual      First   \n",
       "4  Coimbatore  2013              40670    Diesel    Automatic     Second   \n",
       "\n",
       "   Mileage  Engine   Power  Seats  Price    Brand  \n",
       "0    26.60   998.0   58.16    5.0   1.75   Maruti  \n",
       "1    19.67  1582.0  126.20    5.0  12.50  Hyundai  \n",
       "2    18.20  1199.0   88.70    5.0   4.50    Honda  \n",
       "3    20.77  1248.0   88.76    7.0   6.00   Maruti  \n",
       "4    15.20  1968.0  140.80    5.0  17.74     Audi  "
      ]
     },
     "execution_count": 41,
     "metadata": {},
     "output_type": "execute_result"
    },
    {
     "data": {
      "application/javascript": [
       "\n",
       "            setTimeout(function() {\n",
       "                var nbb_cell_id = 41;\n",
       "                var nbb_unformatted_code = \"df.head()\";\n",
       "                var nbb_formatted_code = \"df.head()\";\n",
       "                var nbb_cells = Jupyter.notebook.get_cells();\n",
       "                for (var i = 0; i < nbb_cells.length; ++i) {\n",
       "                    if (nbb_cells[i].input_prompt_number == nbb_cell_id) {\n",
       "                        if (nbb_cells[i].get_text() == nbb_unformatted_code) {\n",
       "                             nbb_cells[i].set_text(nbb_formatted_code);\n",
       "                        }\n",
       "                        break;\n",
       "                    }\n",
       "                }\n",
       "            }, 500);\n",
       "            "
      ],
      "text/plain": [
       "<IPython.core.display.Javascript object>"
      ]
     },
     "metadata": {},
     "output_type": "display_data"
    }
   ],
   "source": [
    "df.head()"
   ]
  },
  {
   "cell_type": "markdown",
   "metadata": {},
   "source": [
    "Next I'm going to be reducing the 'Location' column from cities to regions in order to include this variable in the regression model more easily. This will reduce the number of columns from 10 to 3 once hot-encoded later."
   ]
  },
  {
   "cell_type": "code",
   "execution_count": 42,
   "metadata": {},
   "outputs": [
    {
     "data": {
      "application/javascript": [
       "\n",
       "            setTimeout(function() {\n",
       "                var nbb_cell_id = 42;\n",
       "                var nbb_unformatted_code = \"# function to convert the cities to their respective regions\\ndef city_to_region(cn):\\n    \\\"\\\"\\\"\\n    cn : name of city for which region is needed\\n    \\\"\\\"\\\"\\n    if cn in (\\\"Delhi\\\", \\\"Jaipur\\\"):\\n        return \\\"North\\\"\\n    elif cn == \\\"Kolkata\\\":\\n        return \\\"East\\\"\\n    elif cn in (\\\"Ahmedabad\\\", \\\"Mumbai\\\", \\\"Pune\\\"):\\n        return \\\"West\\\"\\n    else:\\n        return \\\"South\\\"\";\n",
       "                var nbb_formatted_code = \"# function to convert the cities to their respective regions\\ndef city_to_region(cn):\\n    \\\"\\\"\\\"\\n    cn : name of city for which region is needed\\n    \\\"\\\"\\\"\\n    if cn in (\\\"Delhi\\\", \\\"Jaipur\\\"):\\n        return \\\"North\\\"\\n    elif cn == \\\"Kolkata\\\":\\n        return \\\"East\\\"\\n    elif cn in (\\\"Ahmedabad\\\", \\\"Mumbai\\\", \\\"Pune\\\"):\\n        return \\\"West\\\"\\n    else:\\n        return \\\"South\\\"\";\n",
       "                var nbb_cells = Jupyter.notebook.get_cells();\n",
       "                for (var i = 0; i < nbb_cells.length; ++i) {\n",
       "                    if (nbb_cells[i].input_prompt_number == nbb_cell_id) {\n",
       "                        if (nbb_cells[i].get_text() == nbb_unformatted_code) {\n",
       "                             nbb_cells[i].set_text(nbb_formatted_code);\n",
       "                        }\n",
       "                        break;\n",
       "                    }\n",
       "                }\n",
       "            }, 500);\n",
       "            "
      ],
      "text/plain": [
       "<IPython.core.display.Javascript object>"
      ]
     },
     "metadata": {},
     "output_type": "display_data"
    }
   ],
   "source": [
    "# function to convert the cities to their respective regions\n",
    "def city_to_region(cn):\n",
    "    \"\"\"\n",
    "    cn : name of city for which region is needed\n",
    "    \"\"\"\n",
    "    if cn in (\"Delhi\", \"Jaipur\"):\n",
    "        return \"North\"\n",
    "    elif cn == \"Kolkata\":\n",
    "        return \"East\"\n",
    "    elif cn in (\"Ahmedabad\", \"Mumbai\", \"Pune\"):\n",
    "        return \"West\"\n",
    "    else:\n",
    "        return \"South\""
   ]
  },
  {
   "cell_type": "code",
   "execution_count": 43,
   "metadata": {},
   "outputs": [
    {
     "data": {
      "application/javascript": [
       "\n",
       "            setTimeout(function() {\n",
       "                var nbb_cell_id = 43;\n",
       "                var nbb_unformatted_code = \"df[\\\"Region\\\"] = df.Location.apply(city_to_region)\";\n",
       "                var nbb_formatted_code = \"df[\\\"Region\\\"] = df.Location.apply(city_to_region)\";\n",
       "                var nbb_cells = Jupyter.notebook.get_cells();\n",
       "                for (var i = 0; i < nbb_cells.length; ++i) {\n",
       "                    if (nbb_cells[i].input_prompt_number == nbb_cell_id) {\n",
       "                        if (nbb_cells[i].get_text() == nbb_unformatted_code) {\n",
       "                             nbb_cells[i].set_text(nbb_formatted_code);\n",
       "                        }\n",
       "                        break;\n",
       "                    }\n",
       "                }\n",
       "            }, 500);\n",
       "            "
      ],
      "text/plain": [
       "<IPython.core.display.Javascript object>"
      ]
     },
     "metadata": {},
     "output_type": "display_data"
    }
   ],
   "source": [
    "df[\"Region\"] = df.Location.apply(city_to_region)"
   ]
  },
  {
   "cell_type": "code",
   "execution_count": 44,
   "metadata": {},
   "outputs": [
    {
     "data": {
      "text/html": [
       "<div>\n",
       "<style scoped>\n",
       "    .dataframe tbody tr th:only-of-type {\n",
       "        vertical-align: middle;\n",
       "    }\n",
       "\n",
       "    .dataframe tbody tr th {\n",
       "        vertical-align: top;\n",
       "    }\n",
       "\n",
       "    .dataframe thead th {\n",
       "        text-align: right;\n",
       "    }\n",
       "</style>\n",
       "<table border=\"1\" class=\"dataframe\">\n",
       "  <thead>\n",
       "    <tr style=\"text-align: right;\">\n",
       "      <th></th>\n",
       "      <th>Year</th>\n",
       "      <th>Kilometers_Driven</th>\n",
       "      <th>Fuel_Type</th>\n",
       "      <th>Transmission</th>\n",
       "      <th>Owner_Type</th>\n",
       "      <th>Mileage</th>\n",
       "      <th>Engine</th>\n",
       "      <th>Power</th>\n",
       "      <th>Seats</th>\n",
       "      <th>Price</th>\n",
       "      <th>Brand</th>\n",
       "      <th>Region</th>\n",
       "    </tr>\n",
       "  </thead>\n",
       "  <tbody>\n",
       "    <tr>\n",
       "      <th>0</th>\n",
       "      <td>2010</td>\n",
       "      <td>72000</td>\n",
       "      <td>CNG</td>\n",
       "      <td>Manual</td>\n",
       "      <td>First</td>\n",
       "      <td>26.60</td>\n",
       "      <td>998.0</td>\n",
       "      <td>58.16</td>\n",
       "      <td>5.0</td>\n",
       "      <td>1.75</td>\n",
       "      <td>Maruti</td>\n",
       "      <td>West</td>\n",
       "    </tr>\n",
       "    <tr>\n",
       "      <th>1</th>\n",
       "      <td>2015</td>\n",
       "      <td>41000</td>\n",
       "      <td>Diesel</td>\n",
       "      <td>Manual</td>\n",
       "      <td>First</td>\n",
       "      <td>19.67</td>\n",
       "      <td>1582.0</td>\n",
       "      <td>126.20</td>\n",
       "      <td>5.0</td>\n",
       "      <td>12.50</td>\n",
       "      <td>Hyundai</td>\n",
       "      <td>West</td>\n",
       "    </tr>\n",
       "    <tr>\n",
       "      <th>2</th>\n",
       "      <td>2011</td>\n",
       "      <td>46000</td>\n",
       "      <td>Petrol</td>\n",
       "      <td>Manual</td>\n",
       "      <td>First</td>\n",
       "      <td>18.20</td>\n",
       "      <td>1199.0</td>\n",
       "      <td>88.70</td>\n",
       "      <td>5.0</td>\n",
       "      <td>4.50</td>\n",
       "      <td>Honda</td>\n",
       "      <td>South</td>\n",
       "    </tr>\n",
       "    <tr>\n",
       "      <th>3</th>\n",
       "      <td>2012</td>\n",
       "      <td>87000</td>\n",
       "      <td>Diesel</td>\n",
       "      <td>Manual</td>\n",
       "      <td>First</td>\n",
       "      <td>20.77</td>\n",
       "      <td>1248.0</td>\n",
       "      <td>88.76</td>\n",
       "      <td>7.0</td>\n",
       "      <td>6.00</td>\n",
       "      <td>Maruti</td>\n",
       "      <td>South</td>\n",
       "    </tr>\n",
       "    <tr>\n",
       "      <th>4</th>\n",
       "      <td>2013</td>\n",
       "      <td>40670</td>\n",
       "      <td>Diesel</td>\n",
       "      <td>Automatic</td>\n",
       "      <td>Second</td>\n",
       "      <td>15.20</td>\n",
       "      <td>1968.0</td>\n",
       "      <td>140.80</td>\n",
       "      <td>5.0</td>\n",
       "      <td>17.74</td>\n",
       "      <td>Audi</td>\n",
       "      <td>South</td>\n",
       "    </tr>\n",
       "  </tbody>\n",
       "</table>\n",
       "</div>"
      ],
      "text/plain": [
       "   Year  Kilometers_Driven Fuel_Type Transmission Owner_Type  Mileage  Engine  \\\n",
       "0  2010              72000       CNG       Manual      First    26.60   998.0   \n",
       "1  2015              41000    Diesel       Manual      First    19.67  1582.0   \n",
       "2  2011              46000    Petrol       Manual      First    18.20  1199.0   \n",
       "3  2012              87000    Diesel       Manual      First    20.77  1248.0   \n",
       "4  2013              40670    Diesel    Automatic     Second    15.20  1968.0   \n",
       "\n",
       "    Power  Seats  Price    Brand Region  \n",
       "0   58.16    5.0   1.75   Maruti   West  \n",
       "1  126.20    5.0  12.50  Hyundai   West  \n",
       "2   88.70    5.0   4.50    Honda  South  \n",
       "3   88.76    7.0   6.00   Maruti  South  \n",
       "4  140.80    5.0  17.74     Audi  South  "
      ]
     },
     "execution_count": 44,
     "metadata": {},
     "output_type": "execute_result"
    },
    {
     "data": {
      "application/javascript": [
       "\n",
       "            setTimeout(function() {\n",
       "                var nbb_cell_id = 44;\n",
       "                var nbb_unformatted_code = \"# drop 'Location' to reduce data to 'Region' for dummy variable creation\\ndf.drop([\\\"Location\\\"], axis=1, inplace=True)\\ndf.head()\";\n",
       "                var nbb_formatted_code = \"# drop 'Location' to reduce data to 'Region' for dummy variable creation\\ndf.drop([\\\"Location\\\"], axis=1, inplace=True)\\ndf.head()\";\n",
       "                var nbb_cells = Jupyter.notebook.get_cells();\n",
       "                for (var i = 0; i < nbb_cells.length; ++i) {\n",
       "                    if (nbb_cells[i].input_prompt_number == nbb_cell_id) {\n",
       "                        if (nbb_cells[i].get_text() == nbb_unformatted_code) {\n",
       "                             nbb_cells[i].set_text(nbb_formatted_code);\n",
       "                        }\n",
       "                        break;\n",
       "                    }\n",
       "                }\n",
       "            }, 500);\n",
       "            "
      ],
      "text/plain": [
       "<IPython.core.display.Javascript object>"
      ]
     },
     "metadata": {},
     "output_type": "display_data"
    }
   ],
   "source": [
    "# drop 'Location' to reduce data to 'Region' for dummy variable creation\n",
    "df.drop([\"Location\"], axis=1, inplace=True)\n",
    "df.head()"
   ]
  },
  {
   "cell_type": "markdown",
   "metadata": {},
   "source": [
    "When performing EDA I saw that the number of electric vehicles in the data set was only 2, this is a very low number and will not be useful when doing linear regression, so I will drop this data completely and reduce the number of categories in 'Fuel_Type' from 5 to 4. This will help with hot-encoding as well."
   ]
  },
  {
   "cell_type": "code",
   "execution_count": 45,
   "metadata": {},
   "outputs": [
    {
     "data": {
      "text/plain": [
       "(6019, 12)"
      ]
     },
     "execution_count": 45,
     "metadata": {},
     "output_type": "execute_result"
    },
    {
     "data": {
      "application/javascript": [
       "\n",
       "            setTimeout(function() {\n",
       "                var nbb_cell_id = 45;\n",
       "                var nbb_unformatted_code = \"df.shape\";\n",
       "                var nbb_formatted_code = \"df.shape\";\n",
       "                var nbb_cells = Jupyter.notebook.get_cells();\n",
       "                for (var i = 0; i < nbb_cells.length; ++i) {\n",
       "                    if (nbb_cells[i].input_prompt_number == nbb_cell_id) {\n",
       "                        if (nbb_cells[i].get_text() == nbb_unformatted_code) {\n",
       "                             nbb_cells[i].set_text(nbb_formatted_code);\n",
       "                        }\n",
       "                        break;\n",
       "                    }\n",
       "                }\n",
       "            }, 500);\n",
       "            "
      ],
      "text/plain": [
       "<IPython.core.display.Javascript object>"
      ]
     },
     "metadata": {},
     "output_type": "display_data"
    }
   ],
   "source": [
    "df.shape"
   ]
  },
  {
   "cell_type": "code",
   "execution_count": 46,
   "metadata": {},
   "outputs": [
    {
     "data": {
      "application/javascript": [
       "\n",
       "            setTimeout(function() {\n",
       "                var nbb_cell_id = 46;\n",
       "                var nbb_unformatted_code = \"# dropping electric car data and removing it as a category altogether\\ndf.drop(df.loc[df[\\\"Fuel_Type\\\"] == \\\"Electric\\\"].index, inplace=True)\\ndf.Fuel_Type = df.Fuel_Type.cat.remove_categories(\\\"Electric\\\")\";\n",
       "                var nbb_formatted_code = \"# dropping electric car data and removing it as a category altogether\\ndf.drop(df.loc[df[\\\"Fuel_Type\\\"] == \\\"Electric\\\"].index, inplace=True)\\ndf.Fuel_Type = df.Fuel_Type.cat.remove_categories(\\\"Electric\\\")\";\n",
       "                var nbb_cells = Jupyter.notebook.get_cells();\n",
       "                for (var i = 0; i < nbb_cells.length; ++i) {\n",
       "                    if (nbb_cells[i].input_prompt_number == nbb_cell_id) {\n",
       "                        if (nbb_cells[i].get_text() == nbb_unformatted_code) {\n",
       "                             nbb_cells[i].set_text(nbb_formatted_code);\n",
       "                        }\n",
       "                        break;\n",
       "                    }\n",
       "                }\n",
       "            }, 500);\n",
       "            "
      ],
      "text/plain": [
       "<IPython.core.display.Javascript object>"
      ]
     },
     "metadata": {},
     "output_type": "display_data"
    }
   ],
   "source": [
    "# dropping electric car data and removing it as a category altogether\n",
    "df.drop(df.loc[df[\"Fuel_Type\"] == \"Electric\"].index, inplace=True)\n",
    "df.Fuel_Type = df.Fuel_Type.cat.remove_categories(\"Electric\")"
   ]
  },
  {
   "cell_type": "code",
   "execution_count": 47,
   "metadata": {},
   "outputs": [
    {
     "data": {
      "text/plain": [
       "(6017, 12)"
      ]
     },
     "execution_count": 47,
     "metadata": {},
     "output_type": "execute_result"
    },
    {
     "data": {
      "application/javascript": [
       "\n",
       "            setTimeout(function() {\n",
       "                var nbb_cell_id = 47;\n",
       "                var nbb_unformatted_code = \"df.shape\";\n",
       "                var nbb_formatted_code = \"df.shape\";\n",
       "                var nbb_cells = Jupyter.notebook.get_cells();\n",
       "                for (var i = 0; i < nbb_cells.length; ++i) {\n",
       "                    if (nbb_cells[i].input_prompt_number == nbb_cell_id) {\n",
       "                        if (nbb_cells[i].get_text() == nbb_unformatted_code) {\n",
       "                             nbb_cells[i].set_text(nbb_formatted_code);\n",
       "                        }\n",
       "                        break;\n",
       "                    }\n",
       "                }\n",
       "            }, 500);\n",
       "            "
      ],
      "text/plain": [
       "<IPython.core.display.Javascript object>"
      ]
     },
     "metadata": {},
     "output_type": "display_data"
    }
   ],
   "source": [
    "df.shape"
   ]
  },
  {
   "cell_type": "markdown",
   "metadata": {},
   "source": [
    "I've decided to convert the information from the 'Year' column to a 'Car_Age' column as seeing the variable in this form is a bit easier to interpret. I've made the assumption here that the data is from 2021."
   ]
  },
  {
   "cell_type": "code",
   "execution_count": 48,
   "metadata": {},
   "outputs": [
    {
     "data": {
      "application/javascript": [
       "\n",
       "            setTimeout(function() {\n",
       "                var nbb_cell_id = 48;\n",
       "                var nbb_unformatted_code = \"def year_to_age(year):\\n    return 2021 - year\";\n",
       "                var nbb_formatted_code = \"def year_to_age(year):\\n    return 2021 - year\";\n",
       "                var nbb_cells = Jupyter.notebook.get_cells();\n",
       "                for (var i = 0; i < nbb_cells.length; ++i) {\n",
       "                    if (nbb_cells[i].input_prompt_number == nbb_cell_id) {\n",
       "                        if (nbb_cells[i].get_text() == nbb_unformatted_code) {\n",
       "                             nbb_cells[i].set_text(nbb_formatted_code);\n",
       "                        }\n",
       "                        break;\n",
       "                    }\n",
       "                }\n",
       "            }, 500);\n",
       "            "
      ],
      "text/plain": [
       "<IPython.core.display.Javascript object>"
      ]
     },
     "metadata": {},
     "output_type": "display_data"
    }
   ],
   "source": [
    "def year_to_age(year):\n",
    "    return 2021 - year"
   ]
  },
  {
   "cell_type": "code",
   "execution_count": 49,
   "metadata": {},
   "outputs": [
    {
     "data": {
      "application/javascript": [
       "\n",
       "            setTimeout(function() {\n",
       "                var nbb_cell_id = 49;\n",
       "                var nbb_unformatted_code = \"# adding 'Car_Age' column to replace 'Year'\\ndf[\\\"Car_Age\\\"] = df.Year.apply(year_to_age)\\ndf.drop([\\\"Year\\\"], axis=1, inplace=True)\";\n",
       "                var nbb_formatted_code = \"# adding 'Car_Age' column to replace 'Year'\\ndf[\\\"Car_Age\\\"] = df.Year.apply(year_to_age)\\ndf.drop([\\\"Year\\\"], axis=1, inplace=True)\";\n",
       "                var nbb_cells = Jupyter.notebook.get_cells();\n",
       "                for (var i = 0; i < nbb_cells.length; ++i) {\n",
       "                    if (nbb_cells[i].input_prompt_number == nbb_cell_id) {\n",
       "                        if (nbb_cells[i].get_text() == nbb_unformatted_code) {\n",
       "                             nbb_cells[i].set_text(nbb_formatted_code);\n",
       "                        }\n",
       "                        break;\n",
       "                    }\n",
       "                }\n",
       "            }, 500);\n",
       "            "
      ],
      "text/plain": [
       "<IPython.core.display.Javascript object>"
      ]
     },
     "metadata": {},
     "output_type": "display_data"
    }
   ],
   "source": [
    "# adding 'Car_Age' column to replace 'Year'\n",
    "df[\"Car_Age\"] = df.Year.apply(year_to_age)\n",
    "df.drop([\"Year\"], axis=1, inplace=True)"
   ]
  },
  {
   "cell_type": "code",
   "execution_count": 50,
   "metadata": {},
   "outputs": [
    {
     "data": {
      "text/html": [
       "<div>\n",
       "<style scoped>\n",
       "    .dataframe tbody tr th:only-of-type {\n",
       "        vertical-align: middle;\n",
       "    }\n",
       "\n",
       "    .dataframe tbody tr th {\n",
       "        vertical-align: top;\n",
       "    }\n",
       "\n",
       "    .dataframe thead th {\n",
       "        text-align: right;\n",
       "    }\n",
       "</style>\n",
       "<table border=\"1\" class=\"dataframe\">\n",
       "  <thead>\n",
       "    <tr style=\"text-align: right;\">\n",
       "      <th></th>\n",
       "      <th>Kilometers_Driven</th>\n",
       "      <th>Fuel_Type</th>\n",
       "      <th>Transmission</th>\n",
       "      <th>Owner_Type</th>\n",
       "      <th>Mileage</th>\n",
       "      <th>Engine</th>\n",
       "      <th>Power</th>\n",
       "      <th>Seats</th>\n",
       "      <th>Price</th>\n",
       "      <th>Brand</th>\n",
       "      <th>Region</th>\n",
       "      <th>Car_Age</th>\n",
       "    </tr>\n",
       "  </thead>\n",
       "  <tbody>\n",
       "    <tr>\n",
       "      <th>0</th>\n",
       "      <td>72000</td>\n",
       "      <td>CNG</td>\n",
       "      <td>Manual</td>\n",
       "      <td>First</td>\n",
       "      <td>26.60</td>\n",
       "      <td>998.0</td>\n",
       "      <td>58.16</td>\n",
       "      <td>5.0</td>\n",
       "      <td>1.75</td>\n",
       "      <td>Maruti</td>\n",
       "      <td>West</td>\n",
       "      <td>11</td>\n",
       "    </tr>\n",
       "    <tr>\n",
       "      <th>1</th>\n",
       "      <td>41000</td>\n",
       "      <td>Diesel</td>\n",
       "      <td>Manual</td>\n",
       "      <td>First</td>\n",
       "      <td>19.67</td>\n",
       "      <td>1582.0</td>\n",
       "      <td>126.20</td>\n",
       "      <td>5.0</td>\n",
       "      <td>12.50</td>\n",
       "      <td>Hyundai</td>\n",
       "      <td>West</td>\n",
       "      <td>6</td>\n",
       "    </tr>\n",
       "    <tr>\n",
       "      <th>2</th>\n",
       "      <td>46000</td>\n",
       "      <td>Petrol</td>\n",
       "      <td>Manual</td>\n",
       "      <td>First</td>\n",
       "      <td>18.20</td>\n",
       "      <td>1199.0</td>\n",
       "      <td>88.70</td>\n",
       "      <td>5.0</td>\n",
       "      <td>4.50</td>\n",
       "      <td>Honda</td>\n",
       "      <td>South</td>\n",
       "      <td>10</td>\n",
       "    </tr>\n",
       "    <tr>\n",
       "      <th>3</th>\n",
       "      <td>87000</td>\n",
       "      <td>Diesel</td>\n",
       "      <td>Manual</td>\n",
       "      <td>First</td>\n",
       "      <td>20.77</td>\n",
       "      <td>1248.0</td>\n",
       "      <td>88.76</td>\n",
       "      <td>7.0</td>\n",
       "      <td>6.00</td>\n",
       "      <td>Maruti</td>\n",
       "      <td>South</td>\n",
       "      <td>9</td>\n",
       "    </tr>\n",
       "    <tr>\n",
       "      <th>4</th>\n",
       "      <td>40670</td>\n",
       "      <td>Diesel</td>\n",
       "      <td>Automatic</td>\n",
       "      <td>Second</td>\n",
       "      <td>15.20</td>\n",
       "      <td>1968.0</td>\n",
       "      <td>140.80</td>\n",
       "      <td>5.0</td>\n",
       "      <td>17.74</td>\n",
       "      <td>Audi</td>\n",
       "      <td>South</td>\n",
       "      <td>8</td>\n",
       "    </tr>\n",
       "    <tr>\n",
       "      <th>5</th>\n",
       "      <td>75000</td>\n",
       "      <td>LPG</td>\n",
       "      <td>Manual</td>\n",
       "      <td>First</td>\n",
       "      <td>21.10</td>\n",
       "      <td>814.0</td>\n",
       "      <td>55.20</td>\n",
       "      <td>5.0</td>\n",
       "      <td>2.35</td>\n",
       "      <td>Hyundai</td>\n",
       "      <td>South</td>\n",
       "      <td>9</td>\n",
       "    </tr>\n",
       "    <tr>\n",
       "      <th>6</th>\n",
       "      <td>86999</td>\n",
       "      <td>Diesel</td>\n",
       "      <td>Manual</td>\n",
       "      <td>First</td>\n",
       "      <td>23.08</td>\n",
       "      <td>1461.0</td>\n",
       "      <td>63.10</td>\n",
       "      <td>5.0</td>\n",
       "      <td>3.50</td>\n",
       "      <td>Nissan</td>\n",
       "      <td>North</td>\n",
       "      <td>8</td>\n",
       "    </tr>\n",
       "    <tr>\n",
       "      <th>7</th>\n",
       "      <td>36000</td>\n",
       "      <td>Diesel</td>\n",
       "      <td>Automatic</td>\n",
       "      <td>First</td>\n",
       "      <td>11.36</td>\n",
       "      <td>2755.0</td>\n",
       "      <td>171.50</td>\n",
       "      <td>8.0</td>\n",
       "      <td>17.50</td>\n",
       "      <td>Toyota</td>\n",
       "      <td>West</td>\n",
       "      <td>5</td>\n",
       "    </tr>\n",
       "    <tr>\n",
       "      <th>8</th>\n",
       "      <td>64430</td>\n",
       "      <td>Diesel</td>\n",
       "      <td>Manual</td>\n",
       "      <td>First</td>\n",
       "      <td>20.54</td>\n",
       "      <td>1598.0</td>\n",
       "      <td>103.60</td>\n",
       "      <td>5.0</td>\n",
       "      <td>5.20</td>\n",
       "      <td>Volkswagen</td>\n",
       "      <td>West</td>\n",
       "      <td>8</td>\n",
       "    </tr>\n",
       "    <tr>\n",
       "      <th>9</th>\n",
       "      <td>65932</td>\n",
       "      <td>Diesel</td>\n",
       "      <td>Manual</td>\n",
       "      <td>Second</td>\n",
       "      <td>22.30</td>\n",
       "      <td>1248.0</td>\n",
       "      <td>74.00</td>\n",
       "      <td>5.0</td>\n",
       "      <td>1.95</td>\n",
       "      <td>Tata</td>\n",
       "      <td>South</td>\n",
       "      <td>9</td>\n",
       "    </tr>\n",
       "    <tr>\n",
       "      <th>10</th>\n",
       "      <td>25692</td>\n",
       "      <td>Petrol</td>\n",
       "      <td>Manual</td>\n",
       "      <td>First</td>\n",
       "      <td>21.56</td>\n",
       "      <td>1462.0</td>\n",
       "      <td>103.25</td>\n",
       "      <td>5.0</td>\n",
       "      <td>9.95</td>\n",
       "      <td>Maruti</td>\n",
       "      <td>South</td>\n",
       "      <td>3</td>\n",
       "    </tr>\n",
       "    <tr>\n",
       "      <th>11</th>\n",
       "      <td>60000</td>\n",
       "      <td>Petrol</td>\n",
       "      <td>Automatic</td>\n",
       "      <td>First</td>\n",
       "      <td>16.80</td>\n",
       "      <td>1497.0</td>\n",
       "      <td>116.30</td>\n",
       "      <td>5.0</td>\n",
       "      <td>4.49</td>\n",
       "      <td>Honda</td>\n",
       "      <td>East</td>\n",
       "      <td>9</td>\n",
       "    </tr>\n",
       "    <tr>\n",
       "      <th>12</th>\n",
       "      <td>64424</td>\n",
       "      <td>Diesel</td>\n",
       "      <td>Manual</td>\n",
       "      <td>First</td>\n",
       "      <td>25.20</td>\n",
       "      <td>1248.0</td>\n",
       "      <td>74.00</td>\n",
       "      <td>5.0</td>\n",
       "      <td>5.60</td>\n",
       "      <td>Maruti</td>\n",
       "      <td>North</td>\n",
       "      <td>6</td>\n",
       "    </tr>\n",
       "    <tr>\n",
       "      <th>13</th>\n",
       "      <td>72000</td>\n",
       "      <td>Diesel</td>\n",
       "      <td>Automatic</td>\n",
       "      <td>First</td>\n",
       "      <td>12.70</td>\n",
       "      <td>2179.0</td>\n",
       "      <td>187.70</td>\n",
       "      <td>5.0</td>\n",
       "      <td>27.00</td>\n",
       "      <td>Land</td>\n",
       "      <td>North</td>\n",
       "      <td>7</td>\n",
       "    </tr>\n",
       "    <tr>\n",
       "      <th>14</th>\n",
       "      <td>85000</td>\n",
       "      <td>Diesel</td>\n",
       "      <td>Automatic</td>\n",
       "      <td>Second</td>\n",
       "      <td>18.20</td>\n",
       "      <td>2179.0</td>\n",
       "      <td>115.00</td>\n",
       "      <td>5.0</td>\n",
       "      <td>17.50</td>\n",
       "      <td>Land</td>\n",
       "      <td>West</td>\n",
       "      <td>9</td>\n",
       "    </tr>\n",
       "    <tr>\n",
       "      <th>15</th>\n",
       "      <td>110000</td>\n",
       "      <td>Diesel</td>\n",
       "      <td>Manual</td>\n",
       "      <td>First</td>\n",
       "      <td>13.50</td>\n",
       "      <td>2477.0</td>\n",
       "      <td>175.56</td>\n",
       "      <td>7.0</td>\n",
       "      <td>15.00</td>\n",
       "      <td>Mitsubishi</td>\n",
       "      <td>North</td>\n",
       "      <td>7</td>\n",
       "    </tr>\n",
       "    <tr>\n",
       "      <th>16</th>\n",
       "      <td>58950</td>\n",
       "      <td>Diesel</td>\n",
       "      <td>Manual</td>\n",
       "      <td>First</td>\n",
       "      <td>25.80</td>\n",
       "      <td>1498.0</td>\n",
       "      <td>98.60</td>\n",
       "      <td>5.0</td>\n",
       "      <td>5.40</td>\n",
       "      <td>Honda</td>\n",
       "      <td>South</td>\n",
       "      <td>5</td>\n",
       "    </tr>\n",
       "    <tr>\n",
       "      <th>17</th>\n",
       "      <td>25000</td>\n",
       "      <td>Diesel</td>\n",
       "      <td>Manual</td>\n",
       "      <td>First</td>\n",
       "      <td>28.40</td>\n",
       "      <td>1248.0</td>\n",
       "      <td>74.00</td>\n",
       "      <td>5.0</td>\n",
       "      <td>5.99</td>\n",
       "      <td>Maruti</td>\n",
       "      <td>North</td>\n",
       "      <td>4</td>\n",
       "    </tr>\n",
       "    <tr>\n",
       "      <th>18</th>\n",
       "      <td>77469</td>\n",
       "      <td>Diesel</td>\n",
       "      <td>Manual</td>\n",
       "      <td>First</td>\n",
       "      <td>20.45</td>\n",
       "      <td>1461.0</td>\n",
       "      <td>83.80</td>\n",
       "      <td>5.0</td>\n",
       "      <td>6.34</td>\n",
       "      <td>Renault</td>\n",
       "      <td>South</td>\n",
       "      <td>7</td>\n",
       "    </tr>\n",
       "    <tr>\n",
       "      <th>19</th>\n",
       "      <td>78500</td>\n",
       "      <td>Diesel</td>\n",
       "      <td>Automatic</td>\n",
       "      <td>First</td>\n",
       "      <td>14.84</td>\n",
       "      <td>2143.0</td>\n",
       "      <td>167.62</td>\n",
       "      <td>5.0</td>\n",
       "      <td>28.00</td>\n",
       "      <td>Mercedes-Benz</td>\n",
       "      <td>South</td>\n",
       "      <td>7</td>\n",
       "    </tr>\n",
       "  </tbody>\n",
       "</table>\n",
       "</div>"
      ],
      "text/plain": [
       "    Kilometers_Driven Fuel_Type Transmission Owner_Type  Mileage  Engine  \\\n",
       "0               72000       CNG       Manual      First    26.60   998.0   \n",
       "1               41000    Diesel       Manual      First    19.67  1582.0   \n",
       "2               46000    Petrol       Manual      First    18.20  1199.0   \n",
       "3               87000    Diesel       Manual      First    20.77  1248.0   \n",
       "4               40670    Diesel    Automatic     Second    15.20  1968.0   \n",
       "5               75000       LPG       Manual      First    21.10   814.0   \n",
       "6               86999    Diesel       Manual      First    23.08  1461.0   \n",
       "7               36000    Diesel    Automatic      First    11.36  2755.0   \n",
       "8               64430    Diesel       Manual      First    20.54  1598.0   \n",
       "9               65932    Diesel       Manual     Second    22.30  1248.0   \n",
       "10              25692    Petrol       Manual      First    21.56  1462.0   \n",
       "11              60000    Petrol    Automatic      First    16.80  1497.0   \n",
       "12              64424    Diesel       Manual      First    25.20  1248.0   \n",
       "13              72000    Diesel    Automatic      First    12.70  2179.0   \n",
       "14              85000    Diesel    Automatic     Second    18.20  2179.0   \n",
       "15             110000    Diesel       Manual      First    13.50  2477.0   \n",
       "16              58950    Diesel       Manual      First    25.80  1498.0   \n",
       "17              25000    Diesel       Manual      First    28.40  1248.0   \n",
       "18              77469    Diesel       Manual      First    20.45  1461.0   \n",
       "19              78500    Diesel    Automatic      First    14.84  2143.0   \n",
       "\n",
       "     Power  Seats  Price          Brand Region Car_Age  \n",
       "0    58.16    5.0   1.75         Maruti   West      11  \n",
       "1   126.20    5.0  12.50        Hyundai   West       6  \n",
       "2    88.70    5.0   4.50          Honda  South      10  \n",
       "3    88.76    7.0   6.00         Maruti  South       9  \n",
       "4   140.80    5.0  17.74           Audi  South       8  \n",
       "5    55.20    5.0   2.35        Hyundai  South       9  \n",
       "6    63.10    5.0   3.50         Nissan  North       8  \n",
       "7   171.50    8.0  17.50         Toyota   West       5  \n",
       "8   103.60    5.0   5.20     Volkswagen   West       8  \n",
       "9    74.00    5.0   1.95           Tata  South       9  \n",
       "10  103.25    5.0   9.95         Maruti  South       3  \n",
       "11  116.30    5.0   4.49          Honda   East       9  \n",
       "12   74.00    5.0   5.60         Maruti  North       6  \n",
       "13  187.70    5.0  27.00           Land  North       7  \n",
       "14  115.00    5.0  17.50           Land   West       9  \n",
       "15  175.56    7.0  15.00     Mitsubishi  North       7  \n",
       "16   98.60    5.0   5.40          Honda  South       5  \n",
       "17   74.00    5.0   5.99         Maruti  North       4  \n",
       "18   83.80    5.0   6.34        Renault  South       7  \n",
       "19  167.62    5.0  28.00  Mercedes-Benz  South       7  "
      ]
     },
     "execution_count": 50,
     "metadata": {},
     "output_type": "execute_result"
    },
    {
     "data": {
      "application/javascript": [
       "\n",
       "            setTimeout(function() {\n",
       "                var nbb_cell_id = 50;\n",
       "                var nbb_unformatted_code = \"df.head(20)\";\n",
       "                var nbb_formatted_code = \"df.head(20)\";\n",
       "                var nbb_cells = Jupyter.notebook.get_cells();\n",
       "                for (var i = 0; i < nbb_cells.length; ++i) {\n",
       "                    if (nbb_cells[i].input_prompt_number == nbb_cell_id) {\n",
       "                        if (nbb_cells[i].get_text() == nbb_unformatted_code) {\n",
       "                             nbb_cells[i].set_text(nbb_formatted_code);\n",
       "                        }\n",
       "                        break;\n",
       "                    }\n",
       "                }\n",
       "            }, 500);\n",
       "            "
      ],
      "text/plain": [
       "<IPython.core.display.Javascript object>"
      ]
     },
     "metadata": {},
     "output_type": "display_data"
    }
   ],
   "source": [
    "df.head(20)"
   ]
  },
  {
   "cell_type": "markdown",
   "metadata": {},
   "source": [
    "**Outlier Treatment**"
   ]
  },
  {
   "cell_type": "markdown",
   "metadata": {},
   "source": [
    "I noticed outliers when doing the EDA and came to the decision that I'm going to handle them by capping the data at +/- 3SD based on empirical rule. "
   ]
  },
  {
   "cell_type": "code",
   "execution_count": 51,
   "metadata": {},
   "outputs": [
    {
     "data": {
      "application/javascript": [
       "\n",
       "            setTimeout(function() {\n",
       "                var nbb_cell_id = 51;\n",
       "                var nbb_unformatted_code = \"# function to drop outliers based on empirical rule of +/- 3SD\\ndef drop_numerical_outliers(df):\\n    \\\"\\\"\\\"\\n    df : dataframe of which to remove outliers\\n    \\\"\\\"\\\"\\n    # Will decide whether to keep data based on +/- 3SD threshold\\n    outliers = (\\n        df.select_dtypes(include=[np.number])\\n        .apply(lambda x: np.abs(stats.zscore(x)) < 3)\\n        .all(axis=1)\\n    )\\n    # Drop outliers\\n    df.drop(df.index[~outliers], inplace=True)\";\n",
       "                var nbb_formatted_code = \"# function to drop outliers based on empirical rule of +/- 3SD\\ndef drop_numerical_outliers(df):\\n    \\\"\\\"\\\"\\n    df : dataframe of which to remove outliers\\n    \\\"\\\"\\\"\\n    # Will decide whether to keep data based on +/- 3SD threshold\\n    outliers = (\\n        df.select_dtypes(include=[np.number])\\n        .apply(lambda x: np.abs(stats.zscore(x)) < 3)\\n        .all(axis=1)\\n    )\\n    # Drop outliers\\n    df.drop(df.index[~outliers], inplace=True)\";\n",
       "                var nbb_cells = Jupyter.notebook.get_cells();\n",
       "                for (var i = 0; i < nbb_cells.length; ++i) {\n",
       "                    if (nbb_cells[i].input_prompt_number == nbb_cell_id) {\n",
       "                        if (nbb_cells[i].get_text() == nbb_unformatted_code) {\n",
       "                             nbb_cells[i].set_text(nbb_formatted_code);\n",
       "                        }\n",
       "                        break;\n",
       "                    }\n",
       "                }\n",
       "            }, 500);\n",
       "            "
      ],
      "text/plain": [
       "<IPython.core.display.Javascript object>"
      ]
     },
     "metadata": {},
     "output_type": "display_data"
    }
   ],
   "source": [
    "# function to drop outliers based on empirical rule of +/- 3SD\n",
    "def drop_numerical_outliers(df):\n",
    "    \"\"\"\n",
    "    df : dataframe of which to remove outliers\n",
    "    \"\"\"\n",
    "    # Will decide whether to keep data based on +/- 3SD threshold\n",
    "    outliers = (\n",
    "        df.select_dtypes(include=[np.number])\n",
    "        .apply(lambda x: np.abs(stats.zscore(x)) < 3)\n",
    "        .all(axis=1)\n",
    "    )\n",
    "    # Drop outliers\n",
    "    df.drop(df.index[~outliers], inplace=True)"
   ]
  },
  {
   "cell_type": "code",
   "execution_count": 52,
   "metadata": {},
   "outputs": [
    {
     "data": {
      "application/javascript": [
       "\n",
       "            setTimeout(function() {\n",
       "                var nbb_cell_id = 52;\n",
       "                var nbb_unformatted_code = \"drop_numerical_outliers(df)\";\n",
       "                var nbb_formatted_code = \"drop_numerical_outliers(df)\";\n",
       "                var nbb_cells = Jupyter.notebook.get_cells();\n",
       "                for (var i = 0; i < nbb_cells.length; ++i) {\n",
       "                    if (nbb_cells[i].input_prompt_number == nbb_cell_id) {\n",
       "                        if (nbb_cells[i].get_text() == nbb_unformatted_code) {\n",
       "                             nbb_cells[i].set_text(nbb_formatted_code);\n",
       "                        }\n",
       "                        break;\n",
       "                    }\n",
       "                }\n",
       "            }, 500);\n",
       "            "
      ],
      "text/plain": [
       "<IPython.core.display.Javascript object>"
      ]
     },
     "metadata": {},
     "output_type": "display_data"
    }
   ],
   "source": [
    "drop_numerical_outliers(df)"
   ]
  },
  {
   "cell_type": "code",
   "execution_count": 53,
   "metadata": {},
   "outputs": [
    {
     "data": {
      "text/plain": [
       "(5669, 12)"
      ]
     },
     "execution_count": 53,
     "metadata": {},
     "output_type": "execute_result"
    },
    {
     "data": {
      "application/javascript": [
       "\n",
       "            setTimeout(function() {\n",
       "                var nbb_cell_id = 53;\n",
       "                var nbb_unformatted_code = \"df.shape\";\n",
       "                var nbb_formatted_code = \"df.shape\";\n",
       "                var nbb_cells = Jupyter.notebook.get_cells();\n",
       "                for (var i = 0; i < nbb_cells.length; ++i) {\n",
       "                    if (nbb_cells[i].input_prompt_number == nbb_cell_id) {\n",
       "                        if (nbb_cells[i].get_text() == nbb_unformatted_code) {\n",
       "                             nbb_cells[i].set_text(nbb_formatted_code);\n",
       "                        }\n",
       "                        break;\n",
       "                    }\n",
       "                }\n",
       "            }, 500);\n",
       "            "
      ],
      "text/plain": [
       "<IPython.core.display.Javascript object>"
      ]
     },
     "metadata": {},
     "output_type": "display_data"
    }
   ],
   "source": [
    "df.shape"
   ]
  },
  {
   "cell_type": "markdown",
   "metadata": {},
   "source": [
    "I'm converting the new columns I created to categories and making sure everything is looking correct so far."
   ]
  },
  {
   "cell_type": "code",
   "execution_count": 54,
   "metadata": {},
   "outputs": [
    {
     "data": {
      "text/html": [
       "<div>\n",
       "<style scoped>\n",
       "    .dataframe tbody tr th:only-of-type {\n",
       "        vertical-align: middle;\n",
       "    }\n",
       "\n",
       "    .dataframe tbody tr th {\n",
       "        vertical-align: top;\n",
       "    }\n",
       "\n",
       "    .dataframe thead th {\n",
       "        text-align: right;\n",
       "    }\n",
       "</style>\n",
       "<table border=\"1\" class=\"dataframe\">\n",
       "  <thead>\n",
       "    <tr style=\"text-align: right;\">\n",
       "      <th></th>\n",
       "      <th>count</th>\n",
       "      <th>unique</th>\n",
       "      <th>top</th>\n",
       "      <th>freq</th>\n",
       "    </tr>\n",
       "  </thead>\n",
       "  <tbody>\n",
       "    <tr>\n",
       "      <th>Fuel_Type</th>\n",
       "      <td>5669</td>\n",
       "      <td>4</td>\n",
       "      <td>Diesel</td>\n",
       "      <td>2936</td>\n",
       "    </tr>\n",
       "    <tr>\n",
       "      <th>Transmission</th>\n",
       "      <td>5669</td>\n",
       "      <td>2</td>\n",
       "      <td>Manual</td>\n",
       "      <td>4145</td>\n",
       "    </tr>\n",
       "    <tr>\n",
       "      <th>Owner_Type</th>\n",
       "      <td>5669</td>\n",
       "      <td>4</td>\n",
       "      <td>First</td>\n",
       "      <td>4643</td>\n",
       "    </tr>\n",
       "    <tr>\n",
       "      <th>Brand</th>\n",
       "      <td>5669</td>\n",
       "      <td>27</td>\n",
       "      <td>Maruti</td>\n",
       "      <td>1190</td>\n",
       "    </tr>\n",
       "    <tr>\n",
       "      <th>Region</th>\n",
       "      <td>5669</td>\n",
       "      <td>4</td>\n",
       "      <td>South</td>\n",
       "      <td>2680</td>\n",
       "    </tr>\n",
       "    <tr>\n",
       "      <th>Car_Age</th>\n",
       "      <td>5669</td>\n",
       "      <td>22</td>\n",
       "      <td>7</td>\n",
       "      <td>766</td>\n",
       "    </tr>\n",
       "  </tbody>\n",
       "</table>\n",
       "</div>"
      ],
      "text/plain": [
       "             count unique     top  freq\n",
       "Fuel_Type     5669      4  Diesel  2936\n",
       "Transmission  5669      2  Manual  4145\n",
       "Owner_Type    5669      4   First  4643\n",
       "Brand         5669     27  Maruti  1190\n",
       "Region        5669      4   South  2680\n",
       "Car_Age       5669     22       7   766"
      ]
     },
     "execution_count": 54,
     "metadata": {},
     "output_type": "execute_result"
    },
    {
     "data": {
      "application/javascript": [
       "\n",
       "            setTimeout(function() {\n",
       "                var nbb_cell_id = 54;\n",
       "                var nbb_unformatted_code = \"df[\\\"Brand\\\"] = df[\\\"Brand\\\"].str.title()\\n\\ndf[\\\"Brand\\\"] = df[\\\"Brand\\\"].astype(\\\"category\\\")\\ndf[\\\"Region\\\"] = df[\\\"Region\\\"].astype(\\\"category\\\")\\n\\ndf.describe(include=[\\\"category\\\"]).T\";\n",
       "                var nbb_formatted_code = \"df[\\\"Brand\\\"] = df[\\\"Brand\\\"].str.title()\\n\\ndf[\\\"Brand\\\"] = df[\\\"Brand\\\"].astype(\\\"category\\\")\\ndf[\\\"Region\\\"] = df[\\\"Region\\\"].astype(\\\"category\\\")\\n\\ndf.describe(include=[\\\"category\\\"]).T\";\n",
       "                var nbb_cells = Jupyter.notebook.get_cells();\n",
       "                for (var i = 0; i < nbb_cells.length; ++i) {\n",
       "                    if (nbb_cells[i].input_prompt_number == nbb_cell_id) {\n",
       "                        if (nbb_cells[i].get_text() == nbb_unformatted_code) {\n",
       "                             nbb_cells[i].set_text(nbb_formatted_code);\n",
       "                        }\n",
       "                        break;\n",
       "                    }\n",
       "                }\n",
       "            }, 500);\n",
       "            "
      ],
      "text/plain": [
       "<IPython.core.display.Javascript object>"
      ]
     },
     "metadata": {},
     "output_type": "display_data"
    }
   ],
   "source": [
    "df[\"Brand\"] = df[\"Brand\"].str.title()\n",
    "\n",
    "df[\"Brand\"] = df[\"Brand\"].astype(\"category\")\n",
    "df[\"Region\"] = df[\"Region\"].astype(\"category\")\n",
    "\n",
    "df.describe(include=[\"category\"]).T"
   ]
  },
  {
   "cell_type": "markdown",
   "metadata": {},
   "source": [
    "Because of the data for 'Price', 'Engine', 'Power', and 'Kilometers_Driven' being skewed to the right, I'm going to perform a log transformation to get the distribution to look normal for the linear regression fitting."
   ]
  },
  {
   "cell_type": "code",
   "execution_count": 55,
   "metadata": {},
   "outputs": [
    {
     "data": {
      "application/javascript": [
       "\n",
       "            setTimeout(function() {\n",
       "                var nbb_cell_id = 55;\n",
       "                var nbb_unformatted_code = \"cols_to_log = [\\\"Price\\\", \\\"Engine\\\", \\\"Power\\\", \\\"Kilometers_Driven\\\"]\";\n",
       "                var nbb_formatted_code = \"cols_to_log = [\\\"Price\\\", \\\"Engine\\\", \\\"Power\\\", \\\"Kilometers_Driven\\\"]\";\n",
       "                var nbb_cells = Jupyter.notebook.get_cells();\n",
       "                for (var i = 0; i < nbb_cells.length; ++i) {\n",
       "                    if (nbb_cells[i].input_prompt_number == nbb_cell_id) {\n",
       "                        if (nbb_cells[i].get_text() == nbb_unformatted_code) {\n",
       "                             nbb_cells[i].set_text(nbb_formatted_code);\n",
       "                        }\n",
       "                        break;\n",
       "                    }\n",
       "                }\n",
       "            }, 500);\n",
       "            "
      ],
      "text/plain": [
       "<IPython.core.display.Javascript object>"
      ]
     },
     "metadata": {},
     "output_type": "display_data"
    }
   ],
   "source": [
    "cols_to_log = [\"Price\", \"Engine\", \"Power\", \"Kilometers_Driven\"]"
   ]
  },
  {
   "cell_type": "code",
   "execution_count": 56,
   "metadata": {},
   "outputs": [
    {
     "data": {
      "application/javascript": [
       "\n",
       "            setTimeout(function() {\n",
       "                var nbb_cell_id = 56;\n",
       "                var nbb_unformatted_code = \"# performing log transformation\\nfor colname in cols_to_log:\\n    df[colname + \\\"_log\\\"] = np.log(df[colname] + 1)\\ndf.drop(cols_to_log, axis=1, inplace=True)\";\n",
       "                var nbb_formatted_code = \"# performing log transformation\\nfor colname in cols_to_log:\\n    df[colname + \\\"_log\\\"] = np.log(df[colname] + 1)\\ndf.drop(cols_to_log, axis=1, inplace=True)\";\n",
       "                var nbb_cells = Jupyter.notebook.get_cells();\n",
       "                for (var i = 0; i < nbb_cells.length; ++i) {\n",
       "                    if (nbb_cells[i].input_prompt_number == nbb_cell_id) {\n",
       "                        if (nbb_cells[i].get_text() == nbb_unformatted_code) {\n",
       "                             nbb_cells[i].set_text(nbb_formatted_code);\n",
       "                        }\n",
       "                        break;\n",
       "                    }\n",
       "                }\n",
       "            }, 500);\n",
       "            "
      ],
      "text/plain": [
       "<IPython.core.display.Javascript object>"
      ]
     },
     "metadata": {},
     "output_type": "display_data"
    }
   ],
   "source": [
    "# performing log transformation\n",
    "for colname in cols_to_log:\n",
    "    df[colname + \"_log\"] = np.log(df[colname] + 1)\n",
    "df.drop(cols_to_log, axis=1, inplace=True)"
   ]
  },
  {
   "cell_type": "code",
   "execution_count": 57,
   "metadata": {},
   "outputs": [
    {
     "data": {
      "text/html": [
       "<div>\n",
       "<style scoped>\n",
       "    .dataframe tbody tr th:only-of-type {\n",
       "        vertical-align: middle;\n",
       "    }\n",
       "\n",
       "    .dataframe tbody tr th {\n",
       "        vertical-align: top;\n",
       "    }\n",
       "\n",
       "    .dataframe thead th {\n",
       "        text-align: right;\n",
       "    }\n",
       "</style>\n",
       "<table border=\"1\" class=\"dataframe\">\n",
       "  <thead>\n",
       "    <tr style=\"text-align: right;\">\n",
       "      <th></th>\n",
       "      <th>Fuel_Type</th>\n",
       "      <th>Transmission</th>\n",
       "      <th>Owner_Type</th>\n",
       "      <th>Mileage</th>\n",
       "      <th>Seats</th>\n",
       "      <th>Brand</th>\n",
       "      <th>Region</th>\n",
       "      <th>Car_Age</th>\n",
       "      <th>Price_log</th>\n",
       "      <th>Engine_log</th>\n",
       "      <th>Power_log</th>\n",
       "      <th>Kilometers_Driven_log</th>\n",
       "    </tr>\n",
       "  </thead>\n",
       "  <tbody>\n",
       "    <tr>\n",
       "      <th>0</th>\n",
       "      <td>CNG</td>\n",
       "      <td>Manual</td>\n",
       "      <td>First</td>\n",
       "      <td>26.60</td>\n",
       "      <td>5.0</td>\n",
       "      <td>Maruti</td>\n",
       "      <td>West</td>\n",
       "      <td>11</td>\n",
       "      <td>1.011601</td>\n",
       "      <td>6.906755</td>\n",
       "      <td>4.080246</td>\n",
       "      <td>11.184435</td>\n",
       "    </tr>\n",
       "    <tr>\n",
       "      <th>1</th>\n",
       "      <td>Diesel</td>\n",
       "      <td>Manual</td>\n",
       "      <td>First</td>\n",
       "      <td>19.67</td>\n",
       "      <td>5.0</td>\n",
       "      <td>Hyundai</td>\n",
       "      <td>West</td>\n",
       "      <td>6</td>\n",
       "      <td>2.602690</td>\n",
       "      <td>7.367077</td>\n",
       "      <td>4.845761</td>\n",
       "      <td>10.621352</td>\n",
       "    </tr>\n",
       "    <tr>\n",
       "      <th>2</th>\n",
       "      <td>Petrol</td>\n",
       "      <td>Manual</td>\n",
       "      <td>First</td>\n",
       "      <td>18.20</td>\n",
       "      <td>5.0</td>\n",
       "      <td>Honda</td>\n",
       "      <td>South</td>\n",
       "      <td>10</td>\n",
       "      <td>1.704748</td>\n",
       "      <td>7.090077</td>\n",
       "      <td>4.496471</td>\n",
       "      <td>10.736418</td>\n",
       "    </tr>\n",
       "    <tr>\n",
       "      <th>3</th>\n",
       "      <td>Diesel</td>\n",
       "      <td>Manual</td>\n",
       "      <td>First</td>\n",
       "      <td>20.77</td>\n",
       "      <td>7.0</td>\n",
       "      <td>Maruti</td>\n",
       "      <td>South</td>\n",
       "      <td>9</td>\n",
       "      <td>1.945910</td>\n",
       "      <td>7.130099</td>\n",
       "      <td>4.497139</td>\n",
       "      <td>11.373675</td>\n",
       "    </tr>\n",
       "    <tr>\n",
       "      <th>4</th>\n",
       "      <td>Diesel</td>\n",
       "      <td>Automatic</td>\n",
       "      <td>Second</td>\n",
       "      <td>15.20</td>\n",
       "      <td>5.0</td>\n",
       "      <td>Audi</td>\n",
       "      <td>South</td>\n",
       "      <td>8</td>\n",
       "      <td>2.930660</td>\n",
       "      <td>7.585281</td>\n",
       "      <td>4.954418</td>\n",
       "      <td>10.613271</td>\n",
       "    </tr>\n",
       "  </tbody>\n",
       "</table>\n",
       "</div>"
      ],
      "text/plain": [
       "  Fuel_Type Transmission Owner_Type  Mileage  Seats    Brand Region Car_Age  \\\n",
       "0       CNG       Manual      First    26.60    5.0   Maruti   West      11   \n",
       "1    Diesel       Manual      First    19.67    5.0  Hyundai   West       6   \n",
       "2    Petrol       Manual      First    18.20    5.0    Honda  South      10   \n",
       "3    Diesel       Manual      First    20.77    7.0   Maruti  South       9   \n",
       "4    Diesel    Automatic     Second    15.20    5.0     Audi  South       8   \n",
       "\n",
       "   Price_log  Engine_log  Power_log  Kilometers_Driven_log  \n",
       "0   1.011601    6.906755   4.080246              11.184435  \n",
       "1   2.602690    7.367077   4.845761              10.621352  \n",
       "2   1.704748    7.090077   4.496471              10.736418  \n",
       "3   1.945910    7.130099   4.497139              11.373675  \n",
       "4   2.930660    7.585281   4.954418              10.613271  "
      ]
     },
     "execution_count": 57,
     "metadata": {},
     "output_type": "execute_result"
    },
    {
     "data": {
      "application/javascript": [
       "\n",
       "            setTimeout(function() {\n",
       "                var nbb_cell_id = 57;\n",
       "                var nbb_unformatted_code = \"df.head()\";\n",
       "                var nbb_formatted_code = \"df.head()\";\n",
       "                var nbb_cells = Jupyter.notebook.get_cells();\n",
       "                for (var i = 0; i < nbb_cells.length; ++i) {\n",
       "                    if (nbb_cells[i].input_prompt_number == nbb_cell_id) {\n",
       "                        if (nbb_cells[i].get_text() == nbb_unformatted_code) {\n",
       "                             nbb_cells[i].set_text(nbb_formatted_code);\n",
       "                        }\n",
       "                        break;\n",
       "                    }\n",
       "                }\n",
       "            }, 500);\n",
       "            "
      ],
      "text/plain": [
       "<IPython.core.display.Javascript object>"
      ]
     },
     "metadata": {},
     "output_type": "display_data"
    }
   ],
   "source": [
    "df.head()"
   ]
  },
  {
   "cell_type": "markdown",
   "metadata": {},
   "source": [
    "## Building Linear Regression Model"
   ]
  },
  {
   "cell_type": "markdown",
   "metadata": {},
   "source": [
    "**Initializing model**"
   ]
  },
  {
   "cell_type": "code",
   "execution_count": 58,
   "metadata": {},
   "outputs": [
    {
     "name": "stdout",
     "output_type": "stream",
     "text": [
      "  Fuel_Type Transmission Owner_Type  Mileage  Seats    Brand Region Car_Age  \\\n",
      "0       CNG       Manual      First    26.60    5.0   Maruti   West      11   \n",
      "1    Diesel       Manual      First    19.67    5.0  Hyundai   West       6   \n",
      "2    Petrol       Manual      First    18.20    5.0    Honda  South      10   \n",
      "3    Diesel       Manual      First    20.77    7.0   Maruti  South       9   \n",
      "4    Diesel    Automatic     Second    15.20    5.0     Audi  South       8   \n",
      "\n",
      "   Engine_log  Power_log  Kilometers_Driven_log  \n",
      "0    6.906755   4.080246              11.184435  \n",
      "1    7.367077   4.845761              10.621352  \n",
      "2    7.090077   4.496471              10.736418  \n",
      "3    7.130099   4.497139              11.373675  \n",
      "4    7.585281   4.954418              10.613271  \n",
      "   Price_log\n",
      "0   1.011601\n",
      "1   2.602690\n",
      "2   1.704748\n",
      "3   1.945910\n",
      "4   2.930660\n"
     ]
    },
    {
     "data": {
      "application/javascript": [
       "\n",
       "            setTimeout(function() {\n",
       "                var nbb_cell_id = 58;\n",
       "                var nbb_unformatted_code = \"# defining X and y variables\\nX = df.drop([\\\"Price_log\\\"], axis=1)\\ny = df[[\\\"Price_log\\\"]]\\n\\nprint(X.head())\\nprint(y.head())\";\n",
       "                var nbb_formatted_code = \"# defining X and y variables\\nX = df.drop([\\\"Price_log\\\"], axis=1)\\ny = df[[\\\"Price_log\\\"]]\\n\\nprint(X.head())\\nprint(y.head())\";\n",
       "                var nbb_cells = Jupyter.notebook.get_cells();\n",
       "                for (var i = 0; i < nbb_cells.length; ++i) {\n",
       "                    if (nbb_cells[i].input_prompt_number == nbb_cell_id) {\n",
       "                        if (nbb_cells[i].get_text() == nbb_unformatted_code) {\n",
       "                             nbb_cells[i].set_text(nbb_formatted_code);\n",
       "                        }\n",
       "                        break;\n",
       "                    }\n",
       "                }\n",
       "            }, 500);\n",
       "            "
      ],
      "text/plain": [
       "<IPython.core.display.Javascript object>"
      ]
     },
     "metadata": {},
     "output_type": "display_data"
    }
   ],
   "source": [
    "# defining X and y variables\n",
    "X = df.drop([\"Price_log\"], axis=1)\n",
    "y = df[[\"Price_log\"]]\n",
    "\n",
    "print(X.head())\n",
    "print(y.head())"
   ]
  },
  {
   "cell_type": "code",
   "execution_count": 59,
   "metadata": {},
   "outputs": [
    {
     "name": "stdout",
     "output_type": "stream",
     "text": [
      "(5669, 11)\n",
      "(5669, 1)\n"
     ]
    },
    {
     "data": {
      "application/javascript": [
       "\n",
       "            setTimeout(function() {\n",
       "                var nbb_cell_id = 59;\n",
       "                var nbb_unformatted_code = \"print(X.shape)\\nprint(y.shape)\";\n",
       "                var nbb_formatted_code = \"print(X.shape)\\nprint(y.shape)\";\n",
       "                var nbb_cells = Jupyter.notebook.get_cells();\n",
       "                for (var i = 0; i < nbb_cells.length; ++i) {\n",
       "                    if (nbb_cells[i].input_prompt_number == nbb_cell_id) {\n",
       "                        if (nbb_cells[i].get_text() == nbb_unformatted_code) {\n",
       "                             nbb_cells[i].set_text(nbb_formatted_code);\n",
       "                        }\n",
       "                        break;\n",
       "                    }\n",
       "                }\n",
       "            }, 500);\n",
       "            "
      ],
      "text/plain": [
       "<IPython.core.display.Javascript object>"
      ]
     },
     "metadata": {},
     "output_type": "display_data"
    }
   ],
   "source": [
    "print(X.shape)\n",
    "print(y.shape)"
   ]
  },
  {
   "cell_type": "code",
   "execution_count": 60,
   "metadata": {},
   "outputs": [
    {
     "data": {
      "text/html": [
       "<div>\n",
       "<style scoped>\n",
       "    .dataframe tbody tr th:only-of-type {\n",
       "        vertical-align: middle;\n",
       "    }\n",
       "\n",
       "    .dataframe tbody tr th {\n",
       "        vertical-align: top;\n",
       "    }\n",
       "\n",
       "    .dataframe thead th {\n",
       "        text-align: right;\n",
       "    }\n",
       "</style>\n",
       "<table border=\"1\" class=\"dataframe\">\n",
       "  <thead>\n",
       "    <tr style=\"text-align: right;\">\n",
       "      <th></th>\n",
       "      <th>Mileage</th>\n",
       "      <th>Seats</th>\n",
       "      <th>Car_Age</th>\n",
       "      <th>Engine_log</th>\n",
       "      <th>Power_log</th>\n",
       "      <th>Kilometers_Driven_log</th>\n",
       "      <th>Region_North</th>\n",
       "      <th>Region_South</th>\n",
       "      <th>Region_West</th>\n",
       "      <th>Fuel_Type_Diesel</th>\n",
       "      <th>...</th>\n",
       "      <th>Brand_Mini</th>\n",
       "      <th>Brand_Mitsubishi</th>\n",
       "      <th>Brand_Nissan</th>\n",
       "      <th>Brand_Porsche</th>\n",
       "      <th>Brand_Renault</th>\n",
       "      <th>Brand_Skoda</th>\n",
       "      <th>Brand_Tata</th>\n",
       "      <th>Brand_Toyota</th>\n",
       "      <th>Brand_Volkswagen</th>\n",
       "      <th>Brand_Volvo</th>\n",
       "    </tr>\n",
       "  </thead>\n",
       "  <tbody>\n",
       "    <tr>\n",
       "      <th>0</th>\n",
       "      <td>26.60</td>\n",
       "      <td>5.0</td>\n",
       "      <td>11</td>\n",
       "      <td>6.906755</td>\n",
       "      <td>4.080246</td>\n",
       "      <td>11.184435</td>\n",
       "      <td>0</td>\n",
       "      <td>0</td>\n",
       "      <td>1</td>\n",
       "      <td>0</td>\n",
       "      <td>...</td>\n",
       "      <td>0</td>\n",
       "      <td>0</td>\n",
       "      <td>0</td>\n",
       "      <td>0</td>\n",
       "      <td>0</td>\n",
       "      <td>0</td>\n",
       "      <td>0</td>\n",
       "      <td>0</td>\n",
       "      <td>0</td>\n",
       "      <td>0</td>\n",
       "    </tr>\n",
       "    <tr>\n",
       "      <th>1</th>\n",
       "      <td>19.67</td>\n",
       "      <td>5.0</td>\n",
       "      <td>6</td>\n",
       "      <td>7.367077</td>\n",
       "      <td>4.845761</td>\n",
       "      <td>10.621352</td>\n",
       "      <td>0</td>\n",
       "      <td>0</td>\n",
       "      <td>1</td>\n",
       "      <td>1</td>\n",
       "      <td>...</td>\n",
       "      <td>0</td>\n",
       "      <td>0</td>\n",
       "      <td>0</td>\n",
       "      <td>0</td>\n",
       "      <td>0</td>\n",
       "      <td>0</td>\n",
       "      <td>0</td>\n",
       "      <td>0</td>\n",
       "      <td>0</td>\n",
       "      <td>0</td>\n",
       "    </tr>\n",
       "    <tr>\n",
       "      <th>2</th>\n",
       "      <td>18.20</td>\n",
       "      <td>5.0</td>\n",
       "      <td>10</td>\n",
       "      <td>7.090077</td>\n",
       "      <td>4.496471</td>\n",
       "      <td>10.736418</td>\n",
       "      <td>0</td>\n",
       "      <td>1</td>\n",
       "      <td>0</td>\n",
       "      <td>0</td>\n",
       "      <td>...</td>\n",
       "      <td>0</td>\n",
       "      <td>0</td>\n",
       "      <td>0</td>\n",
       "      <td>0</td>\n",
       "      <td>0</td>\n",
       "      <td>0</td>\n",
       "      <td>0</td>\n",
       "      <td>0</td>\n",
       "      <td>0</td>\n",
       "      <td>0</td>\n",
       "    </tr>\n",
       "    <tr>\n",
       "      <th>3</th>\n",
       "      <td>20.77</td>\n",
       "      <td>7.0</td>\n",
       "      <td>9</td>\n",
       "      <td>7.130099</td>\n",
       "      <td>4.497139</td>\n",
       "      <td>11.373675</td>\n",
       "      <td>0</td>\n",
       "      <td>1</td>\n",
       "      <td>0</td>\n",
       "      <td>1</td>\n",
       "      <td>...</td>\n",
       "      <td>0</td>\n",
       "      <td>0</td>\n",
       "      <td>0</td>\n",
       "      <td>0</td>\n",
       "      <td>0</td>\n",
       "      <td>0</td>\n",
       "      <td>0</td>\n",
       "      <td>0</td>\n",
       "      <td>0</td>\n",
       "      <td>0</td>\n",
       "    </tr>\n",
       "    <tr>\n",
       "      <th>4</th>\n",
       "      <td>15.20</td>\n",
       "      <td>5.0</td>\n",
       "      <td>8</td>\n",
       "      <td>7.585281</td>\n",
       "      <td>4.954418</td>\n",
       "      <td>10.613271</td>\n",
       "      <td>0</td>\n",
       "      <td>1</td>\n",
       "      <td>0</td>\n",
       "      <td>1</td>\n",
       "      <td>...</td>\n",
       "      <td>0</td>\n",
       "      <td>0</td>\n",
       "      <td>0</td>\n",
       "      <td>0</td>\n",
       "      <td>0</td>\n",
       "      <td>0</td>\n",
       "      <td>0</td>\n",
       "      <td>0</td>\n",
       "      <td>0</td>\n",
       "      <td>0</td>\n",
       "    </tr>\n",
       "  </tbody>\n",
       "</table>\n",
       "<p>5 rows × 42 columns</p>\n",
       "</div>"
      ],
      "text/plain": [
       "   Mileage  Seats Car_Age  Engine_log  Power_log  Kilometers_Driven_log  \\\n",
       "0    26.60    5.0      11    6.906755   4.080246              11.184435   \n",
       "1    19.67    5.0       6    7.367077   4.845761              10.621352   \n",
       "2    18.20    5.0      10    7.090077   4.496471              10.736418   \n",
       "3    20.77    7.0       9    7.130099   4.497139              11.373675   \n",
       "4    15.20    5.0       8    7.585281   4.954418              10.613271   \n",
       "\n",
       "   Region_North  Region_South  Region_West  Fuel_Type_Diesel  ...  Brand_Mini  \\\n",
       "0             0             0            1                 0  ...           0   \n",
       "1             0             0            1                 1  ...           0   \n",
       "2             0             1            0                 0  ...           0   \n",
       "3             0             1            0                 1  ...           0   \n",
       "4             0             1            0                 1  ...           0   \n",
       "\n",
       "   Brand_Mitsubishi  Brand_Nissan  Brand_Porsche  Brand_Renault  Brand_Skoda  \\\n",
       "0                 0             0              0              0            0   \n",
       "1                 0             0              0              0            0   \n",
       "2                 0             0              0              0            0   \n",
       "3                 0             0              0              0            0   \n",
       "4                 0             0              0              0            0   \n",
       "\n",
       "   Brand_Tata  Brand_Toyota  Brand_Volkswagen  Brand_Volvo  \n",
       "0           0             0                 0            0  \n",
       "1           0             0                 0            0  \n",
       "2           0             0                 0            0  \n",
       "3           0             0                 0            0  \n",
       "4           0             0                 0            0  \n",
       "\n",
       "[5 rows x 42 columns]"
      ]
     },
     "execution_count": 60,
     "metadata": {},
     "output_type": "execute_result"
    },
    {
     "data": {
      "application/javascript": [
       "\n",
       "            setTimeout(function() {\n",
       "                var nbb_cell_id = 60;\n",
       "                var nbb_unformatted_code = \"# creating dummy variables\\nX = pd.get_dummies(\\n    X,\\n    columns=[\\\"Region\\\", \\\"Fuel_Type\\\", \\\"Owner_Type\\\", \\\"Transmission\\\", \\\"Brand\\\"],\\n    drop_first=True,\\n)\\nX.head()\";\n",
       "                var nbb_formatted_code = \"# creating dummy variables\\nX = pd.get_dummies(\\n    X,\\n    columns=[\\\"Region\\\", \\\"Fuel_Type\\\", \\\"Owner_Type\\\", \\\"Transmission\\\", \\\"Brand\\\"],\\n    drop_first=True,\\n)\\nX.head()\";\n",
       "                var nbb_cells = Jupyter.notebook.get_cells();\n",
       "                for (var i = 0; i < nbb_cells.length; ++i) {\n",
       "                    if (nbb_cells[i].input_prompt_number == nbb_cell_id) {\n",
       "                        if (nbb_cells[i].get_text() == nbb_unformatted_code) {\n",
       "                             nbb_cells[i].set_text(nbb_formatted_code);\n",
       "                        }\n",
       "                        break;\n",
       "                    }\n",
       "                }\n",
       "            }, 500);\n",
       "            "
      ],
      "text/plain": [
       "<IPython.core.display.Javascript object>"
      ]
     },
     "metadata": {},
     "output_type": "display_data"
    }
   ],
   "source": [
    "# creating dummy variables\n",
    "X = pd.get_dummies(\n",
    "    X,\n",
    "    columns=[\"Region\", \"Fuel_Type\", \"Owner_Type\", \"Transmission\", \"Brand\"],\n",
    "    drop_first=True,\n",
    ")\n",
    "X.head()"
   ]
  },
  {
   "cell_type": "code",
   "execution_count": 61,
   "metadata": {},
   "outputs": [
    {
     "data": {
      "application/javascript": [
       "\n",
       "            setTimeout(function() {\n",
       "                var nbb_cell_id = 61;\n",
       "                var nbb_unformatted_code = \"# split the data into train and test\\nX_train, X_test, y_train, y_test = train_test_split(\\n    X, y, test_size=0.3, random_state=22\\n)\";\n",
       "                var nbb_formatted_code = \"# split the data into train and test\\nX_train, X_test, y_train, y_test = train_test_split(\\n    X, y, test_size=0.3, random_state=22\\n)\";\n",
       "                var nbb_cells = Jupyter.notebook.get_cells();\n",
       "                for (var i = 0; i < nbb_cells.length; ++i) {\n",
       "                    if (nbb_cells[i].input_prompt_number == nbb_cell_id) {\n",
       "                        if (nbb_cells[i].get_text() == nbb_unformatted_code) {\n",
       "                             nbb_cells[i].set_text(nbb_formatted_code);\n",
       "                        }\n",
       "                        break;\n",
       "                    }\n",
       "                }\n",
       "            }, 500);\n",
       "            "
      ],
      "text/plain": [
       "<IPython.core.display.Javascript object>"
      ]
     },
     "metadata": {},
     "output_type": "display_data"
    }
   ],
   "source": [
    "# split the data into train and test\n",
    "X_train, X_test, y_train, y_test = train_test_split(\n",
    "    X, y, test_size=0.3, random_state=22\n",
    ")"
   ]
  },
  {
   "cell_type": "code",
   "execution_count": 62,
   "metadata": {},
   "outputs": [
    {
     "data": {
      "text/html": [
       "<div>\n",
       "<style scoped>\n",
       "    .dataframe tbody tr th:only-of-type {\n",
       "        vertical-align: middle;\n",
       "    }\n",
       "\n",
       "    .dataframe tbody tr th {\n",
       "        vertical-align: top;\n",
       "    }\n",
       "\n",
       "    .dataframe thead th {\n",
       "        text-align: right;\n",
       "    }\n",
       "</style>\n",
       "<table border=\"1\" class=\"dataframe\">\n",
       "  <thead>\n",
       "    <tr style=\"text-align: right;\">\n",
       "      <th></th>\n",
       "      <th>Mileage</th>\n",
       "      <th>Seats</th>\n",
       "      <th>Car_Age</th>\n",
       "      <th>Engine_log</th>\n",
       "      <th>Power_log</th>\n",
       "      <th>Kilometers_Driven_log</th>\n",
       "      <th>Region_North</th>\n",
       "      <th>Region_South</th>\n",
       "      <th>Region_West</th>\n",
       "      <th>Fuel_Type_Diesel</th>\n",
       "      <th>...</th>\n",
       "      <th>Brand_Mini</th>\n",
       "      <th>Brand_Mitsubishi</th>\n",
       "      <th>Brand_Nissan</th>\n",
       "      <th>Brand_Porsche</th>\n",
       "      <th>Brand_Renault</th>\n",
       "      <th>Brand_Skoda</th>\n",
       "      <th>Brand_Tata</th>\n",
       "      <th>Brand_Toyota</th>\n",
       "      <th>Brand_Volkswagen</th>\n",
       "      <th>Brand_Volvo</th>\n",
       "    </tr>\n",
       "  </thead>\n",
       "  <tbody>\n",
       "    <tr>\n",
       "      <th>3045</th>\n",
       "      <td>19.27</td>\n",
       "      <td>5.0</td>\n",
       "      <td>4</td>\n",
       "      <td>7.670429</td>\n",
       "      <td>5.127648</td>\n",
       "      <td>9.323758</td>\n",
       "      <td>0</td>\n",
       "      <td>1</td>\n",
       "      <td>0</td>\n",
       "      <td>1</td>\n",
       "      <td>...</td>\n",
       "      <td>0</td>\n",
       "      <td>0</td>\n",
       "      <td>0</td>\n",
       "      <td>0</td>\n",
       "      <td>0</td>\n",
       "      <td>0</td>\n",
       "      <td>0</td>\n",
       "      <td>0</td>\n",
       "      <td>0</td>\n",
       "      <td>0</td>\n",
       "    </tr>\n",
       "    <tr>\n",
       "      <th>2963</th>\n",
       "      <td>18.88</td>\n",
       "      <td>5.0</td>\n",
       "      <td>4</td>\n",
       "      <td>7.598900</td>\n",
       "      <td>5.220356</td>\n",
       "      <td>10.922154</td>\n",
       "      <td>0</td>\n",
       "      <td>1</td>\n",
       "      <td>0</td>\n",
       "      <td>1</td>\n",
       "      <td>...</td>\n",
       "      <td>0</td>\n",
       "      <td>0</td>\n",
       "      <td>0</td>\n",
       "      <td>0</td>\n",
       "      <td>0</td>\n",
       "      <td>0</td>\n",
       "      <td>0</td>\n",
       "      <td>0</td>\n",
       "      <td>0</td>\n",
       "      <td>0</td>\n",
       "    </tr>\n",
       "    <tr>\n",
       "      <th>4102</th>\n",
       "      <td>16.47</td>\n",
       "      <td>5.0</td>\n",
       "      <td>9</td>\n",
       "      <td>7.089243</td>\n",
       "      <td>4.316154</td>\n",
       "      <td>10.874626</td>\n",
       "      <td>0</td>\n",
       "      <td>1</td>\n",
       "      <td>0</td>\n",
       "      <td>0</td>\n",
       "      <td>...</td>\n",
       "      <td>0</td>\n",
       "      <td>0</td>\n",
       "      <td>0</td>\n",
       "      <td>0</td>\n",
       "      <td>0</td>\n",
       "      <td>0</td>\n",
       "      <td>0</td>\n",
       "      <td>0</td>\n",
       "      <td>1</td>\n",
       "      <td>0</td>\n",
       "    </tr>\n",
       "    <tr>\n",
       "      <th>1068</th>\n",
       "      <td>23.59</td>\n",
       "      <td>5.0</td>\n",
       "      <td>9</td>\n",
       "      <td>7.218910</td>\n",
       "      <td>4.592085</td>\n",
       "      <td>12.323860</td>\n",
       "      <td>0</td>\n",
       "      <td>0</td>\n",
       "      <td>1</td>\n",
       "      <td>1</td>\n",
       "      <td>...</td>\n",
       "      <td>0</td>\n",
       "      <td>0</td>\n",
       "      <td>0</td>\n",
       "      <td>0</td>\n",
       "      <td>0</td>\n",
       "      <td>0</td>\n",
       "      <td>0</td>\n",
       "      <td>1</td>\n",
       "      <td>0</td>\n",
       "      <td>0</td>\n",
       "    </tr>\n",
       "    <tr>\n",
       "      <th>3161</th>\n",
       "      <td>20.70</td>\n",
       "      <td>5.0</td>\n",
       "      <td>2</td>\n",
       "      <td>7.311218</td>\n",
       "      <td>4.744758</td>\n",
       "      <td>9.606294</td>\n",
       "      <td>0</td>\n",
       "      <td>1</td>\n",
       "      <td>0</td>\n",
       "      <td>1</td>\n",
       "      <td>...</td>\n",
       "      <td>1</td>\n",
       "      <td>0</td>\n",
       "      <td>0</td>\n",
       "      <td>0</td>\n",
       "      <td>0</td>\n",
       "      <td>0</td>\n",
       "      <td>0</td>\n",
       "      <td>0</td>\n",
       "      <td>0</td>\n",
       "      <td>0</td>\n",
       "    </tr>\n",
       "  </tbody>\n",
       "</table>\n",
       "<p>5 rows × 42 columns</p>\n",
       "</div>"
      ],
      "text/plain": [
       "      Mileage  Seats Car_Age  Engine_log  Power_log  Kilometers_Driven_log  \\\n",
       "3045    19.27    5.0       4    7.670429   5.127648               9.323758   \n",
       "2963    18.88    5.0       4    7.598900   5.220356              10.922154   \n",
       "4102    16.47    5.0       9    7.089243   4.316154              10.874626   \n",
       "1068    23.59    5.0       9    7.218910   4.592085              12.323860   \n",
       "3161    20.70    5.0       2    7.311218   4.744758               9.606294   \n",
       "\n",
       "      Region_North  Region_South  Region_West  Fuel_Type_Diesel  ...  \\\n",
       "3045             0             1            0                 1  ...   \n",
       "2963             0             1            0                 1  ...   \n",
       "4102             0             1            0                 0  ...   \n",
       "1068             0             0            1                 1  ...   \n",
       "3161             0             1            0                 1  ...   \n",
       "\n",
       "      Brand_Mini  Brand_Mitsubishi  Brand_Nissan  Brand_Porsche  \\\n",
       "3045           0                 0             0              0   \n",
       "2963           0                 0             0              0   \n",
       "4102           0                 0             0              0   \n",
       "1068           0                 0             0              0   \n",
       "3161           1                 0             0              0   \n",
       "\n",
       "      Brand_Renault  Brand_Skoda  Brand_Tata  Brand_Toyota  Brand_Volkswagen  \\\n",
       "3045              0            0           0             0                 0   \n",
       "2963              0            0           0             0                 0   \n",
       "4102              0            0           0             0                 1   \n",
       "1068              0            0           0             1                 0   \n",
       "3161              0            0           0             0                 0   \n",
       "\n",
       "      Brand_Volvo  \n",
       "3045            0  \n",
       "2963            0  \n",
       "4102            0  \n",
       "1068            0  \n",
       "3161            0  \n",
       "\n",
       "[5 rows x 42 columns]"
      ]
     },
     "execution_count": 62,
     "metadata": {},
     "output_type": "execute_result"
    },
    {
     "data": {
      "application/javascript": [
       "\n",
       "            setTimeout(function() {\n",
       "                var nbb_cell_id = 62;\n",
       "                var nbb_unformatted_code = \"X_train.head()\";\n",
       "                var nbb_formatted_code = \"X_train.head()\";\n",
       "                var nbb_cells = Jupyter.notebook.get_cells();\n",
       "                for (var i = 0; i < nbb_cells.length; ++i) {\n",
       "                    if (nbb_cells[i].input_prompt_number == nbb_cell_id) {\n",
       "                        if (nbb_cells[i].get_text() == nbb_unformatted_code) {\n",
       "                             nbb_cells[i].set_text(nbb_formatted_code);\n",
       "                        }\n",
       "                        break;\n",
       "                    }\n",
       "                }\n",
       "            }, 500);\n",
       "            "
      ],
      "text/plain": [
       "<IPython.core.display.Javascript object>"
      ]
     },
     "metadata": {},
     "output_type": "display_data"
    }
   ],
   "source": [
    "X_train.head()"
   ]
  },
  {
   "cell_type": "code",
   "execution_count": 63,
   "metadata": {},
   "outputs": [
    {
     "data": {
      "text/plain": [
       "LinearRegression()"
      ]
     },
     "execution_count": 63,
     "metadata": {},
     "output_type": "execute_result"
    },
    {
     "data": {
      "application/javascript": [
       "\n",
       "            setTimeout(function() {\n",
       "                var nbb_cell_id = 63;\n",
       "                var nbb_unformatted_code = \"# fitting the model on the train data (70% of the whole data)\\nlinearregression = LinearRegression()\\nlinearregression.fit(X_train, y_train)\";\n",
       "                var nbb_formatted_code = \"# fitting the model on the train data (70% of the whole data)\\nlinearregression = LinearRegression()\\nlinearregression.fit(X_train, y_train)\";\n",
       "                var nbb_cells = Jupyter.notebook.get_cells();\n",
       "                for (var i = 0; i < nbb_cells.length; ++i) {\n",
       "                    if (nbb_cells[i].input_prompt_number == nbb_cell_id) {\n",
       "                        if (nbb_cells[i].get_text() == nbb_unformatted_code) {\n",
       "                             nbb_cells[i].set_text(nbb_formatted_code);\n",
       "                        }\n",
       "                        break;\n",
       "                    }\n",
       "                }\n",
       "            }, 500);\n",
       "            "
      ],
      "text/plain": [
       "<IPython.core.display.Javascript object>"
      ]
     },
     "metadata": {},
     "output_type": "display_data"
    }
   ],
   "source": [
    "# fitting the model on the train data (70% of the whole data)\n",
    "linearregression = LinearRegression()\n",
    "linearregression.fit(X_train, y_train)"
   ]
  },
  {
   "cell_type": "markdown",
   "metadata": {},
   "source": [
    "**Check model coefficients and intercept**"
   ]
  },
  {
   "cell_type": "code",
   "execution_count": 64,
   "metadata": {
    "scrolled": false
   },
   "outputs": [
    {
     "data": {
      "text/html": [
       "<div>\n",
       "<style scoped>\n",
       "    .dataframe tbody tr th:only-of-type {\n",
       "        vertical-align: middle;\n",
       "    }\n",
       "\n",
       "    .dataframe tbody tr th {\n",
       "        vertical-align: top;\n",
       "    }\n",
       "\n",
       "    .dataframe thead th {\n",
       "        text-align: right;\n",
       "    }\n",
       "</style>\n",
       "<table border=\"1\" class=\"dataframe\">\n",
       "  <thead>\n",
       "    <tr style=\"text-align: right;\">\n",
       "      <th></th>\n",
       "      <th>Coefficients</th>\n",
       "    </tr>\n",
       "  </thead>\n",
       "  <tbody>\n",
       "    <tr>\n",
       "      <th>Mileage</th>\n",
       "      <td>-0.010896</td>\n",
       "    </tr>\n",
       "    <tr>\n",
       "      <th>Seats</th>\n",
       "      <td>0.072784</td>\n",
       "    </tr>\n",
       "    <tr>\n",
       "      <th>Car_Age</th>\n",
       "      <td>-0.084754</td>\n",
       "    </tr>\n",
       "    <tr>\n",
       "      <th>Engine_log</th>\n",
       "      <td>0.261399</td>\n",
       "    </tr>\n",
       "    <tr>\n",
       "      <th>Power_log</th>\n",
       "      <td>0.784450</td>\n",
       "    </tr>\n",
       "    <tr>\n",
       "      <th>Kilometers_Driven_log</th>\n",
       "      <td>-0.066605</td>\n",
       "    </tr>\n",
       "    <tr>\n",
       "      <th>Region_North</th>\n",
       "      <td>0.167819</td>\n",
       "    </tr>\n",
       "    <tr>\n",
       "      <th>Region_South</th>\n",
       "      <td>0.287995</td>\n",
       "    </tr>\n",
       "    <tr>\n",
       "      <th>Region_West</th>\n",
       "      <td>0.162977</td>\n",
       "    </tr>\n",
       "    <tr>\n",
       "      <th>Fuel_Type_Diesel</th>\n",
       "      <td>0.178411</td>\n",
       "    </tr>\n",
       "    <tr>\n",
       "      <th>Fuel_Type_LPG</th>\n",
       "      <td>0.033471</td>\n",
       "    </tr>\n",
       "    <tr>\n",
       "      <th>Fuel_Type_Petrol</th>\n",
       "      <td>-0.021567</td>\n",
       "    </tr>\n",
       "    <tr>\n",
       "      <th>Owner_Type_Fourth &amp; Above</th>\n",
       "      <td>-0.059418</td>\n",
       "    </tr>\n",
       "    <tr>\n",
       "      <th>Owner_Type_Second</th>\n",
       "      <td>-0.046409</td>\n",
       "    </tr>\n",
       "    <tr>\n",
       "      <th>Owner_Type_Third</th>\n",
       "      <td>-0.109319</td>\n",
       "    </tr>\n",
       "    <tr>\n",
       "      <th>Transmission_Manual</th>\n",
       "      <td>-0.089747</td>\n",
       "    </tr>\n",
       "    <tr>\n",
       "      <th>Brand_Audi</th>\n",
       "      <td>0.172883</td>\n",
       "    </tr>\n",
       "    <tr>\n",
       "      <th>Brand_Bmw</th>\n",
       "      <td>0.130371</td>\n",
       "    </tr>\n",
       "    <tr>\n",
       "      <th>Brand_Chevrolet</th>\n",
       "      <td>-0.501269</td>\n",
       "    </tr>\n",
       "    <tr>\n",
       "      <th>Brand_Datsun</th>\n",
       "      <td>-0.525992</td>\n",
       "    </tr>\n",
       "    <tr>\n",
       "      <th>Brand_Fiat</th>\n",
       "      <td>-0.489204</td>\n",
       "    </tr>\n",
       "    <tr>\n",
       "      <th>Brand_Force</th>\n",
       "      <td>-0.368263</td>\n",
       "    </tr>\n",
       "    <tr>\n",
       "      <th>Brand_Ford</th>\n",
       "      <td>-0.394289</td>\n",
       "    </tr>\n",
       "    <tr>\n",
       "      <th>Brand_Honda</th>\n",
       "      <td>-0.370494</td>\n",
       "    </tr>\n",
       "    <tr>\n",
       "      <th>Brand_Hyundai</th>\n",
       "      <td>-0.358970</td>\n",
       "    </tr>\n",
       "    <tr>\n",
       "      <th>Brand_Isuzu</th>\n",
       "      <td>-0.439121</td>\n",
       "    </tr>\n",
       "    <tr>\n",
       "      <th>Brand_Jaguar</th>\n",
       "      <td>0.206011</td>\n",
       "    </tr>\n",
       "    <tr>\n",
       "      <th>Brand_Jeep</th>\n",
       "      <td>-0.182625</td>\n",
       "    </tr>\n",
       "    <tr>\n",
       "      <th>Brand_Land</th>\n",
       "      <td>0.582682</td>\n",
       "    </tr>\n",
       "    <tr>\n",
       "      <th>Brand_Mahindra</th>\n",
       "      <td>-0.454591</td>\n",
       "    </tr>\n",
       "    <tr>\n",
       "      <th>Brand_Maruti</th>\n",
       "      <td>-0.327636</td>\n",
       "    </tr>\n",
       "    <tr>\n",
       "      <th>Brand_Mercedes-Benz</th>\n",
       "      <td>0.167565</td>\n",
       "    </tr>\n",
       "    <tr>\n",
       "      <th>Brand_Mini</th>\n",
       "      <td>0.671888</td>\n",
       "    </tr>\n",
       "    <tr>\n",
       "      <th>Brand_Mitsubishi</th>\n",
       "      <td>-0.238944</td>\n",
       "    </tr>\n",
       "    <tr>\n",
       "      <th>Brand_Nissan</th>\n",
       "      <td>-0.388984</td>\n",
       "    </tr>\n",
       "    <tr>\n",
       "      <th>Brand_Porsche</th>\n",
       "      <td>0.876276</td>\n",
       "    </tr>\n",
       "    <tr>\n",
       "      <th>Brand_Renault</th>\n",
       "      <td>-0.358485</td>\n",
       "    </tr>\n",
       "    <tr>\n",
       "      <th>Brand_Skoda</th>\n",
       "      <td>-0.323880</td>\n",
       "    </tr>\n",
       "    <tr>\n",
       "      <th>Brand_Tata</th>\n",
       "      <td>-0.512616</td>\n",
       "    </tr>\n",
       "    <tr>\n",
       "      <th>Brand_Toyota</th>\n",
       "      <td>-0.244406</td>\n",
       "    </tr>\n",
       "    <tr>\n",
       "      <th>Brand_Volkswagen</th>\n",
       "      <td>-0.378441</td>\n",
       "    </tr>\n",
       "    <tr>\n",
       "      <th>Brand_Volvo</th>\n",
       "      <td>-0.025223</td>\n",
       "    </tr>\n",
       "    <tr>\n",
       "      <th>Intercept</th>\n",
       "      <td>-0.621588</td>\n",
       "    </tr>\n",
       "  </tbody>\n",
       "</table>\n",
       "</div>"
      ],
      "text/plain": [
       "                           Coefficients\n",
       "Mileage                       -0.010896\n",
       "Seats                          0.072784\n",
       "Car_Age                       -0.084754\n",
       "Engine_log                     0.261399\n",
       "Power_log                      0.784450\n",
       "Kilometers_Driven_log         -0.066605\n",
       "Region_North                   0.167819\n",
       "Region_South                   0.287995\n",
       "Region_West                    0.162977\n",
       "Fuel_Type_Diesel               0.178411\n",
       "Fuel_Type_LPG                  0.033471\n",
       "Fuel_Type_Petrol              -0.021567\n",
       "Owner_Type_Fourth & Above     -0.059418\n",
       "Owner_Type_Second             -0.046409\n",
       "Owner_Type_Third              -0.109319\n",
       "Transmission_Manual           -0.089747\n",
       "Brand_Audi                     0.172883\n",
       "Brand_Bmw                      0.130371\n",
       "Brand_Chevrolet               -0.501269\n",
       "Brand_Datsun                  -0.525992\n",
       "Brand_Fiat                    -0.489204\n",
       "Brand_Force                   -0.368263\n",
       "Brand_Ford                    -0.394289\n",
       "Brand_Honda                   -0.370494\n",
       "Brand_Hyundai                 -0.358970\n",
       "Brand_Isuzu                   -0.439121\n",
       "Brand_Jaguar                   0.206011\n",
       "Brand_Jeep                    -0.182625\n",
       "Brand_Land                     0.582682\n",
       "Brand_Mahindra                -0.454591\n",
       "Brand_Maruti                  -0.327636\n",
       "Brand_Mercedes-Benz            0.167565\n",
       "Brand_Mini                     0.671888\n",
       "Brand_Mitsubishi              -0.238944\n",
       "Brand_Nissan                  -0.388984\n",
       "Brand_Porsche                  0.876276\n",
       "Brand_Renault                 -0.358485\n",
       "Brand_Skoda                   -0.323880\n",
       "Brand_Tata                    -0.512616\n",
       "Brand_Toyota                  -0.244406\n",
       "Brand_Volkswagen              -0.378441\n",
       "Brand_Volvo                   -0.025223\n",
       "Intercept                     -0.621588"
      ]
     },
     "execution_count": 64,
     "metadata": {},
     "output_type": "execute_result"
    },
    {
     "data": {
      "application/javascript": [
       "\n",
       "            setTimeout(function() {\n",
       "                var nbb_cell_id = 64;\n",
       "                var nbb_unformatted_code = \"# checking the coefficients and intercept of the model\\ncoef_df = pd.DataFrame(\\n    np.append(\\n        # accounting for log transformation\\n        np.exp(linearregression.coef_[0]) - 1,\\n        np.exp(linearregression.intercept_[0]) - 1,\\n    ),\\n    index=X_train.columns.tolist() + [\\\"Intercept\\\"],\\n    columns=[\\\"Coefficients\\\"],\\n)\\n\\ncoef_df\";\n",
       "                var nbb_formatted_code = \"# checking the coefficients and intercept of the model\\ncoef_df = pd.DataFrame(\\n    np.append(\\n        # accounting for log transformation\\n        np.exp(linearregression.coef_[0]) - 1,\\n        np.exp(linearregression.intercept_[0]) - 1,\\n    ),\\n    index=X_train.columns.tolist() + [\\\"Intercept\\\"],\\n    columns=[\\\"Coefficients\\\"],\\n)\\n\\ncoef_df\";\n",
       "                var nbb_cells = Jupyter.notebook.get_cells();\n",
       "                for (var i = 0; i < nbb_cells.length; ++i) {\n",
       "                    if (nbb_cells[i].input_prompt_number == nbb_cell_id) {\n",
       "                        if (nbb_cells[i].get_text() == nbb_unformatted_code) {\n",
       "                             nbb_cells[i].set_text(nbb_formatted_code);\n",
       "                        }\n",
       "                        break;\n",
       "                    }\n",
       "                }\n",
       "            }, 500);\n",
       "            "
      ],
      "text/plain": [
       "<IPython.core.display.Javascript object>"
      ]
     },
     "metadata": {},
     "output_type": "display_data"
    }
   ],
   "source": [
    "# checking the coefficients and intercept of the model\n",
    "coef_df = pd.DataFrame(\n",
    "    np.append(\n",
    "        # accounting for log transformation\n",
    "        np.exp(linearregression.coef_[0]) - 1,\n",
    "        np.exp(linearregression.intercept_[0]) - 1,\n",
    "    ),\n",
    "    index=X_train.columns.tolist() + [\"Intercept\"],\n",
    "    columns=[\"Coefficients\"],\n",
    ")\n",
    "\n",
    "coef_df"
   ]
  },
  {
   "cell_type": "markdown",
   "metadata": {},
   "source": [
    "**Check model performance**"
   ]
  },
  {
   "cell_type": "code",
   "execution_count": 65,
   "metadata": {},
   "outputs": [
    {
     "data": {
      "application/javascript": [
       "\n",
       "            setTimeout(function() {\n",
       "                var nbb_cell_id = 65;\n",
       "                var nbb_unformatted_code = \"# using the functions from lecture to test the model performance\\n# defining function for MAPE\\ndef mape(targets, predictions):\\n    return np.mean(np.abs((targets - predictions)) / targets) * 100\\n\\n\\n# defining common function for all metrics\\ndef model_perf(model, inp, out):\\n    \\\"\\\"\\\"\\n    model: model\\n    inp: independent variables\\n    out: dependent variable\\n    \\\"\\\"\\\"\\n    y_pred = np.exp(model.predict(inp).flatten()) - 1\\n    y_act = np.exp(out.values.flatten()) - 1\\n\\n    return pd.DataFrame(\\n        {\\n            \\\"MAE\\\": mean_absolute_error(y_act, y_pred),\\n            \\\"MAPE\\\": mape(y_act, y_pred),\\n            \\\"RMSE\\\": np.sqrt(mean_squared_error(y_act, y_pred)),\\n            \\\"R^2\\\": r2_score(y_act, y_pred),\\n        },\\n        index=[0],\\n    )\";\n",
       "                var nbb_formatted_code = \"# using the functions from lecture to test the model performance\\n# defining function for MAPE\\ndef mape(targets, predictions):\\n    return np.mean(np.abs((targets - predictions)) / targets) * 100\\n\\n\\n# defining common function for all metrics\\ndef model_perf(model, inp, out):\\n    \\\"\\\"\\\"\\n    model: model\\n    inp: independent variables\\n    out: dependent variable\\n    \\\"\\\"\\\"\\n    y_pred = np.exp(model.predict(inp).flatten()) - 1\\n    y_act = np.exp(out.values.flatten()) - 1\\n\\n    return pd.DataFrame(\\n        {\\n            \\\"MAE\\\": mean_absolute_error(y_act, y_pred),\\n            \\\"MAPE\\\": mape(y_act, y_pred),\\n            \\\"RMSE\\\": np.sqrt(mean_squared_error(y_act, y_pred)),\\n            \\\"R^2\\\": r2_score(y_act, y_pred),\\n        },\\n        index=[0],\\n    )\";\n",
       "                var nbb_cells = Jupyter.notebook.get_cells();\n",
       "                for (var i = 0; i < nbb_cells.length; ++i) {\n",
       "                    if (nbb_cells[i].input_prompt_number == nbb_cell_id) {\n",
       "                        if (nbb_cells[i].get_text() == nbb_unformatted_code) {\n",
       "                             nbb_cells[i].set_text(nbb_formatted_code);\n",
       "                        }\n",
       "                        break;\n",
       "                    }\n",
       "                }\n",
       "            }, 500);\n",
       "            "
      ],
      "text/plain": [
       "<IPython.core.display.Javascript object>"
      ]
     },
     "metadata": {},
     "output_type": "display_data"
    }
   ],
   "source": [
    "# using the functions from lecture to test the model performance\n",
    "# defining function for MAPE\n",
    "def mape(targets, predictions):\n",
    "    return np.mean(np.abs((targets - predictions)) / targets) * 100\n",
    "\n",
    "\n",
    "# defining common function for all metrics\n",
    "def model_perf(model, inp, out):\n",
    "    \"\"\"\n",
    "    model: model\n",
    "    inp: independent variables\n",
    "    out: dependent variable\n",
    "    \"\"\"\n",
    "    y_pred = np.exp(model.predict(inp).flatten()) - 1\n",
    "    y_act = np.exp(out.values.flatten()) - 1\n",
    "\n",
    "    return pd.DataFrame(\n",
    "        {\n",
    "            \"MAE\": mean_absolute_error(y_act, y_pred),\n",
    "            \"MAPE\": mape(y_act, y_pred),\n",
    "            \"RMSE\": np.sqrt(mean_squared_error(y_act, y_pred)),\n",
    "            \"R^2\": r2_score(y_act, y_pred),\n",
    "        },\n",
    "        index=[0],\n",
    "    )"
   ]
  },
  {
   "cell_type": "code",
   "execution_count": 66,
   "metadata": {},
   "outputs": [
    {
     "name": "stdout",
     "output_type": "stream",
     "text": [
      "Train Performance\n",
      "\n"
     ]
    },
    {
     "data": {
      "text/html": [
       "<div>\n",
       "<style scoped>\n",
       "    .dataframe tbody tr th:only-of-type {\n",
       "        vertical-align: middle;\n",
       "    }\n",
       "\n",
       "    .dataframe tbody tr th {\n",
       "        vertical-align: top;\n",
       "    }\n",
       "\n",
       "    .dataframe thead th {\n",
       "        text-align: right;\n",
       "    }\n",
       "</style>\n",
       "<table border=\"1\" class=\"dataframe\">\n",
       "  <thead>\n",
       "    <tr style=\"text-align: right;\">\n",
       "      <th></th>\n",
       "      <th>MAE</th>\n",
       "      <th>MAPE</th>\n",
       "      <th>RMSE</th>\n",
       "      <th>R^2</th>\n",
       "    </tr>\n",
       "  </thead>\n",
       "  <tbody>\n",
       "    <tr>\n",
       "      <th>0</th>\n",
       "      <td>1.404681</td>\n",
       "      <td>18.419904</td>\n",
       "      <td>2.494027</td>\n",
       "      <td>0.900907</td>\n",
       "    </tr>\n",
       "  </tbody>\n",
       "</table>\n",
       "</div>"
      ],
      "text/plain": [
       "        MAE       MAPE      RMSE       R^2\n",
       "0  1.404681  18.419904  2.494027  0.900907"
      ]
     },
     "execution_count": 66,
     "metadata": {},
     "output_type": "execute_result"
    },
    {
     "data": {
      "application/javascript": [
       "\n",
       "            setTimeout(function() {\n",
       "                var nbb_cell_id = 66;\n",
       "                var nbb_unformatted_code = \"# Checking model performance on train set\\nprint(\\\"Train Performance\\\\n\\\")\\nmodel_perf(linearregression, X_train, y_train)\";\n",
       "                var nbb_formatted_code = \"# Checking model performance on train set\\nprint(\\\"Train Performance\\\\n\\\")\\nmodel_perf(linearregression, X_train, y_train)\";\n",
       "                var nbb_cells = Jupyter.notebook.get_cells();\n",
       "                for (var i = 0; i < nbb_cells.length; ++i) {\n",
       "                    if (nbb_cells[i].input_prompt_number == nbb_cell_id) {\n",
       "                        if (nbb_cells[i].get_text() == nbb_unformatted_code) {\n",
       "                             nbb_cells[i].set_text(nbb_formatted_code);\n",
       "                        }\n",
       "                        break;\n",
       "                    }\n",
       "                }\n",
       "            }, 500);\n",
       "            "
      ],
      "text/plain": [
       "<IPython.core.display.Javascript object>"
      ]
     },
     "metadata": {},
     "output_type": "display_data"
    }
   ],
   "source": [
    "# Checking model performance on train set\n",
    "print(\"Train Performance\\n\")\n",
    "model_perf(linearregression, X_train, y_train)"
   ]
  },
  {
   "cell_type": "code",
   "execution_count": 67,
   "metadata": {},
   "outputs": [
    {
     "name": "stdout",
     "output_type": "stream",
     "text": [
      "Test Performance\n",
      "\n"
     ]
    },
    {
     "data": {
      "text/html": [
       "<div>\n",
       "<style scoped>\n",
       "    .dataframe tbody tr th:only-of-type {\n",
       "        vertical-align: middle;\n",
       "    }\n",
       "\n",
       "    .dataframe tbody tr th {\n",
       "        vertical-align: top;\n",
       "    }\n",
       "\n",
       "    .dataframe thead th {\n",
       "        text-align: right;\n",
       "    }\n",
       "</style>\n",
       "<table border=\"1\" class=\"dataframe\">\n",
       "  <thead>\n",
       "    <tr style=\"text-align: right;\">\n",
       "      <th></th>\n",
       "      <th>MAE</th>\n",
       "      <th>MAPE</th>\n",
       "      <th>RMSE</th>\n",
       "      <th>R^2</th>\n",
       "    </tr>\n",
       "  </thead>\n",
       "  <tbody>\n",
       "    <tr>\n",
       "      <th>0</th>\n",
       "      <td>1.296009</td>\n",
       "      <td>17.614961</td>\n",
       "      <td>2.279274</td>\n",
       "      <td>0.910041</td>\n",
       "    </tr>\n",
       "  </tbody>\n",
       "</table>\n",
       "</div>"
      ],
      "text/plain": [
       "        MAE       MAPE      RMSE       R^2\n",
       "0  1.296009  17.614961  2.279274  0.910041"
      ]
     },
     "execution_count": 67,
     "metadata": {},
     "output_type": "execute_result"
    },
    {
     "data": {
      "application/javascript": [
       "\n",
       "            setTimeout(function() {\n",
       "                var nbb_cell_id = 67;\n",
       "                var nbb_unformatted_code = \"# Checking model performance on test set\\nprint(\\\"Test Performance\\\\n\\\")\\nmodel_perf(linearregression, X_test, y_test)\";\n",
       "                var nbb_formatted_code = \"# Checking model performance on test set\\nprint(\\\"Test Performance\\\\n\\\")\\nmodel_perf(linearregression, X_test, y_test)\";\n",
       "                var nbb_cells = Jupyter.notebook.get_cells();\n",
       "                for (var i = 0; i < nbb_cells.length; ++i) {\n",
       "                    if (nbb_cells[i].input_prompt_number == nbb_cell_id) {\n",
       "                        if (nbb_cells[i].get_text() == nbb_unformatted_code) {\n",
       "                             nbb_cells[i].set_text(nbb_formatted_code);\n",
       "                        }\n",
       "                        break;\n",
       "                    }\n",
       "                }\n",
       "            }, 500);\n",
       "            "
      ],
      "text/plain": [
       "<IPython.core.display.Javascript object>"
      ]
     },
     "metadata": {},
     "output_type": "display_data"
    }
   ],
   "source": [
    "# Checking model performance on test set\n",
    "print(\"Test Performance\\n\")\n",
    "model_perf(linearregression, X_test, y_test)"
   ]
  },
  {
   "cell_type": "markdown",
   "metadata": {},
   "source": [
    "**Insights**\n",
    "* The training and test scores are 90% and 91% respectively, so it seems the model is a good fit.\n",
    "* According to the MAE score, our current model can predict price within a mean error of 1.3 Lakhs on the test data.\n",
    "* According to the MAPE score, with the current model we can predict within 18% of the price."
   ]
  },
  {
   "cell_type": "markdown",
   "metadata": {},
   "source": [
    "**Linear Regression Model: statsmodel**"
   ]
  },
  {
   "cell_type": "code",
   "execution_count": 68,
   "metadata": {},
   "outputs": [
    {
     "name": "stdout",
     "output_type": "stream",
     "text": [
      "                            OLS Regression Results                            \n",
      "==============================================================================\n",
      "Dep. Variable:              Price_log   R-squared:                       0.924\n",
      "Model:                            OLS   Adj. R-squared:                  0.924\n",
      "Method:                 Least Squares   F-statistic:                     1144.\n",
      "Date:                Sat, 19 Jun 2021   Prob (F-statistic):               0.00\n",
      "Time:                        03:30:22   Log-Likelihood:                 983.66\n",
      "No. Observations:                3968   AIC:                            -1881.\n",
      "Df Residuals:                    3925   BIC:                            -1611.\n",
      "Df Model:                          42                                         \n",
      "Covariance Type:            nonrobust                                         \n",
      "=============================================================================================\n",
      "                                coef    std err          t      P>|t|      [0.025      0.975]\n",
      "---------------------------------------------------------------------------------------------\n",
      "const                        -0.9718      0.281     -3.454      0.001      -1.523      -0.420\n",
      "Mileage                      -0.0110      0.002     -7.154      0.000      -0.014      -0.008\n",
      "Seats                         0.0703      0.007      9.448      0.000       0.056       0.085\n",
      "Car_Age                      -0.0886      0.001    -66.095      0.000      -0.091      -0.086\n",
      "Engine_log                    0.2322      0.033      7.118      0.000       0.168       0.296\n",
      "Power_log                     0.5791      0.023     25.680      0.000       0.535       0.623\n",
      "Kilometers_Driven_log        -0.0689      0.006    -12.059      0.000      -0.080      -0.058\n",
      "Region_North                  0.1551      0.013     12.102      0.000       0.130       0.180\n",
      "Region_South                  0.2531      0.011     22.339      0.000       0.231       0.275\n",
      "Region_West                   0.1510      0.012     12.807      0.000       0.128       0.174\n",
      "Fuel_Type_Diesel              0.1642      0.037      4.459      0.000       0.092       0.236\n",
      "Fuel_Type_LPG                 0.0329      0.077      0.430      0.667      -0.117       0.183\n",
      "Fuel_Type_Petrol             -0.0218      0.037     -0.586      0.558      -0.095       0.051\n",
      "Owner_Type_Fourth & Above    -0.0613      0.078     -0.784      0.433      -0.214       0.092\n",
      "Owner_Type_Second            -0.0475      0.009     -5.375      0.000      -0.065      -0.030\n",
      "Owner_Type_Third             -0.1158      0.023     -4.937      0.000      -0.162      -0.070\n",
      "Transmission_Manual          -0.0940      0.010     -9.525      0.000      -0.113      -0.075\n",
      "Brand_Audi                    0.1595      0.194      0.823      0.411      -0.220       0.539\n",
      "Brand_Bmw                     0.1225      0.194      0.632      0.528      -0.258       0.503\n",
      "Brand_Chevrolet              -0.6957      0.194     -3.591      0.000      -1.075      -0.316\n",
      "Brand_Datsun                 -0.7465      0.204     -3.656      0.000      -1.147      -0.346\n",
      "Brand_Fiat                   -0.6718      0.198     -3.385      0.001      -1.061      -0.283\n",
      "Brand_Force                  -0.4593      0.222     -2.067      0.039      -0.895      -0.024\n",
      "Brand_Ford                   -0.5014      0.193     -2.602      0.009      -0.879      -0.124\n",
      "Brand_Honda                  -0.4628      0.193     -2.397      0.017      -0.841      -0.084\n",
      "Brand_Hyundai                -0.4447      0.193     -2.306      0.021      -0.823      -0.067\n",
      "Brand_Isuzu                  -0.5782      0.221     -2.611      0.009      -1.012      -0.144\n",
      "Brand_Jaguar                  0.1873      0.198      0.945      0.345      -0.201       0.576\n",
      "Brand_Jeep                   -0.2017      0.202     -0.996      0.319      -0.599       0.195\n",
      "Brand_Land                    0.4591      0.196      2.338      0.019       0.074       0.844\n",
      "Brand_Mahindra               -0.6062      0.193     -3.138      0.002      -0.985      -0.227\n",
      "Brand_Maruti                 -0.3970      0.193     -2.059      0.040      -0.775      -0.019\n",
      "Brand_Mercedes-Benz           0.1549      0.194      0.800      0.423      -0.225       0.534\n",
      "Brand_Mini                    0.5140      0.198      2.595      0.009       0.126       0.902\n",
      "Brand_Mitsubishi             -0.2730      0.196     -1.390      0.165      -0.658       0.112\n",
      "Brand_Nissan                 -0.4926      0.194     -2.540      0.011      -0.873      -0.112\n",
      "Brand_Porsche                 0.6293      0.271      2.320      0.020       0.098       1.161\n",
      "Brand_Renault                -0.4439      0.194     -2.293      0.022      -0.823      -0.064\n",
      "Brand_Skoda                  -0.3914      0.193     -2.024      0.043      -0.771      -0.012\n",
      "Brand_Tata                   -0.7187      0.193     -3.722      0.000      -1.097      -0.340\n",
      "Brand_Toyota                 -0.2803      0.193     -1.453      0.146      -0.658       0.098\n",
      "Brand_Volkswagen             -0.4755      0.193     -2.465      0.014      -0.854      -0.097\n",
      "Brand_Volvo                  -0.0255      0.199     -0.128      0.898      -0.416       0.364\n",
      "==============================================================================\n",
      "Omnibus:                      307.708   Durbin-Watson:                   1.973\n",
      "Prob(Omnibus):                  0.000   Jarque-Bera (JB):             1723.614\n",
      "Skew:                           0.068   Prob(JB):                         0.00\n",
      "Kurtosis:                       6.226   Cond. No.                     8.35e+03\n",
      "==============================================================================\n",
      "\n",
      "Notes:\n",
      "[1] Standard Errors assume that the covariance matrix of the errors is correctly specified.\n",
      "[2] The condition number is large, 8.35e+03. This might indicate that there are\n",
      "strong multicollinearity or other numerical problems.\n"
     ]
    },
    {
     "data": {
      "application/javascript": [
       "\n",
       "            setTimeout(function() {\n",
       "                var nbb_cell_id = 68;\n",
       "                var nbb_unformatted_code = \"# we have to add the constant manually in statsmodel\\nX = sm.add_constant(X)\\nX_train1, X_test, y_train, y_test = train_test_split(\\n    X, y, test_size=0.3, random_state=22\\n)\\n\\nolsmod0 = sm.OLS(y_train, X_train1)\\nolsres0 = olsmod0.fit()\\nprint(olsres0.summary())\";\n",
       "                var nbb_formatted_code = \"# we have to add the constant manually in statsmodel\\nX = sm.add_constant(X)\\nX_train1, X_test, y_train, y_test = train_test_split(\\n    X, y, test_size=0.3, random_state=22\\n)\\n\\nolsmod0 = sm.OLS(y_train, X_train1)\\nolsres0 = olsmod0.fit()\\nprint(olsres0.summary())\";\n",
       "                var nbb_cells = Jupyter.notebook.get_cells();\n",
       "                for (var i = 0; i < nbb_cells.length; ++i) {\n",
       "                    if (nbb_cells[i].input_prompt_number == nbb_cell_id) {\n",
       "                        if (nbb_cells[i].get_text() == nbb_unformatted_code) {\n",
       "                             nbb_cells[i].set_text(nbb_formatted_code);\n",
       "                        }\n",
       "                        break;\n",
       "                    }\n",
       "                }\n",
       "            }, 500);\n",
       "            "
      ],
      "text/plain": [
       "<IPython.core.display.Javascript object>"
      ]
     },
     "metadata": {},
     "output_type": "display_data"
    }
   ],
   "source": [
    "# we have to add the constant manually in statsmodel\n",
    "X = sm.add_constant(X)\n",
    "X_train1, X_test, y_train, y_test = train_test_split(\n",
    "    X, y, test_size=0.3, random_state=22\n",
    ")\n",
    "\n",
    "olsmod0 = sm.OLS(y_train, X_train1)\n",
    "olsres0 = olsmod0.fit()\n",
    "print(olsres0.summary())"
   ]
  },
  {
   "cell_type": "markdown",
   "metadata": {},
   "source": [
    "**Insights**\n",
    "* Variables with a negative coefficient have an inverse relationship with the price (price decreases when the other variable increases)\n",
    "* Variables with a positive coefficient have a direct relationship with the price (price increases when the other variable increases)\n",
    "* Any variable with a p-value less than 0.05 is considered significant, however we need to make sure that the variables aren't being affected by multicollinearity."
   ]
  },
  {
   "cell_type": "markdown",
   "metadata": {},
   "source": [
    "## Check Linear Assumptions"
   ]
  },
  {
   "cell_type": "markdown",
   "metadata": {},
   "source": [
    "**Test for Multicollinearity**"
   ]
  },
  {
   "cell_type": "code",
   "execution_count": 69,
   "metadata": {},
   "outputs": [
    {
     "name": "stdout",
     "output_type": "stream",
     "text": [
      "VIF Scores: \n",
      "\n",
      "const                        10393.054915\n",
      "Mileage                          4.037788\n",
      "Seats                            2.509333\n",
      "Car_Age                          2.058001\n",
      "Engine_log                      11.423070\n",
      "Power_log                        8.055472\n",
      "Kilometers_Driven_log            1.732811\n",
      "Region_North                     2.479668\n",
      "Region_South                     3.538142\n",
      "Region_West                      3.073332\n",
      "Fuel_Type_Diesel                34.808742\n",
      "Fuel_Type_LPG                    1.244500\n",
      "Fuel_Type_Petrol                35.354335\n",
      "Owner_Type_Fourth & Above        1.010107\n",
      "Owner_Type_Second                1.147194\n",
      "Owner_Type_Third                 1.099565\n",
      "Transmission_Manual              2.135829\n",
      "Brand_Audi                     203.486580\n",
      "Brand_Bmw                      221.911630\n",
      "Brand_Chevrolet                113.884215\n",
      "Brand_Datsun                    14.254511\n",
      "Brand_Fiat                      29.420796\n",
      "Brand_Force                      4.073163\n",
      "Brand_Ford                     289.289366\n",
      "Brand_Honda                    555.336085\n",
      "Brand_Hyundai                  909.587433\n",
      "Brand_Isuzu                      4.056302\n",
      "Brand_Jaguar                    31.644247\n",
      "Brand_Jeep                      16.353508\n",
      "Brand_Land                      41.598908\n",
      "Brand_Mahindra                 217.759835\n",
      "Brand_Maruti                   960.824878\n",
      "Brand_Mercedes-Benz            253.144881\n",
      "Brand_Mini                      27.532672\n",
      "Brand_Mitsubishi                28.305579\n",
      "Brand_Nissan                    92.247121\n",
      "Brand_Porsche                    2.028228\n",
      "Brand_Renault                  143.244351\n",
      "Brand_Skoda                    169.392474\n",
      "Brand_Tata                     182.328301\n",
      "Brand_Toyota                   325.098678\n",
      "Brand_Volkswagen               302.490050\n",
      "Brand_Volvo                     22.457078\n",
      "dtype: float64\n",
      "\n"
     ]
    },
    {
     "data": {
      "application/javascript": [
       "\n",
       "            setTimeout(function() {\n",
       "                var nbb_cell_id = 69;\n",
       "                var nbb_unformatted_code = \"# get the VIF scores\\nvif_series1 = pd.Series(\\n    [variance_inflation_factor(X.values, i) for i in range(X.shape[1])], index=X.columns\\n)\\nprint(\\\"VIF Scores: \\\\n\\\\n{}\\\\n\\\".format(vif_series1))\";\n",
       "                var nbb_formatted_code = \"# get the VIF scores\\nvif_series1 = pd.Series(\\n    [variance_inflation_factor(X.values, i) for i in range(X.shape[1])], index=X.columns\\n)\\nprint(\\\"VIF Scores: \\\\n\\\\n{}\\\\n\\\".format(vif_series1))\";\n",
       "                var nbb_cells = Jupyter.notebook.get_cells();\n",
       "                for (var i = 0; i < nbb_cells.length; ++i) {\n",
       "                    if (nbb_cells[i].input_prompt_number == nbb_cell_id) {\n",
       "                        if (nbb_cells[i].get_text() == nbb_unformatted_code) {\n",
       "                             nbb_cells[i].set_text(nbb_formatted_code);\n",
       "                        }\n",
       "                        break;\n",
       "                    }\n",
       "                }\n",
       "            }, 500);\n",
       "            "
      ],
      "text/plain": [
       "<IPython.core.display.Javascript object>"
      ]
     },
     "metadata": {},
     "output_type": "display_data"
    }
   ],
   "source": [
    "# get the VIF scores\n",
    "vif_series1 = pd.Series(\n",
    "    [variance_inflation_factor(X.values, i) for i in range(X.shape[1])], index=X.columns\n",
    ")\n",
    "print(\"VIF Scores: \\n\\n{}\\n\".format(vif_series1))"
   ]
  },
  {
   "cell_type": "markdown",
   "metadata": {},
   "source": [
    "There are a lot of values greater than 10, however we cannot drop columns we hot-encoded unless all of those columns are above 10. Because of the, the only column able to be dropped if the 'Engine' column. We noted earlier during the EDA process that 'Engine' and 'Power' are highly correlated, so it's not surprising that there would be overlap here."
   ]
  },
  {
   "cell_type": "code",
   "execution_count": 70,
   "metadata": {},
   "outputs": [
    {
     "name": "stdout",
     "output_type": "stream",
     "text": [
      "VIF Scores: \n",
      "\n",
      "const                        5217.189308\n",
      "Mileage                         3.438416\n",
      "Seats                           2.474752\n",
      "Car_Age                         2.068837\n",
      "Power_log                       4.015742\n",
      "Kilometers_Driven_log           1.767385\n",
      "Region_North                    2.477310\n",
      "Region_South                    3.518123\n",
      "Region_West                     3.046013\n",
      "Fuel_Type_Diesel               37.187122\n",
      "Fuel_Type_LPG                   1.296385\n",
      "Fuel_Type_Petrol               37.483295\n",
      "Owner_Type_Fourth & Above       1.013325\n",
      "Owner_Type_Second               1.141341\n",
      "Owner_Type_Third                1.107443\n",
      "Transmission_Manual             2.152913\n",
      "Brand_Audi                    152.770728\n",
      "Brand_Bmw                     166.467869\n",
      "Brand_Chevrolet                73.358657\n",
      "Brand_Datsun                    9.214862\n",
      "Brand_Fiat                     17.335316\n",
      "Brand_Force                     4.098600\n",
      "Brand_Ford                    205.391983\n",
      "Brand_Honda                   387.655036\n",
      "Brand_Hyundai                 651.241985\n",
      "Brand_Isuzu                     4.078459\n",
      "Brand_Jaguar                   21.624735\n",
      "Brand_Jeep                     11.299416\n",
      "Brand_Land                     27.581594\n",
      "Brand_Mahindra                159.713974\n",
      "Brand_Maruti                  664.263882\n",
      "Brand_Mercedes-Benz           181.950186\n",
      "Brand_Mini                     20.538001\n",
      "Brand_Mitsubishi               22.353563\n",
      "Brand_Nissan                   63.574831\n",
      "Brand_Porsche                   2.039154\n",
      "Brand_Renault                  95.108069\n",
      "Brand_Skoda                   124.449912\n",
      "Brand_Tata                    126.799979\n",
      "Brand_Toyota                  228.961129\n",
      "Brand_Volkswagen              203.918558\n",
      "Brand_Volvo                    17.435223\n",
      "dtype: float64\n",
      "\n"
     ]
    },
    {
     "data": {
      "application/javascript": [
       "\n",
       "            setTimeout(function() {\n",
       "                var nbb_cell_id = 70;\n",
       "                var nbb_unformatted_code = \"# drop Engine and check the adjusted R-squared\\nX_train2 = X_train1.drop(\\\"Engine_log\\\", axis=1)\\nvif_series2 = pd.Series(\\n    [variance_inflation_factor(X_train2.values, i) for i in range(X_train2.shape[1])],\\n    index=X_train2.columns,\\n)\\nprint(\\\"VIF Scores: \\\\n\\\\n{}\\\\n\\\".format(vif_series2))\";\n",
       "                var nbb_formatted_code = \"# drop Engine and check the adjusted R-squared\\nX_train2 = X_train1.drop(\\\"Engine_log\\\", axis=1)\\nvif_series2 = pd.Series(\\n    [variance_inflation_factor(X_train2.values, i) for i in range(X_train2.shape[1])],\\n    index=X_train2.columns,\\n)\\nprint(\\\"VIF Scores: \\\\n\\\\n{}\\\\n\\\".format(vif_series2))\";\n",
       "                var nbb_cells = Jupyter.notebook.get_cells();\n",
       "                for (var i = 0; i < nbb_cells.length; ++i) {\n",
       "                    if (nbb_cells[i].input_prompt_number == nbb_cell_id) {\n",
       "                        if (nbb_cells[i].get_text() == nbb_unformatted_code) {\n",
       "                             nbb_cells[i].set_text(nbb_formatted_code);\n",
       "                        }\n",
       "                        break;\n",
       "                    }\n",
       "                }\n",
       "            }, 500);\n",
       "            "
      ],
      "text/plain": [
       "<IPython.core.display.Javascript object>"
      ]
     },
     "metadata": {},
     "output_type": "display_data"
    }
   ],
   "source": [
    "# drop Engine and check the adjusted R-squared\n",
    "X_train2 = X_train1.drop(\"Engine_log\", axis=1)\n",
    "vif_series2 = pd.Series(\n",
    "    [variance_inflation_factor(X_train2.values, i) for i in range(X_train2.shape[1])],\n",
    "    index=X_train2.columns,\n",
    ")\n",
    "print(\"VIF Scores: \\n\\n{}\\n\".format(vif_series2))"
   ]
  },
  {
   "cell_type": "code",
   "execution_count": 71,
   "metadata": {
    "scrolled": false
   },
   "outputs": [
    {
     "name": "stdout",
     "output_type": "stream",
     "text": [
      "                            OLS Regression Results                            \n",
      "==============================================================================\n",
      "Dep. Variable:              Price_log   R-squared:                       0.924\n",
      "Model:                            OLS   Adj. R-squared:                  0.923\n",
      "Method:                 Least Squares   F-statistic:                     1156.\n",
      "Date:                Sat, 19 Jun 2021   Prob (F-statistic):               0.00\n",
      "Time:                        03:30:23   Log-Likelihood:                 958.21\n",
      "No. Observations:                3968   AIC:                            -1832.\n",
      "Df Residuals:                    3926   BIC:                            -1568.\n",
      "Df Model:                          41                                         \n",
      "Covariance Type:            nonrobust                                         \n",
      "=============================================================================================\n",
      "                                coef    std err          t      P>|t|      [0.025      0.975]\n",
      "---------------------------------------------------------------------------------------------\n",
      "const                         0.2961      0.219      1.352      0.177      -0.133       0.726\n",
      "Mileage                      -0.0151      0.001    -10.608      0.000      -0.018      -0.012\n",
      "Seats                         0.0797      0.007     10.825      0.000       0.065       0.094\n",
      "Car_Age                      -0.0879      0.001    -65.340      0.000      -0.091      -0.085\n",
      "Power_log                     0.6918      0.016     42.828      0.000       0.660       0.724\n",
      "Kilometers_Driven_log        -0.0683      0.006    -11.875      0.000      -0.080      -0.057\n",
      "Region_North                  0.1544      0.013     11.969      0.000       0.129       0.180\n",
      "Region_South                  0.2522      0.011     22.126      0.000       0.230       0.275\n",
      "Region_West                   0.1516      0.012     12.778      0.000       0.128       0.175\n",
      "Fuel_Type_Diesel              0.1741      0.037      4.701      0.000       0.101       0.247\n",
      "Fuel_Type_LPG                 0.0111      0.077      0.144      0.886      -0.140       0.162\n",
      "Fuel_Type_Petrol             -0.0528      0.037     -1.420      0.156      -0.126       0.020\n",
      "Owner_Type_Fourth & Above    -0.0616      0.079     -0.784      0.433      -0.216       0.092\n",
      "Owner_Type_Second            -0.0481      0.009     -5.407      0.000      -0.066      -0.031\n",
      "Owner_Type_Third             -0.1149      0.024     -4.868      0.000      -0.161      -0.069\n",
      "Transmission_Manual          -0.0944      0.010     -9.497      0.000      -0.114      -0.075\n",
      "Brand_Audi                    0.0835      0.195      0.429      0.668      -0.298       0.465\n",
      "Brand_Bmw                     0.0496      0.195      0.255      0.799      -0.333       0.432\n",
      "Brand_Chevrolet              -0.7721      0.195     -3.967      0.000      -1.154      -0.390\n",
      "Brand_Datsun                 -0.8140      0.205     -3.965      0.000      -1.216      -0.412\n",
      "Brand_Fiat                   -0.7655      0.199     -3.841      0.000      -1.156      -0.375\n",
      "Brand_Force                  -0.5152      0.223     -2.306      0.021      -0.953      -0.077\n",
      "Brand_Ford                   -0.5580      0.194     -2.880      0.004      -0.938      -0.178\n",
      "Brand_Honda                  -0.5244      0.194     -2.701      0.007      -0.905      -0.144\n",
      "Brand_Hyundai                -0.5184      0.194     -2.675      0.007      -0.898      -0.138\n",
      "Brand_Isuzu                  -0.5960      0.223     -2.674      0.008      -1.033      -0.159\n",
      "Brand_Jaguar                  0.1238      0.199      0.622      0.534      -0.267       0.514\n",
      "Brand_Jeep                   -0.2887      0.203     -1.419      0.156      -0.687       0.110\n",
      "Brand_Land                    0.3973      0.197      2.012      0.044       0.010       0.784\n",
      "Brand_Mahindra               -0.6560      0.194     -3.376      0.001      -1.037      -0.275\n",
      "Brand_Maruti                 -0.4725      0.194     -2.439      0.015      -0.852      -0.093\n",
      "Brand_Mercedes-Benz           0.0948      0.195      0.487      0.626      -0.287       0.476\n",
      "Brand_Mini                    0.4609      0.199      2.315      0.021       0.070       0.851\n",
      "Brand_Mitsubishi             -0.2923      0.198     -1.479      0.139      -0.680       0.095\n",
      "Brand_Nissan                 -0.5473      0.195     -2.806      0.005      -0.930      -0.165\n",
      "Brand_Porsche                 0.5924      0.273      2.171      0.030       0.057       1.127\n",
      "Brand_Renault                -0.5216      0.195     -2.682      0.007      -0.903      -0.140\n",
      "Brand_Skoda                  -0.4459      0.194     -2.293      0.022      -0.827      -0.065\n",
      "Brand_Tata                   -0.7872      0.194     -4.057      0.000      -1.168      -0.407\n",
      "Brand_Toyota                 -0.3155      0.194     -1.626      0.104      -0.696       0.065\n",
      "Brand_Volkswagen             -0.5420      0.194     -2.795      0.005      -0.922      -0.162\n",
      "Brand_Volvo                  -0.1078      0.200     -0.539      0.590      -0.500       0.284\n",
      "==============================================================================\n",
      "Omnibus:                      316.628   Durbin-Watson:                   1.973\n",
      "Prob(Omnibus):                  0.000   Jarque-Bera (JB):             1771.626\n",
      "Skew:                           0.113   Prob(JB):                         0.00\n",
      "Kurtosis:                       6.266   Cond. No.                     7.98e+03\n",
      "==============================================================================\n",
      "\n",
      "Notes:\n",
      "[1] Standard Errors assume that the covariance matrix of the errors is correctly specified.\n",
      "[2] The condition number is large, 7.98e+03. This might indicate that there are\n",
      "strong multicollinearity or other numerical problems.\n"
     ]
    },
    {
     "data": {
      "application/javascript": [
       "\n",
       "            setTimeout(function() {\n",
       "                var nbb_cell_id = 71;\n",
       "                var nbb_unformatted_code = \"olsmod1 = sm.OLS(y_train, X_train2)\\nolsres1 = olsmod1.fit()\\nprint(olsres1.summary())\";\n",
       "                var nbb_formatted_code = \"olsmod1 = sm.OLS(y_train, X_train2)\\nolsres1 = olsmod1.fit()\\nprint(olsres1.summary())\";\n",
       "                var nbb_cells = Jupyter.notebook.get_cells();\n",
       "                for (var i = 0; i < nbb_cells.length; ++i) {\n",
       "                    if (nbb_cells[i].input_prompt_number == nbb_cell_id) {\n",
       "                        if (nbb_cells[i].get_text() == nbb_unformatted_code) {\n",
       "                             nbb_cells[i].set_text(nbb_formatted_code);\n",
       "                        }\n",
       "                        break;\n",
       "                    }\n",
       "                }\n",
       "            }, 500);\n",
       "            "
      ],
      "text/plain": [
       "<IPython.core.display.Javascript object>"
      ]
     },
     "metadata": {},
     "output_type": "display_data"
    }
   ],
   "source": [
    "olsmod1 = sm.OLS(y_train, X_train2)\n",
    "olsres1 = olsmod1.fit()\n",
    "print(olsres1.summary())"
   ]
  },
  {
   "cell_type": "markdown",
   "metadata": {},
   "source": [
    "We cannot remove any more columns now as all that's left over the threshold are a few of the hot-encoded columns so I will move on without dropping any more data."
   ]
  },
  {
   "cell_type": "markdown",
   "metadata": {},
   "source": [
    "**Mean of Residuals**"
   ]
  },
  {
   "cell_type": "code",
   "execution_count": 72,
   "metadata": {},
   "outputs": [
    {
     "data": {
      "text/plain": [
       "-1.928564834711764e-15"
      ]
     },
     "execution_count": 72,
     "metadata": {},
     "output_type": "execute_result"
    },
    {
     "data": {
      "application/javascript": [
       "\n",
       "            setTimeout(function() {\n",
       "                var nbb_cell_id = 72;\n",
       "                var nbb_unformatted_code = \"residual = olsres1.resid\\nnp.mean(residual)\";\n",
       "                var nbb_formatted_code = \"residual = olsres1.resid\\nnp.mean(residual)\";\n",
       "                var nbb_cells = Jupyter.notebook.get_cells();\n",
       "                for (var i = 0; i < nbb_cells.length; ++i) {\n",
       "                    if (nbb_cells[i].input_prompt_number == nbb_cell_id) {\n",
       "                        if (nbb_cells[i].get_text() == nbb_unformatted_code) {\n",
       "                             nbb_cells[i].set_text(nbb_formatted_code);\n",
       "                        }\n",
       "                        break;\n",
       "                    }\n",
       "                }\n",
       "            }, 500);\n",
       "            "
      ],
      "text/plain": [
       "<IPython.core.display.Javascript object>"
      ]
     },
     "metadata": {},
     "output_type": "display_data"
    }
   ],
   "source": [
    "residual = olsres1.resid\n",
    "np.mean(residual)"
   ]
  },
  {
   "cell_type": "markdown",
   "metadata": {},
   "source": [
    "The second linear assumption check is the mean of residuals and it is very close to 0 so it passes."
   ]
  },
  {
   "cell_type": "markdown",
   "metadata": {},
   "source": [
    "**Test for Linearity**"
   ]
  },
  {
   "cell_type": "code",
   "execution_count": 73,
   "metadata": {},
   "outputs": [
    {
     "data": {
      "application/javascript": [
       "\n",
       "            setTimeout(function() {\n",
       "                var nbb_cell_id = 73;\n",
       "                var nbb_unformatted_code = \"# plot of fitted values vs residuals to check linearity\\nresidual = olsres1.resid\\nfitted = np.exp(olsres1.fittedvalues) - 1  # predicted values\";\n",
       "                var nbb_formatted_code = \"# plot of fitted values vs residuals to check linearity\\nresidual = olsres1.resid\\nfitted = np.exp(olsres1.fittedvalues) - 1  # predicted values\";\n",
       "                var nbb_cells = Jupyter.notebook.get_cells();\n",
       "                for (var i = 0; i < nbb_cells.length; ++i) {\n",
       "                    if (nbb_cells[i].input_prompt_number == nbb_cell_id) {\n",
       "                        if (nbb_cells[i].get_text() == nbb_unformatted_code) {\n",
       "                             nbb_cells[i].set_text(nbb_formatted_code);\n",
       "                        }\n",
       "                        break;\n",
       "                    }\n",
       "                }\n",
       "            }, 500);\n",
       "            "
      ],
      "text/plain": [
       "<IPython.core.display.Javascript object>"
      ]
     },
     "metadata": {},
     "output_type": "display_data"
    }
   ],
   "source": [
    "# plot of fitted values vs residuals to check linearity\n",
    "residual = olsres1.resid\n",
    "fitted = np.exp(olsres1.fittedvalues) - 1  # predicted values"
   ]
  },
  {
   "cell_type": "code",
   "execution_count": 74,
   "metadata": {},
   "outputs": [
    {
     "data": {
      "image/png": "[encoded data removed]",
      "text/plain": [
       "<Figure size 432x288 with 1 Axes>"
      ]
     },
     "metadata": {},
     "output_type": "display_data"
    },
    {
     "data": {
      "application/javascript": [
       "\n",
       "            setTimeout(function() {\n",
       "                var nbb_cell_id = 74;\n",
       "                var nbb_unformatted_code = \"sns.set_style(\\\"whitegrid\\\")\\nsns.residplot(fitted, residual, color=\\\"purple\\\", lowess=True)\\nplt.xlabel(\\\"Fitted Values\\\")\\nplt.ylabel(\\\"Residuals\\\")\\nplt.title(\\\"Residual vs Fitted plot\\\")\\nplt.show()\";\n",
       "                var nbb_formatted_code = \"sns.set_style(\\\"whitegrid\\\")\\nsns.residplot(fitted, residual, color=\\\"purple\\\", lowess=True)\\nplt.xlabel(\\\"Fitted Values\\\")\\nplt.ylabel(\\\"Residuals\\\")\\nplt.title(\\\"Residual vs Fitted plot\\\")\\nplt.show()\";\n",
       "                var nbb_cells = Jupyter.notebook.get_cells();\n",
       "                for (var i = 0; i < nbb_cells.length; ++i) {\n",
       "                    if (nbb_cells[i].input_prompt_number == nbb_cell_id) {\n",
       "                        if (nbb_cells[i].get_text() == nbb_unformatted_code) {\n",
       "                             nbb_cells[i].set_text(nbb_formatted_code);\n",
       "                        }\n",
       "                        break;\n",
       "                    }\n",
       "                }\n",
       "            }, 500);\n",
       "            "
      ],
      "text/plain": [
       "<IPython.core.display.Javascript object>"
      ]
     },
     "metadata": {},
     "output_type": "display_data"
    }
   ],
   "source": [
    "sns.set_style(\"whitegrid\")\n",
    "sns.residplot(fitted, residual, color=\"purple\", lowess=True)\n",
    "plt.xlabel(\"Fitted Values\")\n",
    "plt.ylabel(\"Residuals\")\n",
    "plt.title(\"Residual vs Fitted plot\")\n",
    "plt.show()"
   ]
  },
  {
   "cell_type": "markdown",
   "metadata": {},
   "source": [
    "This scatter plot shows the distribution of residuals against the fitted values. If a pattern exist then that is a sign of non-linearity. While there is some pattern towards the far right, the majority of the plot has not pattern and the assumption is satisfied. \n",
    "\n",
    "\n",
    "The pattern towards the far right can be explained by the lack of data for higher end/more expensive cars. Because of this, the model is best for predicting the price for lower/middle range cars."
   ]
  },
  {
   "cell_type": "markdown",
   "metadata": {},
   "source": [
    "**Test for Noramilty**"
   ]
  },
  {
   "cell_type": "code",
   "execution_count": 75,
   "metadata": {},
   "outputs": [
    {
     "data": {
      "image/png": "[encoded data removed]",
      "text/plain": [
       "<Figure size 432x288 with 1 Axes>"
      ]
     },
     "metadata": {},
     "output_type": "display_data"
    },
    {
     "data": {
      "application/javascript": [
       "\n",
       "            setTimeout(function() {\n",
       "                var nbb_cell_id = 75;\n",
       "                var nbb_unformatted_code = \"# plot residuals\\nsns.distplot(residual)\\nplt.title(\\\"Normality of residuals\\\")\\nplt.show()\";\n",
       "                var nbb_formatted_code = \"# plot residuals\\nsns.distplot(residual)\\nplt.title(\\\"Normality of residuals\\\")\\nplt.show()\";\n",
       "                var nbb_cells = Jupyter.notebook.get_cells();\n",
       "                for (var i = 0; i < nbb_cells.length; ++i) {\n",
       "                    if (nbb_cells[i].input_prompt_number == nbb_cell_id) {\n",
       "                        if (nbb_cells[i].get_text() == nbb_unformatted_code) {\n",
       "                             nbb_cells[i].set_text(nbb_formatted_code);\n",
       "                        }\n",
       "                        break;\n",
       "                    }\n",
       "                }\n",
       "            }, 500);\n",
       "            "
      ],
      "text/plain": [
       "<IPython.core.display.Javascript object>"
      ]
     },
     "metadata": {},
     "output_type": "display_data"
    }
   ],
   "source": [
    "# plot residuals\n",
    "sns.distplot(residual)\n",
    "plt.title(\"Normality of residuals\")\n",
    "plt.show()"
   ]
  },
  {
   "cell_type": "markdown",
   "metadata": {},
   "source": [
    "The residuals appear to be following a normal distribution, this can be checked further with a QQ plot."
   ]
  },
  {
   "cell_type": "code",
   "execution_count": 76,
   "metadata": {},
   "outputs": [
    {
     "data": {
      "image/png": "[encoded data removed]",
      "text/plain": [
       "<Figure size 432x288 with 1 Axes>"
      ]
     },
     "metadata": {},
     "output_type": "display_data"
    },
    {
     "data": {
      "application/javascript": [
       "\n",
       "            setTimeout(function() {\n",
       "                var nbb_cell_id = 76;\n",
       "                var nbb_unformatted_code = \"stats.probplot(residual, dist=\\\"norm\\\", plot=pylab)\\nplt.show()\";\n",
       "                var nbb_formatted_code = \"stats.probplot(residual, dist=\\\"norm\\\", plot=pylab)\\nplt.show()\";\n",
       "                var nbb_cells = Jupyter.notebook.get_cells();\n",
       "                for (var i = 0; i < nbb_cells.length; ++i) {\n",
       "                    if (nbb_cells[i].input_prompt_number == nbb_cell_id) {\n",
       "                        if (nbb_cells[i].get_text() == nbb_unformatted_code) {\n",
       "                             nbb_cells[i].set_text(nbb_formatted_code);\n",
       "                        }\n",
       "                        break;\n",
       "                    }\n",
       "                }\n",
       "            }, 500);\n",
       "            "
      ],
      "text/plain": [
       "<IPython.core.display.Javascript object>"
      ]
     },
     "metadata": {},
     "output_type": "display_data"
    }
   ],
   "source": [
    "stats.probplot(residual, dist=\"norm\", plot=pylab)\n",
    "plt.show()"
   ]
  },
  {
   "cell_type": "markdown",
   "metadata": {},
   "source": [
    "The QQ plot approximately follows a straight line and therefore we can say that the residuals are normal."
   ]
  },
  {
   "cell_type": "markdown",
   "metadata": {},
   "source": [
    "**Test for Homoscedasticity**"
   ]
  },
  {
   "cell_type": "code",
   "execution_count": 77,
   "metadata": {},
   "outputs": [
    {
     "data": {
      "text/plain": [
       "[('F statistic', 1.0311730050060397), ('p-value', 0.24940254785261723)]"
      ]
     },
     "execution_count": 77,
     "metadata": {},
     "output_type": "execute_result"
    },
    {
     "data": {
      "application/javascript": [
       "\n",
       "            setTimeout(function() {\n",
       "                var nbb_cell_id = 77;\n",
       "                var nbb_unformatted_code = \"# use the goldfeldquandt test\\nname = [\\\"F statistic\\\", \\\"p-value\\\"]\\ntest = sms.het_goldfeldquandt(residual, X_train)\\nlzip(name, test)\";\n",
       "                var nbb_formatted_code = \"# use the goldfeldquandt test\\nname = [\\\"F statistic\\\", \\\"p-value\\\"]\\ntest = sms.het_goldfeldquandt(residual, X_train)\\nlzip(name, test)\";\n",
       "                var nbb_cells = Jupyter.notebook.get_cells();\n",
       "                for (var i = 0; i < nbb_cells.length; ++i) {\n",
       "                    if (nbb_cells[i].input_prompt_number == nbb_cell_id) {\n",
       "                        if (nbb_cells[i].get_text() == nbb_unformatted_code) {\n",
       "                             nbb_cells[i].set_text(nbb_formatted_code);\n",
       "                        }\n",
       "                        break;\n",
       "                    }\n",
       "                }\n",
       "            }, 500);\n",
       "            "
      ],
      "text/plain": [
       "<IPython.core.display.Javascript object>"
      ]
     },
     "metadata": {},
     "output_type": "display_data"
    }
   ],
   "source": [
    "# use the goldfeldquandt test\n",
    "name = [\"F statistic\", \"p-value\"]\n",
    "test = sms.het_goldfeldquandt(residual, X_train)\n",
    "lzip(name, test)"
   ]
  },
  {
   "cell_type": "markdown",
   "metadata": {},
   "source": [
    "The p-value is greater than 0.05, therefore we can say that the residuals are homoscedastic and that the assuption of linearity is valid."
   ]
  },
  {
   "cell_type": "markdown",
   "metadata": {},
   "source": [
    "## Predicting on Test Data"
   ]
  },
  {
   "cell_type": "code",
   "execution_count": 78,
   "metadata": {},
   "outputs": [
    {
     "data": {
      "text/plain": [
       "Index(['const', 'Mileage', 'Seats', 'Car_Age', 'Power_log',\n",
       "       'Kilometers_Driven_log', 'Region_North', 'Region_South', 'Region_West',\n",
       "       'Fuel_Type_Diesel', 'Fuel_Type_LPG', 'Fuel_Type_Petrol',\n",
       "       'Owner_Type_Fourth & Above', 'Owner_Type_Second', 'Owner_Type_Third',\n",
       "       'Transmission_Manual', 'Brand_Audi', 'Brand_Bmw', 'Brand_Chevrolet',\n",
       "       'Brand_Datsun', 'Brand_Fiat', 'Brand_Force', 'Brand_Ford',\n",
       "       'Brand_Honda', 'Brand_Hyundai', 'Brand_Isuzu', 'Brand_Jaguar',\n",
       "       'Brand_Jeep', 'Brand_Land', 'Brand_Mahindra', 'Brand_Maruti',\n",
       "       'Brand_Mercedes-Benz', 'Brand_Mini', 'Brand_Mitsubishi', 'Brand_Nissan',\n",
       "       'Brand_Porsche', 'Brand_Renault', 'Brand_Skoda', 'Brand_Tata',\n",
       "       'Brand_Toyota', 'Brand_Volkswagen', 'Brand_Volvo'],\n",
       "      dtype='object')"
      ]
     },
     "execution_count": 78,
     "metadata": {},
     "output_type": "execute_result"
    },
    {
     "data": {
      "application/javascript": [
       "\n",
       "            setTimeout(function() {\n",
       "                var nbb_cell_id = 78;\n",
       "                var nbb_unformatted_code = \"X_train2.columns\";\n",
       "                var nbb_formatted_code = \"X_train2.columns\";\n",
       "                var nbb_cells = Jupyter.notebook.get_cells();\n",
       "                for (var i = 0; i < nbb_cells.length; ++i) {\n",
       "                    if (nbb_cells[i].input_prompt_number == nbb_cell_id) {\n",
       "                        if (nbb_cells[i].get_text() == nbb_unformatted_code) {\n",
       "                             nbb_cells[i].set_text(nbb_formatted_code);\n",
       "                        }\n",
       "                        break;\n",
       "                    }\n",
       "                }\n",
       "            }, 500);\n",
       "            "
      ],
      "text/plain": [
       "<IPython.core.display.Javascript object>"
      ]
     },
     "metadata": {},
     "output_type": "display_data"
    }
   ],
   "source": [
    "X_train2.columns"
   ]
  },
  {
   "cell_type": "code",
   "execution_count": 79,
   "metadata": {},
   "outputs": [
    {
     "data": {
      "application/javascript": [
       "\n",
       "            setTimeout(function() {\n",
       "                var nbb_cell_id = 79;\n",
       "                var nbb_unformatted_code = \"# Selecting columns from test data that we used to create our final model\\nX_test_final = X_test[X_train2.columns]\";\n",
       "                var nbb_formatted_code = \"# Selecting columns from test data that we used to create our final model\\nX_test_final = X_test[X_train2.columns]\";\n",
       "                var nbb_cells = Jupyter.notebook.get_cells();\n",
       "                for (var i = 0; i < nbb_cells.length; ++i) {\n",
       "                    if (nbb_cells[i].input_prompt_number == nbb_cell_id) {\n",
       "                        if (nbb_cells[i].get_text() == nbb_unformatted_code) {\n",
       "                             nbb_cells[i].set_text(nbb_formatted_code);\n",
       "                        }\n",
       "                        break;\n",
       "                    }\n",
       "                }\n",
       "            }, 500);\n",
       "            "
      ],
      "text/plain": [
       "<IPython.core.display.Javascript object>"
      ]
     },
     "metadata": {},
     "output_type": "display_data"
    }
   ],
   "source": [
    "# Selecting columns from test data that we used to create our final model\n",
    "X_test_final = X_test[X_train2.columns]"
   ]
  },
  {
   "cell_type": "code",
   "execution_count": 80,
   "metadata": {},
   "outputs": [
    {
     "data": {
      "text/html": [
       "<div>\n",
       "<style scoped>\n",
       "    .dataframe tbody tr th:only-of-type {\n",
       "        vertical-align: middle;\n",
       "    }\n",
       "\n",
       "    .dataframe tbody tr th {\n",
       "        vertical-align: top;\n",
       "    }\n",
       "\n",
       "    .dataframe thead th {\n",
       "        text-align: right;\n",
       "    }\n",
       "</style>\n",
       "<table border=\"1\" class=\"dataframe\">\n",
       "  <thead>\n",
       "    <tr style=\"text-align: right;\">\n",
       "      <th></th>\n",
       "      <th>const</th>\n",
       "      <th>Mileage</th>\n",
       "      <th>Seats</th>\n",
       "      <th>Car_Age</th>\n",
       "      <th>Power_log</th>\n",
       "      <th>Kilometers_Driven_log</th>\n",
       "      <th>Region_North</th>\n",
       "      <th>Region_South</th>\n",
       "      <th>Region_West</th>\n",
       "      <th>Fuel_Type_Diesel</th>\n",
       "      <th>...</th>\n",
       "      <th>Brand_Mini</th>\n",
       "      <th>Brand_Mitsubishi</th>\n",
       "      <th>Brand_Nissan</th>\n",
       "      <th>Brand_Porsche</th>\n",
       "      <th>Brand_Renault</th>\n",
       "      <th>Brand_Skoda</th>\n",
       "      <th>Brand_Tata</th>\n",
       "      <th>Brand_Toyota</th>\n",
       "      <th>Brand_Volkswagen</th>\n",
       "      <th>Brand_Volvo</th>\n",
       "    </tr>\n",
       "  </thead>\n",
       "  <tbody>\n",
       "    <tr>\n",
       "      <th>3828</th>\n",
       "      <td>1.0</td>\n",
       "      <td>18.90</td>\n",
       "      <td>5.0</td>\n",
       "      <td>6</td>\n",
       "      <td>4.220977</td>\n",
       "      <td>10.824388</td>\n",
       "      <td>0</td>\n",
       "      <td>1</td>\n",
       "      <td>0</td>\n",
       "      <td>0</td>\n",
       "      <td>...</td>\n",
       "      <td>0</td>\n",
       "      <td>0</td>\n",
       "      <td>0</td>\n",
       "      <td>0</td>\n",
       "      <td>0</td>\n",
       "      <td>0</td>\n",
       "      <td>0</td>\n",
       "      <td>0</td>\n",
       "      <td>0</td>\n",
       "      <td>0</td>\n",
       "    </tr>\n",
       "    <tr>\n",
       "      <th>2020</th>\n",
       "      <td>1.0</td>\n",
       "      <td>15.60</td>\n",
       "      <td>5.0</td>\n",
       "      <td>7</td>\n",
       "      <td>4.262962</td>\n",
       "      <td>9.986357</td>\n",
       "      <td>0</td>\n",
       "      <td>0</td>\n",
       "      <td>1</td>\n",
       "      <td>0</td>\n",
       "      <td>...</td>\n",
       "      <td>0</td>\n",
       "      <td>0</td>\n",
       "      <td>0</td>\n",
       "      <td>0</td>\n",
       "      <td>0</td>\n",
       "      <td>0</td>\n",
       "      <td>0</td>\n",
       "      <td>0</td>\n",
       "      <td>0</td>\n",
       "      <td>0</td>\n",
       "    </tr>\n",
       "    <tr>\n",
       "      <th>953</th>\n",
       "      <td>1.0</td>\n",
       "      <td>21.40</td>\n",
       "      <td>5.0</td>\n",
       "      <td>5</td>\n",
       "      <td>4.432007</td>\n",
       "      <td>9.611195</td>\n",
       "      <td>0</td>\n",
       "      <td>0</td>\n",
       "      <td>1</td>\n",
       "      <td>0</td>\n",
       "      <td>...</td>\n",
       "      <td>0</td>\n",
       "      <td>0</td>\n",
       "      <td>0</td>\n",
       "      <td>0</td>\n",
       "      <td>0</td>\n",
       "      <td>0</td>\n",
       "      <td>0</td>\n",
       "      <td>0</td>\n",
       "      <td>0</td>\n",
       "      <td>0</td>\n",
       "    </tr>\n",
       "    <tr>\n",
       "      <th>1648</th>\n",
       "      <td>1.0</td>\n",
       "      <td>16.98</td>\n",
       "      <td>5.0</td>\n",
       "      <td>8</td>\n",
       "      <td>4.206184</td>\n",
       "      <td>11.011852</td>\n",
       "      <td>0</td>\n",
       "      <td>1</td>\n",
       "      <td>0</td>\n",
       "      <td>0</td>\n",
       "      <td>...</td>\n",
       "      <td>0</td>\n",
       "      <td>0</td>\n",
       "      <td>0</td>\n",
       "      <td>0</td>\n",
       "      <td>0</td>\n",
       "      <td>0</td>\n",
       "      <td>0</td>\n",
       "      <td>0</td>\n",
       "      <td>0</td>\n",
       "      <td>0</td>\n",
       "    </tr>\n",
       "    <tr>\n",
       "      <th>1561</th>\n",
       "      <td>1.0</td>\n",
       "      <td>19.67</td>\n",
       "      <td>5.0</td>\n",
       "      <td>4</td>\n",
       "      <td>4.845761</td>\n",
       "      <td>10.565350</td>\n",
       "      <td>0</td>\n",
       "      <td>0</td>\n",
       "      <td>1</td>\n",
       "      <td>1</td>\n",
       "      <td>...</td>\n",
       "      <td>0</td>\n",
       "      <td>0</td>\n",
       "      <td>0</td>\n",
       "      <td>0</td>\n",
       "      <td>0</td>\n",
       "      <td>0</td>\n",
       "      <td>0</td>\n",
       "      <td>0</td>\n",
       "      <td>0</td>\n",
       "      <td>0</td>\n",
       "    </tr>\n",
       "  </tbody>\n",
       "</table>\n",
       "<p>5 rows × 42 columns</p>\n",
       "</div>"
      ],
      "text/plain": [
       "      const  Mileage  Seats Car_Age  Power_log  Kilometers_Driven_log  \\\n",
       "3828    1.0    18.90    5.0       6   4.220977              10.824388   \n",
       "2020    1.0    15.60    5.0       7   4.262962               9.986357   \n",
       "953     1.0    21.40    5.0       5   4.432007               9.611195   \n",
       "1648    1.0    16.98    5.0       8   4.206184              11.011852   \n",
       "1561    1.0    19.67    5.0       4   4.845761              10.565350   \n",
       "\n",
       "      Region_North  Region_South  Region_West  Fuel_Type_Diesel  ...  \\\n",
       "3828             0             1            0                 0  ...   \n",
       "2020             0             0            1                 0  ...   \n",
       "953              0             0            1                 0  ...   \n",
       "1648             0             1            0                 0  ...   \n",
       "1561             0             0            1                 1  ...   \n",
       "\n",
       "      Brand_Mini  Brand_Mitsubishi  Brand_Nissan  Brand_Porsche  \\\n",
       "3828           0                 0             0              0   \n",
       "2020           0                 0             0              0   \n",
       "953            0                 0             0              0   \n",
       "1648           0                 0             0              0   \n",
       "1561           0                 0             0              0   \n",
       "\n",
       "      Brand_Renault  Brand_Skoda  Brand_Tata  Brand_Toyota  Brand_Volkswagen  \\\n",
       "3828              0            0           0             0                 0   \n",
       "2020              0            0           0             0                 0   \n",
       "953               0            0           0             0                 0   \n",
       "1648              0            0           0             0                 0   \n",
       "1561              0            0           0             0                 0   \n",
       "\n",
       "      Brand_Volvo  \n",
       "3828            0  \n",
       "2020            0  \n",
       "953             0  \n",
       "1648            0  \n",
       "1561            0  \n",
       "\n",
       "[5 rows x 42 columns]"
      ]
     },
     "execution_count": 80,
     "metadata": {},
     "output_type": "execute_result"
    },
    {
     "data": {
      "application/javascript": [
       "\n",
       "            setTimeout(function() {\n",
       "                var nbb_cell_id = 80;\n",
       "                var nbb_unformatted_code = \"X_test_final.head()\";\n",
       "                var nbb_formatted_code = \"X_test_final.head()\";\n",
       "                var nbb_cells = Jupyter.notebook.get_cells();\n",
       "                for (var i = 0; i < nbb_cells.length; ++i) {\n",
       "                    if (nbb_cells[i].input_prompt_number == nbb_cell_id) {\n",
       "                        if (nbb_cells[i].get_text() == nbb_unformatted_code) {\n",
       "                             nbb_cells[i].set_text(nbb_formatted_code);\n",
       "                        }\n",
       "                        break;\n",
       "                    }\n",
       "                }\n",
       "            }, 500);\n",
       "            "
      ],
      "text/plain": [
       "<IPython.core.display.Javascript object>"
      ]
     },
     "metadata": {},
     "output_type": "display_data"
    }
   ],
   "source": [
    "X_test_final.head()"
   ]
  },
  {
   "cell_type": "code",
   "execution_count": 81,
   "metadata": {},
   "outputs": [
    {
     "name": "stdout",
     "output_type": "stream",
     "text": [
      "Train Performance\n",
      "\n"
     ]
    },
    {
     "data": {
      "text/html": [
       "<div>\n",
       "<style scoped>\n",
       "    .dataframe tbody tr th:only-of-type {\n",
       "        vertical-align: middle;\n",
       "    }\n",
       "\n",
       "    .dataframe tbody tr th {\n",
       "        vertical-align: top;\n",
       "    }\n",
       "\n",
       "    .dataframe thead th {\n",
       "        text-align: right;\n",
       "    }\n",
       "</style>\n",
       "<table border=\"1\" class=\"dataframe\">\n",
       "  <thead>\n",
       "    <tr style=\"text-align: right;\">\n",
       "      <th></th>\n",
       "      <th>MAE</th>\n",
       "      <th>MAPE</th>\n",
       "      <th>RMSE</th>\n",
       "      <th>R^2</th>\n",
       "    </tr>\n",
       "  </thead>\n",
       "  <tbody>\n",
       "    <tr>\n",
       "      <th>0</th>\n",
       "      <td>1.408953</td>\n",
       "      <td>18.452945</td>\n",
       "      <td>2.506725</td>\n",
       "      <td>0.899895</td>\n",
       "    </tr>\n",
       "  </tbody>\n",
       "</table>\n",
       "</div>"
      ],
      "text/plain": [
       "        MAE       MAPE      RMSE       R^2\n",
       "0  1.408953  18.452945  2.506725  0.899895"
      ]
     },
     "execution_count": 81,
     "metadata": {},
     "output_type": "execute_result"
    },
    {
     "data": {
      "application/javascript": [
       "\n",
       "            setTimeout(function() {\n",
       "                var nbb_cell_id = 81;\n",
       "                var nbb_unformatted_code = \"# Checking model performance on train set\\nprint(\\\"Train Performance\\\\n\\\")\\nmodel_perf(olsres1, X_train2.values, y_train)\";\n",
       "                var nbb_formatted_code = \"# Checking model performance on train set\\nprint(\\\"Train Performance\\\\n\\\")\\nmodel_perf(olsres1, X_train2.values, y_train)\";\n",
       "                var nbb_cells = Jupyter.notebook.get_cells();\n",
       "                for (var i = 0; i < nbb_cells.length; ++i) {\n",
       "                    if (nbb_cells[i].input_prompt_number == nbb_cell_id) {\n",
       "                        if (nbb_cells[i].get_text() == nbb_unformatted_code) {\n",
       "                             nbb_cells[i].set_text(nbb_formatted_code);\n",
       "                        }\n",
       "                        break;\n",
       "                    }\n",
       "                }\n",
       "            }, 500);\n",
       "            "
      ],
      "text/plain": [
       "<IPython.core.display.Javascript object>"
      ]
     },
     "metadata": {},
     "output_type": "display_data"
    }
   ],
   "source": [
    "# Checking model performance on train set\n",
    "print(\"Train Performance\\n\")\n",
    "model_perf(olsres1, X_train2.values, y_train)"
   ]
  },
  {
   "cell_type": "code",
   "execution_count": 82,
   "metadata": {
    "scrolled": true
   },
   "outputs": [
    {
     "name": "stdout",
     "output_type": "stream",
     "text": [
      "Test Performance\n",
      "\n"
     ]
    },
    {
     "data": {
      "text/html": [
       "<div>\n",
       "<style scoped>\n",
       "    .dataframe tbody tr th:only-of-type {\n",
       "        vertical-align: middle;\n",
       "    }\n",
       "\n",
       "    .dataframe tbody tr th {\n",
       "        vertical-align: top;\n",
       "    }\n",
       "\n",
       "    .dataframe thead th {\n",
       "        text-align: right;\n",
       "    }\n",
       "</style>\n",
       "<table border=\"1\" class=\"dataframe\">\n",
       "  <thead>\n",
       "    <tr style=\"text-align: right;\">\n",
       "      <th></th>\n",
       "      <th>MAE</th>\n",
       "      <th>MAPE</th>\n",
       "      <th>RMSE</th>\n",
       "      <th>R^2</th>\n",
       "    </tr>\n",
       "  </thead>\n",
       "  <tbody>\n",
       "    <tr>\n",
       "      <th>0</th>\n",
       "      <td>1.309502</td>\n",
       "      <td>17.749335</td>\n",
       "      <td>2.30476</td>\n",
       "      <td>0.908018</td>\n",
       "    </tr>\n",
       "  </tbody>\n",
       "</table>\n",
       "</div>"
      ],
      "text/plain": [
       "        MAE       MAPE     RMSE       R^2\n",
       "0  1.309502  17.749335  2.30476  0.908018"
      ]
     },
     "execution_count": 82,
     "metadata": {},
     "output_type": "execute_result"
    },
    {
     "data": {
      "application/javascript": [
       "\n",
       "            setTimeout(function() {\n",
       "                var nbb_cell_id = 82;\n",
       "                var nbb_unformatted_code = \"# Checking model performance on test set\\nprint(\\\"Test Performance\\\\n\\\")\\nmodel_perf(olsres1, X_test_final.values, y_test)\";\n",
       "                var nbb_formatted_code = \"# Checking model performance on test set\\nprint(\\\"Test Performance\\\\n\\\")\\nmodel_perf(olsres1, X_test_final.values, y_test)\";\n",
       "                var nbb_cells = Jupyter.notebook.get_cells();\n",
       "                for (var i = 0; i < nbb_cells.length; ++i) {\n",
       "                    if (nbb_cells[i].input_prompt_number == nbb_cell_id) {\n",
       "                        if (nbb_cells[i].get_text() == nbb_unformatted_code) {\n",
       "                             nbb_cells[i].set_text(nbb_formatted_code);\n",
       "                        }\n",
       "                        break;\n",
       "                    }\n",
       "                }\n",
       "            }, 500);\n",
       "            "
      ],
      "text/plain": [
       "<IPython.core.display.Javascript object>"
      ]
     },
     "metadata": {},
     "output_type": "display_data"
    }
   ],
   "source": [
    "# Checking model performance on test set\n",
    "print(\"Test Performance\\n\")\n",
    "model_perf(olsres1, X_test_final.values, y_test)"
   ]
  },
  {
   "cell_type": "markdown",
   "metadata": {},
   "source": [
    "**Insights**\n",
    "* The model has a low RMSE and MAE scores for both the test and train data. The errors for both are also comparable so we can confidently say there's no overfitting.\n",
    "* The model was able to explain 90% of the variation in the test data and according to the MAPE we can predict within 18% of the price which is not bad."
   ]
  },
  {
   "cell_type": "code",
   "execution_count": 83,
   "metadata": {},
   "outputs": [
    {
     "name": "stdout",
     "output_type": "stream",
     "text": [
      "                            OLS Regression Results                            \n",
      "==============================================================================\n",
      "Dep. Variable:              Price_log   R-squared:                       0.924\n",
      "Model:                            OLS   Adj. R-squared:                  0.923\n",
      "Method:                 Least Squares   F-statistic:                     1156.\n",
      "Date:                Sat, 19 Jun 2021   Prob (F-statistic):               0.00\n",
      "Time:                        03:30:25   Log-Likelihood:                 958.21\n",
      "No. Observations:                3968   AIC:                            -1832.\n",
      "Df Residuals:                    3926   BIC:                            -1568.\n",
      "Df Model:                          41                                         \n",
      "Covariance Type:            nonrobust                                         \n",
      "=============================================================================================\n",
      "                                coef    std err          t      P>|t|      [0.025      0.975]\n",
      "---------------------------------------------------------------------------------------------\n",
      "const                         0.2961      0.219      1.352      0.177      -0.133       0.726\n",
      "Mileage                      -0.0151      0.001    -10.608      0.000      -0.018      -0.012\n",
      "Seats                         0.0797      0.007     10.825      0.000       0.065       0.094\n",
      "Car_Age                      -0.0879      0.001    -65.340      0.000      -0.091      -0.085\n",
      "Power_log                     0.6918      0.016     42.828      0.000       0.660       0.724\n",
      "Kilometers_Driven_log        -0.0683      0.006    -11.875      0.000      -0.080      -0.057\n",
      "Region_North                  0.1544      0.013     11.969      0.000       0.129       0.180\n",
      "Region_South                  0.2522      0.011     22.126      0.000       0.230       0.275\n",
      "Region_West                   0.1516      0.012     12.778      0.000       0.128       0.175\n",
      "Fuel_Type_Diesel              0.1741      0.037      4.701      0.000       0.101       0.247\n",
      "Fuel_Type_LPG                 0.0111      0.077      0.144      0.886      -0.140       0.162\n",
      "Fuel_Type_Petrol             -0.0528      0.037     -1.420      0.156      -0.126       0.020\n",
      "Owner_Type_Fourth & Above    -0.0616      0.079     -0.784      0.433      -0.216       0.092\n",
      "Owner_Type_Second            -0.0481      0.009     -5.407      0.000      -0.066      -0.031\n",
      "Owner_Type_Third             -0.1149      0.024     -4.868      0.000      -0.161      -0.069\n",
      "Transmission_Manual          -0.0944      0.010     -9.497      0.000      -0.114      -0.075\n",
      "Brand_Audi                    0.0835      0.195      0.429      0.668      -0.298       0.465\n",
      "Brand_Bmw                     0.0496      0.195      0.255      0.799      -0.333       0.432\n",
      "Brand_Chevrolet              -0.7721      0.195     -3.967      0.000      -1.154      -0.390\n",
      "Brand_Datsun                 -0.8140      0.205     -3.965      0.000      -1.216      -0.412\n",
      "Brand_Fiat                   -0.7655      0.199     -3.841      0.000      -1.156      -0.375\n",
      "Brand_Force                  -0.5152      0.223     -2.306      0.021      -0.953      -0.077\n",
      "Brand_Ford                   -0.5580      0.194     -2.880      0.004      -0.938      -0.178\n",
      "Brand_Honda                  -0.5244      0.194     -2.701      0.007      -0.905      -0.144\n",
      "Brand_Hyundai                -0.5184      0.194     -2.675      0.007      -0.898      -0.138\n",
      "Brand_Isuzu                  -0.5960      0.223     -2.674      0.008      -1.033      -0.159\n",
      "Brand_Jaguar                  0.1238      0.199      0.622      0.534      -0.267       0.514\n",
      "Brand_Jeep                   -0.2887      0.203     -1.419      0.156      -0.687       0.110\n",
      "Brand_Land                    0.3973      0.197      2.012      0.044       0.010       0.784\n",
      "Brand_Mahindra               -0.6560      0.194     -3.376      0.001      -1.037      -0.275\n",
      "Brand_Maruti                 -0.4725      0.194     -2.439      0.015      -0.852      -0.093\n",
      "Brand_Mercedes-Benz           0.0948      0.195      0.487      0.626      -0.287       0.476\n",
      "Brand_Mini                    0.4609      0.199      2.315      0.021       0.070       0.851\n",
      "Brand_Mitsubishi             -0.2923      0.198     -1.479      0.139      -0.680       0.095\n",
      "Brand_Nissan                 -0.5473      0.195     -2.806      0.005      -0.930      -0.165\n",
      "Brand_Porsche                 0.5924      0.273      2.171      0.030       0.057       1.127\n",
      "Brand_Renault                -0.5216      0.195     -2.682      0.007      -0.903      -0.140\n",
      "Brand_Skoda                  -0.4459      0.194     -2.293      0.022      -0.827      -0.065\n",
      "Brand_Tata                   -0.7872      0.194     -4.057      0.000      -1.168      -0.407\n",
      "Brand_Toyota                 -0.3155      0.194     -1.626      0.104      -0.696       0.065\n",
      "Brand_Volkswagen             -0.5420      0.194     -2.795      0.005      -0.922      -0.162\n",
      "Brand_Volvo                  -0.1078      0.200     -0.539      0.590      -0.500       0.284\n",
      "==============================================================================\n",
      "Omnibus:                      316.628   Durbin-Watson:                   1.973\n",
      "Prob(Omnibus):                  0.000   Jarque-Bera (JB):             1771.626\n",
      "Skew:                           0.113   Prob(JB):                         0.00\n",
      "Kurtosis:                       6.266   Cond. No.                     7.98e+03\n",
      "==============================================================================\n",
      "\n",
      "Notes:\n",
      "[1] Standard Errors assume that the covariance matrix of the errors is correctly specified.\n",
      "[2] The condition number is large, 7.98e+03. This might indicate that there are\n",
      "strong multicollinearity or other numerical problems.\n"
     ]
    },
    {
     "data": {
      "application/javascript": [
       "\n",
       "            setTimeout(function() {\n",
       "                var nbb_cell_id = 83;\n",
       "                var nbb_unformatted_code = \"# print the model summary\\nolsmod1 = sm.OLS(y_train, X_train2)\\nolsres1 = olsmod1.fit()\\nprint(olsres1.summary())\";\n",
       "                var nbb_formatted_code = \"# print the model summary\\nolsmod1 = sm.OLS(y_train, X_train2)\\nolsres1 = olsmod1.fit()\\nprint(olsres1.summary())\";\n",
       "                var nbb_cells = Jupyter.notebook.get_cells();\n",
       "                for (var i = 0; i < nbb_cells.length; ++i) {\n",
       "                    if (nbb_cells[i].input_prompt_number == nbb_cell_id) {\n",
       "                        if (nbb_cells[i].get_text() == nbb_unformatted_code) {\n",
       "                             nbb_cells[i].set_text(nbb_formatted_code);\n",
       "                        }\n",
       "                        break;\n",
       "                    }\n",
       "                }\n",
       "            }, 500);\n",
       "            "
      ],
      "text/plain": [
       "<IPython.core.display.Javascript object>"
      ]
     },
     "metadata": {},
     "output_type": "display_data"
    }
   ],
   "source": [
    "# print the model summary\n",
    "olsmod1 = sm.OLS(y_train, X_train2)\n",
    "olsres1 = olsmod1.fit()\n",
    "print(olsres1.summary())"
   ]
  },
  {
   "cell_type": "markdown",
   "metadata": {},
   "source": [
    "## Business Recommendations"
   ]
  },
  {
   "cell_type": "markdown",
   "metadata": {},
   "source": [
    "* I reccommended the business focus on lower to mid range cars to resale. These cars more accessible to the general public since they are more affordable and a lower price is a huge inscentive to buying a used car. In addition to this, the model created here is best suited for predicting prices for lower to middle ranged cars and shouldn't be used for higher-end cars until further refinement with more data on those cars is done.\n",
    "* I reccommended to focus on cars younger than a decade, as older cars are worth significantly less and won't be as profitable.\n",
    "* There are a lot more manual cars in the market, however automatic cars are valued higher. I'd reccomend focusing on automatic cars as they are more profitable and there's not as much competition. "
   ]
  }
 ],
 "metadata": {
  "kernelspec": {
   "display_name": "Python 3",
   "language": "python",
   "name": "python3"
  },
  "language_info": {
   "codemirror_mode": {
    "name": "ipython",
    "version": 3
   },
   "file_extension": ".py",
   "mimetype": "text/x-python",
   "name": "python",
   "nbconvert_exporter": "python",
   "pygments_lexer": "ipython3",
   "version": "3.8.5"
  }
 },
 "nbformat": 4,
 "nbformat_minor": 4
}
